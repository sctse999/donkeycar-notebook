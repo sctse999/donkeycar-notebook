{
 "cells": [
  {
   "cell_type": "markdown",
   "id": "ed4e9546-4665-40a3-a04d-d19b6743c053",
   "metadata": {},
   "source": [
    "# Donkey Car FPS Logger"
   ]
  },
  {
   "cell_type": "markdown",
   "id": "4943d0d3-155b-458a-9b51-e882585bfb8b",
   "metadata": {},
   "source": [
    "## Frame per second logger\n",
    "\n",
    "What does a frame per second do? It simply means that how many times we have run within one second.\n",
    "\n",
    "Consider the Hello World program and the `rate_hz` parameter, is it possible to output 10,000 lines of `Hello World` if you have set `rate_hz` to 10,000?\n",
    "\n",
    "Let's try"
   ]
  },
  {
   "cell_type": "code",
   "execution_count": null,
   "id": "e0769342-6812-4654-a369-4100942dfaea",
   "metadata": {},
   "outputs": [],
   "source": [
    "import donkeycar as dk\n",
    "import time\n",
    "\n",
    "class HelloWorld:\n",
    "    def __init__(self):\n",
    "        self.current_time = None\n",
    "        \n",
    "        pass\n",
    "        \n",
    "    def run(self):\n",
    "        previous_timestamp = self.current_time\n",
    "        self.current_time = time.time()\n",
    "        # print(f\"last_time = \\t {previous_timestamp}\")\n",
    "        # print(f\"current_time = \\t {self.current_time}\" )\n",
    "\n",
    "        if previous_timestamp is not None:\n",
    "            difference = self.current_time - previous_timestamp\n",
    "            # print(f\"Difference = {difference}\")\n",
    "            loop_hz = 1 / difference\n",
    "            print(f\"Running {loop_hz} per second\\n\")\n",
    "\n",
    "class SlowPart():\n",
    "    def __init__(self):\n",
    "        pass\n",
    "\n",
    "    def run(self):\n",
    "        time.sleep(2)\n",
    "        \n",
    "V = dk.vehicle.Vehicle()\n",
    "\n",
    "V.add(camera())\n",
    "V.add(FinishLineDetector())\n",
    "\n",
    "V.add(HelloWorld())\n",
    "# V.add(SlowPart())\n",
    "\n",
    "V.start(rate_hz=50000)"
   ]
  },
  {
   "cell_type": "markdown",
   "id": "a0d26940-2e89-4742-bf61-2af47f7b51c5",
   "metadata": {},
   "source": [
    "Do you think it is really running at 10,000 times per second?\n",
    "\n",
    "Obviously not. How do we know exactly how much time it has run? Let's write a program"
   ]
  },
  {
   "cell_type": "code",
   "execution_count": 39,
   "id": "e9f4c302-564a-4d72-b62f-6ba7ad87451e",
   "metadata": {},
   "outputs": [],
   "source": [
    "\n",
    "def add_camera(V, cfg, camera_type):\n",
    "    \"\"\"\n",
    "    Add the configured camera to the vehicle pipeline.\n",
    "\n",
    "    :param V: the vehicle pipeline.\n",
    "              On output this will be modified.\n",
    "    :param cfg: the configuration (from myconfig.py)\n",
    "    \"\"\"\n",
    "    logger.info(\"cfg.CAMERA_TYPE %s\"%cfg.CAMERA_TYPE)\n",
    "    if camera_type == \"stereo\":\n",
    "        if cfg.CAMERA_TYPE == \"WEBCAM\":\n",
    "            from donkeycar.parts.camera import Webcam\n",
    "\n",
    "            camA = Webcam(image_w=cfg.IMAGE_W, image_h=cfg.IMAGE_H, image_d=cfg.IMAGE_DEPTH, iCam = 0)\n",
    "            camB = Webcam(image_w=cfg.IMAGE_W, image_h=cfg.IMAGE_H, image_d=cfg.IMAGE_DEPTH, iCam = 1)\n",
    "\n",
    "        elif cfg.CAMERA_TYPE == \"CVCAM\":\n",
    "            from donkeycar.parts.cv import CvCam\n",
    "\n",
    "            camA = CvCam(image_w=cfg.IMAGE_W, image_h=cfg.IMAGE_H, image_d=cfg.IMAGE_DEPTH, iCam = 0)\n",
    "            camB = CvCam(image_w=cfg.IMAGE_W, image_h=cfg.IMAGE_H, image_d=cfg.IMAGE_DEPTH, iCam = 1)\n",
    "        else:\n",
    "            raise(Exception(\"Unsupported camera type: %s\" % cfg.CAMERA_TYPE))\n",
    "\n",
    "        V.add(camA, outputs=['cam/image_array_a'], threaded=True)\n",
    "        V.add(camB, outputs=['cam/image_array_b'], threaded=True)\n",
    "\n",
    "        from donkeycar.parts.image import StereoPair\n",
    "\n",
    "        V.add(StereoPair(), inputs=['cam/image_array_a', 'cam/image_array_b'],\n",
    "            outputs=['cam/image_array'])\n",
    "        if cfg.BGR2RGB:\n",
    "            from donkeycar.parts.cv import ImgBGR2RGB\n",
    "            V.add(ImgBGR2RGB(), inputs=[\"cam/image_array_a\"], outputs=[\"cam/image_array_a\"])\n",
    "            V.add(ImgBGR2RGB(), inputs=[\"cam/image_array_b\"], outputs=[\"cam/image_array_b\"])\n",
    "\n",
    "    elif cfg.CAMERA_TYPE == \"D435\":\n",
    "        from donkeycar.parts.realsense435i import RealSense435i\n",
    "        cam = RealSense435i(\n",
    "            enable_rgb=cfg.REALSENSE_D435_RGB,\n",
    "            enable_depth=cfg.REALSENSE_D435_DEPTH,\n",
    "            enable_imu=cfg.REALSENSE_D435_IMU,\n",
    "            device_id=cfg.REALSENSE_D435_ID)\n",
    "        V.add(cam, inputs=[],\n",
    "              outputs=['cam/image_array', 'cam/depth_array',\n",
    "                       'imu/acl_x', 'imu/acl_y', 'imu/acl_z',\n",
    "                       'imu/gyr_x', 'imu/gyr_y', 'imu/gyr_z'],\n",
    "              threaded=True)\n",
    "    else:\n",
    "        inputs = []\n",
    "        outputs = ['cam/image_array']\n",
    "        threaded = True\n",
    "        cam = get_camera(cfg)\n",
    "        if cam:\n",
    "            V.add(cam, inputs=inputs, outputs=outputs, threaded=threaded)\n",
    "        if cfg.BGR2RGB:\n",
    "            from donkeycar.parts.cv import ImgBGR2RGB\n",
    "            V.add(ImgBGR2RGB(), inputs=[\"cam/image_array\"], outputs=[\"cam/image_array\"])"
   ]
  },
  {
   "cell_type": "markdown",
   "id": "7dc1bbae-c0cd-4b95-a9eb-47d6fd12e16a",
   "metadata": {},
   "source": [
    "Let's introduce an important library first. It is called `time`"
   ]
  },
  {
   "cell_type": "code",
   "execution_count": null,
   "id": "f4603654-f568-4dfc-a4a2-54923f4eed8b",
   "metadata": {},
   "outputs": [],
   "source": []
  },
  {
   "cell_type": "code",
   "execution_count": null,
   "id": "0e3b53eb-9c80-4adb-bd36-d48153a42483",
   "metadata": {},
   "outputs": [],
   "source": [
    "import time"
   ]
  },
  {
   "cell_type": "markdown",
   "id": "ecc0d46a-6b30-4c81-b7f4-e3cc21348e9a",
   "metadata": {},
   "source": [
    "It has a function called `time()` which return a timestamp. Google what a timestamp is."
   ]
  },
  {
   "cell_type": "code",
   "execution_count": null,
   "id": "b238910d-0e30-4d15-bade-4a8b8d91bc68",
   "metadata": {},
   "outputs": [],
   "source": [
    "time.time()"
   ]
  },
  {
   "cell_type": "markdown",
   "id": "d918c964-3bce-4082-8676-ca9668feadc1",
   "metadata": {},
   "source": [
    "## Challenge\n",
    "\n",
    "Now, use the following scaffold and write a program to calculate the fps"
   ]
  },
  {
   "cell_type": "code",
   "execution_count": null,
   "id": "dc125ca7-e653-41b1-a110-9eb0c237ce50",
   "metadata": {},
   "outputs": [],
   "source": [
    "class FrequencyLogger(object):\n",
    "    \"\"\"\n",
    "    Log current, min and max of frequency value\n",
    "    \"\"\"\n",
    "\n",
    "    def __init__(self):\n",
    "        pass\n",
    "\n",
    "    def run(self):\n",
    "        pass\n",
    "\n"
   ]
  },
  {
   "cell_type": "code",
   "execution_count": null,
   "id": "0c610d82-d1d3-4a13-853d-ac7d0411956a",
   "metadata": {},
   "outputs": [],
   "source": []
  },
  {
   "cell_type": "markdown",
   "id": "e885e6f8-b49b-46dd-a39f-e3bd9e8a0373",
   "metadata": {},
   "source": [
    "## Shutdown"
   ]
  },
  {
   "cell_type": "code",
   "execution_count": null,
   "id": "30e9c5f3-1cb8-441d-986e-adfb54831aa1",
   "metadata": {},
   "outputs": [],
   "source": [
    "\n",
    "    def shutdown(self):\n",
    "        if self.fps_list:\n",
    "            logger.info(f\"fps (min/max) = {min(self.fps_list):2d} / {max(self.fps_list):2d}\")\n",
    "            logger.info(f\"fps list = {self.fps_list}\".format())"
   ]
  }
 ],
 "metadata": {
  "kernelspec": {
   "display_name": "Python 3 (ipykernel)",
   "language": "python",
   "name": "python3"
  },
  "language_info": {
   "codemirror_mode": {
    "name": "ipython",
    "version": 3
   },
   "file_extension": ".py",
   "mimetype": "text/x-python",
   "name": "python",
   "nbconvert_exporter": "python",
   "pygments_lexer": "ipython3",
   "version": "3.9.2"
  }
 },
 "nbformat": 4,
 "nbformat_minor": 5
}
