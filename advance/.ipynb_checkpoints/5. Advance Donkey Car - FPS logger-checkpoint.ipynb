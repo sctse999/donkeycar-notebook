{
 "cells": [
  {
   "cell_type": "markdown",
   "id": "ed4e9546-4665-40a3-a04d-d19b6743c053",
   "metadata": {},
   "source": [
    "# Donkey Car FPS Logger"
   ]
  },
  {
   "cell_type": "markdown",
   "id": "4943d0d3-155b-458a-9b51-e882585bfb8b",
   "metadata": {},
   "source": [
    "## Frame per second logger\n",
    "\n",
    "What does a frame per second do? It simply means that how many times we have run within one second.\n",
    "\n",
    "Consider the Hello World program and the `rate_hz` parameter, is it possible to output 10,000 lines of `Hello World` if you have set `rate_hz` to 10,000?\n",
    "\n",
    "Let's try"
   ]
  },
  {
   "cell_type": "code",
   "execution_count": 37,
   "id": "e0769342-6812-4654-a369-4100942dfaea",
   "metadata": {},
   "outputs": [
    {
     "name": "stderr",
     "output_type": "stream",
     "text": [
      "INFO:donkeycar.vehicle:Adding part HelloWorld.\n",
      "INFO:donkeycar.vehicle:Starting vehicle at 5 Hz\n"
     ]
    },
    {
     "name": "stdout",
     "output_type": "stream",
     "text": [
      "Running 4.9931477169373775 per second\n",
      "\n",
      "Running 4.99361734805038 per second\n",
      "\n",
      "Running 4.993718419460993 per second\n",
      "\n",
      "Running 4.9941524784989575 per second\n",
      "\n",
      "Running 4.992470177092484 per second\n",
      "\n",
      "Running 4.993373604421089 per second\n",
      "\n",
      "Running 4.993278491410612 per second\n",
      "\n",
      "Running 4.996323906046376 per second\n",
      "\n",
      "Running 4.992886188539812 per second\n",
      "\n",
      "Running 4.992713832528851 per second\n",
      "\n",
      "Running 4.993718419460993 per second\n",
      "\n",
      "Running 4.992874301536323 per second\n",
      "\n",
      "Running 4.993046668626916 per second\n",
      "\n",
      "Running 4.992642516280858 per second\n",
      "\n",
      "Running 4.992701946346033 per second\n",
      "\n",
      "Running 4.992898075599902 per second\n",
      "\n",
      "Running 4.99315366108301 per second\n",
      "\n",
      "Running 4.992577144843282 per second\n",
      "\n",
      "Running 4.993028836996686 per second\n",
      "\n",
      "Running 4.992856471137215 per second\n",
      "\n",
      "Running 4.993629238592217 per second\n",
      "\n",
      "Running 4.993873007179512 per second\n",
      "\n",
      "Running 4.993902736684189 per second\n",
      "\n",
      "Running 4.994705567133075 per second\n",
      "\n",
      "Running 4.993480610889142 per second\n",
      "\n",
      "Running 4.994396298175046 per second\n",
      "\n",
      "Running 4.993991927322085 per second\n",
      "\n",
      "Running 4.993837332241134 per second\n",
      "\n",
      "Running 4.9939621967554695 per second\n",
      "\n",
      "Running 4.993700583032411 per second\n",
      "\n",
      "Running 4.994372509841559 per second\n",
      "\n",
      "Running 4.994628246302826 per second\n",
      "\n",
      "Running 4.993682746731244 per second\n",
      "\n",
      "Running 4.994628246302826 per second\n",
      "\n",
      "Running 4.99637747194953 per second\n",
      "\n",
      "Running 4.993985981180443 per second\n",
      "\n",
      "Running 4.993807603515176 per second\n",
      "\n",
      "Running 4.9940751747918695 per second\n",
      "\n",
      "Running 4.994134638969525 per second\n",
      "\n",
      "Running 4.9937243649655025 per second\n",
      "\n",
      "Running 4.994568770370088 per second\n",
      "\n",
      "Running 4.993849223830626 per second\n",
      "\n",
      "Running 4.994146531974986 per second\n",
      "\n",
      "Running 4.9942297845992645 per second\n",
      "\n",
      "Running 4.993510335721965 per second\n",
      "\n",
      "Running 4.994657984800383 per second\n",
      "\n",
      "Running 4.993843278028801 per second\n",
      "\n",
      "Running 4.9934152175025925 per second\n",
      "\n",
      "Running 4.992696003275848 per second\n",
      "\n",
      "Running 4.992707889430368 per second\n",
      "\n",
      "Running 4.993581676764622 per second\n",
      "\n",
      "Running 4.993968142840473 per second\n",
      "\n",
      "Running 4.992755434614405 per second\n",
      "\n",
      "Running 4.994205997851957 per second\n",
      "\n",
      "Running 4.992250313332056 per second\n",
      "\n",
      "Running 4.994015712030253 per second\n",
      "\n",
      "Running 4.99269006021981 per second\n",
      "\n",
      "Running 4.993123940496371 per second\n",
      "\n",
      "Running 4.99280892402886 per second\n",
      "\n",
      "Running 4.992684117177921 per second\n",
      "\n",
      "Running 4.993801657812459 per second\n",
      "\n",
      "Running 4.992820810721049 per second\n",
      "\n",
      "Running 4.992987230354781 per second\n",
      "\n",
      "Running 4.993902736684189 per second\n",
      "\n",
      "Running 4.9923988678050515 per second\n",
      "\n",
      "Running 4.993825440708276 per second\n",
      "\n"
     ]
    },
    {
     "name": "stderr",
     "output_type": "stream",
     "text": [
      "INFO:donkeycar.vehicle:Shutting down vehicle and its parts...\n",
      "INFO:donkeycar.vehicle:Part Profile Summary: (times in ms)\n",
      "INFO:donkeycar.vehicle:\n",
      "+------------+------+------+------+------+------+------+-------+\n",
      "|    part    | max  | min  | avg  | 50%  | 90%  | 99%  | 99.9% |\n",
      "+------------+------+------+------+------+------+------+-------+\n",
      "| HelloWorld | 0.44 | 0.06 | 0.20 | 0.18 | 0.33 | 0.41 |  0.44 |\n",
      "+------------+------+------+------+------+------+------+-------+\n"
     ]
    }
   ],
   "source": [
    "import donkeycar as dk\n",
    "import time\n",
    "\n",
    "class HelloWorld:\n",
    "    def __init__(self):\n",
    "        self.current_time = None\n",
    "        \n",
    "        pass\n",
    "        \n",
    "    def run(self):\n",
    "        previous_timestamp = self.current_time\n",
    "        self.current_time = time.time()\n",
    "        # print(f\"last_time = \\t {previous_timestamp}\")\n",
    "        # print(f\"current_time = \\t {self.current_time}\" )\n",
    "\n",
    "        if previous_timestamp is not None:\n",
    "            difference = self.current_time - previous_timestamp\n",
    "            # print(f\"Difference = {difference}\")\n",
    "            loop_hz = 1 / difference\n",
    "            print(f\"Running {loop_hz} per second\\n\")\n",
    "\n",
    "class SlowPart():\n",
    "    def __init__(self):\n",
    "        pass\n",
    "\n",
    "    def run(self):\n",
    "        time.sleep(2)\n",
    "        \n",
    "V = dk.vehicle.Vehicle()\n",
    "\n",
    "V.add(HelloWorld())\n",
    "# V.add(SlowPart())\n",
    "\n",
    "V.start(rate_hz=50000)"
   ]
  },
  {
   "cell_type": "markdown",
   "id": "a0d26940-2e89-4742-bf61-2af47f7b51c5",
   "metadata": {},
   "source": [
    "Do you think it is really running at 10,000 times per second?\n",
    "\n",
    "Obviously not. How do we know exactly how much time it has run? Let's write a program"
   ]
  },
  {
   "cell_type": "markdown",
   "id": "7dc1bbae-c0cd-4b95-a9eb-47d6fd12e16a",
   "metadata": {},
   "source": [
    "Let's introduce an important library first. It is called `time`"
   ]
  },
  {
   "cell_type": "code",
   "execution_count": 1,
   "id": "0e3b53eb-9c80-4adb-bd36-d48153a42483",
   "metadata": {},
   "outputs": [],
   "source": [
    "import time"
   ]
  },
  {
   "cell_type": "markdown",
   "id": "ecc0d46a-6b30-4c81-b7f4-e3cc21348e9a",
   "metadata": {},
   "source": [
    "It has a function called `time()` which return a timestamp. Google what a timestamp is."
   ]
  },
  {
   "cell_type": "code",
   "execution_count": 17,
   "id": "b238910d-0e30-4d15-bade-4a8b8d91bc68",
   "metadata": {},
   "outputs": [
    {
     "data": {
      "text/plain": [
       "1706862443.155253"
      ]
     },
     "execution_count": 17,
     "metadata": {},
     "output_type": "execute_result"
    }
   ],
   "source": [
    "time.time()"
   ]
  },
  {
   "cell_type": "markdown",
   "id": "d918c964-3bce-4082-8676-ca9668feadc1",
   "metadata": {},
   "source": [
    "## Challenge\n",
    "\n",
    "Now, use the following scaffold and write a program to calculate the fps"
   ]
  },
  {
   "cell_type": "code",
   "execution_count": null,
   "id": "dc125ca7-e653-41b1-a110-9eb0c237ce50",
   "metadata": {},
   "outputs": [],
   "source": [
    "class FrequencyLogger(object):\n",
    "    \"\"\"\n",
    "    Log current, min and max of frequency value\n",
    "    \"\"\"\n",
    "\n",
    "    def __init__(self):\n",
    "        pass\n",
    "\n",
    "    def run(self):\n",
    "        pass\n",
    "\n"
   ]
  },
  {
   "cell_type": "code",
   "execution_count": null,
   "id": "0c610d82-d1d3-4a13-853d-ac7d0411956a",
   "metadata": {},
   "outputs": [],
   "source": []
  },
  {
   "cell_type": "markdown",
   "id": "e885e6f8-b49b-46dd-a39f-e3bd9e8a0373",
   "metadata": {},
   "source": [
    "## Shutdown"
   ]
  },
  {
   "cell_type": "code",
   "execution_count": null,
   "id": "30e9c5f3-1cb8-441d-986e-adfb54831aa1",
   "metadata": {},
   "outputs": [],
   "source": [
    "\n",
    "    def shutdown(self):\n",
    "        if self.fps_list:\n",
    "            logger.info(f\"fps (min/max) = {min(self.fps_list):2d} / {max(self.fps_list):2d}\")\n",
    "            logger.info(f\"fps list = {self.fps_list}\".format())"
   ]
  }
 ],
 "metadata": {
  "kernelspec": {
   "display_name": "Python 3 (ipykernel)",
   "language": "python",
   "name": "python3"
  },
  "language_info": {
   "codemirror_mode": {
    "name": "ipython",
    "version": 3
   },
   "file_extension": ".py",
   "mimetype": "text/x-python",
   "name": "python",
   "nbconvert_exporter": "python",
   "pygments_lexer": "ipython3",
   "version": "3.9.2"
  }
 },
 "nbformat": 4,
 "nbformat_minor": 5
}
