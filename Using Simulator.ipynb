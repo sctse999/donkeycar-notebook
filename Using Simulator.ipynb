{
 "cells": [
  {
   "cell_type": "markdown",
   "id": "ac4aed98-d3db-4182-845f-3241630985a1",
   "metadata": {},
   "source": [
    "# Using Simulator"
   ]
  },
  {
   "cell_type": "markdown",
   "id": "cefe4683-dfd2-42e7-8fd5-c6e06d002b00",
   "metadata": {},
   "source": [
    "## Edit myconfig.py"
   ]
  },
  {
   "cell_type": "code",
   "execution_count": null,
   "id": "62a689b4-a586-4e6b-b067-7d44e2ad7dde",
   "metadata": {},
   "outputs": [],
   "source": [
    "DONKEY_GYM = True\n",
    "DONKEY_SIM_PATH = \"remote\"\n",
    "SIM_HOST=\"192.168.1.215\""
   ]
  },
  {
   "cell_type": "markdown",
   "id": "4052ec09-d4fc-47c3-aa21-7271eaa858e7",
   "metadata": {},
   "source": [
    "## Switch between physical controller and virtual controller"
   ]
  },
  {
   "cell_type": "markdown",
   "id": "f5324097-d742-4384-8525-e899b5a66e7d",
   "metadata": {},
   "source": [
    "### Use Physical Joystick"
   ]
  },
  {
   "cell_type": "code",
   "execution_count": null,
   "id": "5468caa2-e94e-4e9d-a1ee-0343bfae7cc4",
   "metadata": {},
   "outputs": [],
   "source": [
    "USE_JOYSTICK_AS_DEFAULT=True"
   ]
  },
  {
   "cell_type": "markdown",
   "id": "4fe24421-d590-4fb2-b535-cd7c010789a7",
   "metadata": {},
   "source": [
    "### Use Virtual Joystick (Donkeycar App)"
   ]
  },
  {
   "cell_type": "code",
   "execution_count": null,
   "id": "553cbfa2-09dd-4b24-8b35-233f1a58bf58",
   "metadata": {},
   "outputs": [],
   "source": [
    "USE_JOYSTICK_AS_DEFAULT=False"
   ]
  }
 ],
 "metadata": {
  "kernelspec": {
   "display_name": "Python 3 (ipykernel)",
   "language": "python",
   "name": "python3"
  },
  "language_info": {
   "codemirror_mode": {
    "name": "ipython",
    "version": 3
   },
   "file_extension": ".py",
   "mimetype": "text/x-python",
   "name": "python",
   "nbconvert_exporter": "python",
   "pygments_lexer": "ipython3",
   "version": "3.9.2"
  }
 },
 "nbformat": 4,
 "nbformat_minor": 5
}
