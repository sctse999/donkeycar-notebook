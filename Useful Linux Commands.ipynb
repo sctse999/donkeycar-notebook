{
 "cells": [
  {
   "cell_type": "markdown",
   "id": "64a37d8e-e5d8-478b-b928-acc4128d6b25",
   "metadata": {},
   "source": [
    "# Useful Linux Command"
   ]
  },
  {
   "cell_type": "code",
   "execution_count": 1,
   "id": "146fcd96-7ff8-4709-9c3f-f11c87489477",
   "metadata": {},
   "outputs": [
    {
     "name": "stdout",
     "output_type": "stream",
     "text": [
      " 14:09:51 up  4:11,  2 users,  load average: 0.50, 0.35, 0.18\n",
      "USER     TTY      FROM             LOGIN@   IDLE   JCPU   PCPU WHAT\n",
      "pi       tty7     :0               Thu20   17:52m  3.33s  0.79s xfce4-session\n",
      "pi       tty1     -                Thu20   17:52m  0.18s  0.06s -bash\n"
     ]
    }
   ],
   "source": [
    "!w"
   ]
  },
  {
   "cell_type": "code",
   "execution_count": 3,
   "id": "24ccbdde-cbf4-49bb-bab1-8cf5aa41857f",
   "metadata": {},
   "outputs": [
    {
     "name": "stdout",
     "output_type": "stream",
     "text": [
      "/home/pi/mycar\n",
      "MM1_STEERING_MID = 1550\n",
      "MM1_MAX_FORWARD = 1620  # Max is 2000\n",
      "MM1_MAX_REVERSE = 1350\n",
      "MM1_STOPPED_PWM = 1500\n",
      "MM1_SHOW_STEERING_VALUE = False\n",
      "MM1_SERIAL_PORT = '/dev/ttyS0'\n",
      "\n",
      "THROTTLE_FORWARD_PWM = 460\n",
      "THROTTLE_STOPPED_PWM = 370  # pwm value for no movement\n",
      "THROTTLE_REVERSE_PWM = 320  # pwm value for max reverse throttle\n",
      "\n",
      "# SERVO_ESC|DC_STEER_THROTTLE|DC_TWO_WHEEL|DC_TWO_WHEEL_L298N|SERVO_HBRIDGE_PWM|PIGPIO_PWM|MM1|MOCK\n",
      "DRIVE_TRAIN_TYPE = \"PIGPIO_PWM\"\n",
      "\n",
      "JOYSTICK_MAX_THROTTLE = 1.0\n",
      "JOYSTICK_THROTTLE_DIR = -1.0\n",
      "\n",
      "CONTROLLER_TYPE = 'pigpio_rc'  # (ps3|ps4)\n",
      "DRIVE_LOOP_HZ = 20\n",
      "\n",
      "if (CONTROLLER_TYPE == 'F710'):\n",
      "    JOYSTICK_DEADZONE = 0.1\n",
      "\n",
      "JOYSTICK_DEADZONE = 0.2\n",
      "\n",
      "USE_JOYSTICK_AS_DEFAULT = True\n",
      "\n",
      "AUTO_CREATE_NEW_TUB = True\n",
      "MAX_EPOCHS = 30\n",
      "BATCH_SIZE = 128\n",
      "TRAIN_FILTER = lambda x: x.underlying[\"user/throttle\"] != 0\n",
      "\n",
      "USE_SSD1306_128_32 = False  # Enable the SSD_1306 OLED Display\n",
      "\n",
      "# DONKEY_GYM = True\n",
      "# DONKEY_SIM_PATH = \"remote\"\n",
      "# SIM_HOST=\"192.168.1.215\"\n",
      "\n",
      "CAMERA_VFLIP = True\n",
      "CAMERA_HFLIP = True\n",
      "\n",
      "STEERING_LEFT_PWM = 260\n",
      "STEERING_RIGHT_PWM = 490\n",
      "STEERING_PWM_INVERTED = False   #If PWM needs to be inverted\n",
      "\n"
     ]
    }
   ],
   "source": [
    "%cd ~/mycar\n",
    "!cat myconfig.py "
   ]
  },
  {
   "cell_type": "code",
   "execution_count": 4,
   "id": "08194c1a-dbf6-4246-b2a8-42ff41db96a1",
   "metadata": {},
   "outputs": [
    {
     "name": "stdout",
     "output_type": "stream",
     "text": [
      "Linux donkey-52a83a 6.1.21-v8+ #1642 SMP PREEMPT Mon Apr  3 17:24:16 BST 2023 aarch64 GNU/Linux\n"
     ]
    }
   ],
   "source": [
    "!uname -a"
   ]
  },
  {
   "cell_type": "code",
   "execution_count": 5,
   "id": "24c4a880-675c-4bb6-944f-3d7dcc700e9f",
   "metadata": {},
   "outputs": [
    {
     "name": "stdout",
     "output_type": "stream",
     "text": [
      "eth0: flags=4099<UP,BROADCAST,MULTICAST>  mtu 1500\n",
      "        ether d8:3a:dd:52:a6:83  txqueuelen 1000  (Ethernet)\n",
      "        RX packets 0  bytes 0 (0.0 B)\n",
      "        RX errors 0  dropped 0  overruns 0  frame 0\n",
      "        TX packets 0  bytes 0 (0.0 B)\n",
      "        TX errors 0  dropped 0 overruns 0  carrier 0  collisions 0\n",
      "\n",
      "lo: flags=73<UP,LOOPBACK,RUNNING>  mtu 65536\n",
      "        inet 127.0.0.1  netmask 255.0.0.0\n",
      "        inet6 ::1  prefixlen 128  scopeid 0x10<host>\n",
      "        loop  txqueuelen 1000  (Local Loopback)\n",
      "        RX packets 35237  bytes 17426330 (16.6 MiB)\n",
      "        RX errors 0  dropped 0  overruns 0  frame 0\n",
      "        TX packets 35237  bytes 17426330 (16.6 MiB)\n",
      "        TX errors 0  dropped 0 overruns 0  carrier 0  collisions 0\n",
      "\n",
      "wlan0: flags=4163<UP,BROADCAST,RUNNING,MULTICAST>  mtu 1500\n",
      "        inet 192.168.1.191  netmask 255.255.255.0  broadcast 192.168.1.255\n",
      "        inet6 fe80::955c:cdda:e7bd:44d6  prefixlen 64  scopeid 0x20<link>\n",
      "        ether d8:3a:dd:52:a6:84  txqueuelen 1000  (Ethernet)\n",
      "        RX packets 1200434  bytes 487118566 (464.5 MiB)\n",
      "        RX errors 0  dropped 0  overruns 0  frame 0\n",
      "        TX packets 502546  bytes 384591909 (366.7 MiB)\n",
      "        TX errors 0  dropped 0 overruns 0  carrier 0  collisions 0\n",
      "\n"
     ]
    }
   ],
   "source": [
    "!ifconfig"
   ]
  }
 ],
 "metadata": {
  "kernelspec": {
   "display_name": "Python 3 (ipykernel)",
   "language": "python",
   "name": "python3"
  },
  "language_info": {
   "codemirror_mode": {
    "name": "ipython",
    "version": 3
   },
   "file_extension": ".py",
   "mimetype": "text/x-python",
   "name": "python",
   "nbconvert_exporter": "python",
   "pygments_lexer": "ipython3",
   "version": "3.9.2"
  }
 },
 "nbformat": 4,
 "nbformat_minor": 5
}
