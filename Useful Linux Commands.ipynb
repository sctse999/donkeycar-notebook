{
 "cells": [
  {
   "cell_type": "markdown",
   "id": "64a37d8e-e5d8-478b-b928-acc4128d6b25",
   "metadata": {},
   "source": [
    "# Useful Linux Command"
   ]
  },
  {
   "cell_type": "code",
   "execution_count": 1,
   "id": "146fcd96-7ff8-4709-9c3f-f11c87489477",
   "metadata": {},
   "outputs": [
    {
     "name": "stdout",
     "output_type": "stream",
     "text": [
      " 14:09:51 up  4:11,  2 users,  load average: 0.50, 0.35, 0.18\n",
      "USER     TTY      FROM             LOGIN@   IDLE   JCPU   PCPU WHAT\n",
      "pi       tty7     :0               Thu20   17:52m  3.33s  0.79s xfce4-session\n",
      "pi       tty1     -                Thu20   17:52m  0.18s  0.06s -bash\n"
     ]
    }
   ],
   "source": [
    "!w"
   ]
  },
  {
   "cell_type": "code",
   "execution_count": null,
   "id": "24ccbdde-cbf4-49bb-bab1-8cf5aa41857f",
   "metadata": {},
   "outputs": [],
   "source": [
    "!"
   ]
  }
 ],
 "metadata": {
  "kernelspec": {
   "display_name": "Python 3 (ipykernel)",
   "language": "python",
   "name": "python3"
  },
  "language_info": {
   "codemirror_mode": {
    "name": "ipython",
    "version": 3
   },
   "file_extension": ".py",
   "mimetype": "text/x-python",
   "name": "python",
   "nbconvert_exporter": "python",
   "pygments_lexer": "ipython3",
   "version": "3.9.2"
  }
 },
 "nbformat": 4,
 "nbformat_minor": 5
}
