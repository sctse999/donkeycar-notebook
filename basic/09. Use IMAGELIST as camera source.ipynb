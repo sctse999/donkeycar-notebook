{
 "cells": [
  {
   "cell_type": "markdown",
   "id": "8513baff-cafb-4967-87cf-7f9f03072744",
   "metadata": {},
   "outputs": [],
   "source": [
    "<img src=\"https://10botics.com/logo_jnb.png\" width=\"300\"/>"
   ]
  },
  {
   "cell_type": "markdown",
   "id": "e9a07033-6cb0-4a89-9579-b98ae9b1e574",
   "metadata": {},
   "outputs": [],
   "source": [
    "# Use IMAGELIST as camera source"
   ]
  },
  {
   "cell_type": "markdown",
   "id": "c9bf11ae-5c4c-486d-ac33-0270e39901e9",
   "metadata": {},
   "outputs": [],
   "source": [
    "## Import some libraries"
   ]
  },
  {
   "cell_type": "code",
   "execution_count": null,
   "id": "empty-serum",
   "metadata": {},
   "outputs": [],
   "source": [
    "import donkeycar as dk\n",
    "import os"
   ]
  },
  {
   "cell_type": "code",
   "execution_count": null,
   "id": "f9e82d60-3c53-4d5f-8fdb-699272d44df6",
   "metadata": {},
   "outputs": [],
   "source": [
    "%run functions_donkey_car_parts.ipynb"
   ]
  },
  {
   "cell_type": "markdown",
   "id": "61256491-e50d-4190-9fa0-f8cc3c148a0e",
   "metadata": {},
   "outputs": [],
   "source": [
    "## Loading myconfig"
   ]
  },
  {
   "cell_type": "code",
   "execution_count": null,
   "id": "cf732874-422f-494f-abba-abbf537a5fb9",
   "metadata": {},
   "outputs": [],
   "source": [
    "cfg = dk.load_config(config_path=\"/home/pi/mycar/config.py\")"
   ]
  },
  {
   "cell_type": "code",
   "execution_count": null,
   "id": "d189b6a3-c97e-4f5a-9f94-43dc0c26f550",
   "metadata": {},
   "outputs": [],
   "source": [
    "V = dk.vehicle.Vehicle()"
   ]
  },
  {
   "cell_type": "code",
   "execution_count": null,
   "id": "d2405a44-b317-4f2f-9420-6abe7fe2ef3e",
   "metadata": {},
   "outputs": [],
   "source": [
    "cfg.DRIVE_LOOP_HZ = 20"
   ]
  },
  {
   "cell_type": "markdown",
   "id": "9004170a-0955-41eb-8ed5-1b583bb1a196",
   "metadata": {},
   "outputs": [],
   "source": [
    "## Define Camera Helper function"
   ]
  },
  {
   "cell_type": "code",
   "execution_count": null,
   "id": "1b4293c1-a39a-4e79-b434-9aa48da1922e",
   "metadata": {},
   "outputs": [],
   "source": [
    "data_path = \"/home/pi/donkeycar-notebook/basic/resource\"\n",
    "tub_path = os.path.join(data_path, 'red_line_tub')\n",
    "images_path = os.path.join(tub_path, 'images')\n",
    "\n",
    "print(images_path)\n",
    "\n",
    "cfg.PATH_MASK = images_path + \"/*.jpg\""
   ]
  },
  {
   "cell_type": "code",
   "execution_count": null,
   "id": "3c7f9ba9-28d5-4e56-a1cd-120477a398ff",
   "metadata": {},
   "outputs": [],
   "source": [
    "# Override the get_camera function to use a ImageListCamera\n",
    "\n",
    "def get_camera(cfg):\n",
    "    from donkeycar.parts.camera import ImageListCamera\n",
    "    cam = ImageListCamera(path_mask=cfg.PATH_MASK)\n",
    "\n",
    "    return cam"
   ]
  },
  {
   "cell_type": "code",
   "execution_count": null,
   "id": "2cbc96cd-bac3-4a60-8e44-dec11b81555a",
   "metadata": {},
   "outputs": [],
   "source": [
    "add_camera(V, cfg)"
   ]
  },
  {
   "cell_type": "markdown",
   "id": "078e991c-febe-4118-9b15-cbc57a0dacbd",
   "metadata": {},
   "outputs": [],
   "source": [
    "## Define web controller helper function"
   ]
  },
  {
   "cell_type": "code",
   "execution_count": null,
   "id": "62485e6e-c2d3-4aa6-9d35-0b58fe7f160f",
   "metadata": {},
   "outputs": [],
   "source": [
    "add_user_controller(V, cfg, None, 'cam/image_array')"
   ]
  },
  {
   "cell_type": "code",
   "execution_count": null,
   "id": "e42e2903-34e0-4fa2-bda1-8ce4c33a2b07",
   "metadata": {},
   "outputs": [],
   "source": [
    "## Putting them together\n",
    "\n",
    "# Get wireless LAN IP address\n",
    "import netifaces as ni\n",
    "from IPython.display import HTML\n",
    "ip = ni.ifaddresses('wlan0')[ni.AF_INET][0]['addr']\n",
    "url = f\"http://{ip}:{cfg.WEB_CONTROL_PORT}\"\n",
    "display(HTML(f'You can now go to <a href=\"{url}\" target=\"_blank\">{url}</a> to drive your car.'))\n",
    "\n",
    "V.start(max_loop_count=100)"
   ]
  },
  {
   "cell_type": "code",
   "execution_count": null,
   "id": "7c224d5a-7406-45fa-84fd-ccbc158f33f6",
   "metadata": {},
   "outputs": [],
   "source": [
    "V.stop()"
   ]
  },
  {
   "cell_type": "code",
   "execution_count": null,
   "id": "036c5771-bf58-4805-bcfd-32b10062ab56",
   "metadata": {},
   "outputs": [],
   "source": [
    "!netstat -an -A inet | grep 8887"
   ]
  },
  {
   "cell_type": "markdown",
   "id": "be20deca-4e42-4424-9f86-693a3c314ad1",
   "metadata": {},
   "outputs": [],
   "source": [
    "## Kill process listening to 8887"
   ]
  },
  {
   "cell_type": "code",
   "execution_count": null,
   "id": "2faf0a2a-8483-4116-a910-edbc08add455",
   "metadata": {},
   "outputs": [],
   "source": [
    "!kill -9 $(lsof -t -i:8887)"
   ]
  },
  {
   "cell_type": "markdown",
   "id": "5cccca4b-bbac-4aa2-9743-ad73c8337fcd",
   "metadata": {},
   "outputs": [],
   "source": [
    "<hr/>"
   ]
  },
  {
   "cell_type": "markdown",
   "id": "3b376544-2517-4b95-913f-ce6f522ce5bf",
   "metadata": {},
   "outputs": [],
   "source": [
    "## Congratulation! You have finished this chapter."
   ]
  },
  {
   "cell_type": "markdown",
   "id": "d63a5467-8b99-4112-a85f-8c63a83d575a",
   "metadata": {},
   "outputs": [],
   "source": [
    "This jupyter notebook is created by 10Botics. <br>\n",
    "For permission to use in school, please contact info@10botics.com <br>\n",
    "All rights reserved. 2024."
   ]
  }
 ],
 "metadata": {
  "kernelspec": {
   "display_name": "Python 3 (ipykernel)",
   "language": "python",
   "name": "python3"
  },
  "language_info": {
   "codemirror_mode": {
    "name": "ipython",
    "version": 3
   },
   "file_extension": ".py",
   "mimetype": "text/x-python",
   "name": "python",
   "nbconvert_exporter": "python",
   "pygments_lexer": "ipython3",
   "version": "3.9.2"
  }
 },
 "nbformat": 4,
 "nbformat_minor": 5
}
