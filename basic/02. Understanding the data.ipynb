{
 "cells": [
  {
   "cell_type": "markdown",
   "id": "8513baff-cafb-4967-87cf-7f9f03072744",
   "metadata": {},
   "outputs": [],
   "source": [
    "<img src=\"https://10botics.com/logo_jnb.png\" width=\"300\"/>"
   ]
  },
  {
   "cell_type": "markdown",
   "id": "d6831b03-4bb8-4420-b9b0-9889cd2bf24d",
   "metadata": {},
   "outputs": [],
   "source": [
    "# Understanding the data"
   ]
  },
  {
   "cell_type": "markdown",
   "id": "11ec5881-59d1-42cb-a2e5-61095b3bf0ea",
   "metadata": {},
   "outputs": [],
   "source": [
    "## The data directory\n",
    "\n",
    "In donkeycar, the data you collected are stored in a folder called `data` under `mycar`\n",
    "\n",
    "Use the file explorer on the left, open `mycar` and execute the following cell"
   ]
  },
  {
   "cell_type": "code",
   "execution_count": null,
   "id": "6087534c-946e-4e0e-9192-96e4b4f63503",
   "metadata": {},
   "outputs": [],
   "source": [
    "%cd ~/mycar\n",
    "!ls"
   ]
  },
  {
   "cell_type": "markdown",
   "id": "32cd28a7-3ecc-480a-9ddb-62eb2be7a44c",
   "metadata": {},
   "outputs": [],
   "source": [
    "Use the following command to change directory to data and list all files and directory under `data`"
   ]
  },
  {
   "cell_type": "code",
   "execution_count": null,
   "id": "8b5591fb-2039-44c7-a6b6-bf9afe60ce6b",
   "metadata": {},
   "outputs": [],
   "source": [
    "%cd ~/mycar/data\n",
    "!ls"
   ]
  },
  {
   "cell_type": "markdown",
   "id": "34b574eb-4fff-49ff-a642-0283242d215f",
   "metadata": {},
   "outputs": [],
   "source": [
    "Each time you collect data, they are stored in a directory called `Tub`. The directory name start with `tub` and then has a sequential number followed by the date it was collected (in YY-MM-DD format)"
   ]
  },
  {
   "cell_type": "markdown",
   "id": "deae178d-2b14-458e-9995-8493127a20ac",
   "metadata": {},
   "outputs": [],
   "source": [
    "## Inside a Tub"
   ]
  },
  {
   "cell_type": "markdown",
   "id": "efb266cc-bece-4f38-b8a6-714d0b748d52",
   "metadata": {},
   "outputs": [],
   "source": [
    "Let's count how many tubs we have. We will use a library called `os` and import a function called `listdir` to list all the directories"
   ]
  },
  {
   "cell_type": "code",
   "execution_count": null,
   "id": "96294fde-2283-4075-8f51-1b3f447742a6",
   "metadata": {},
   "outputs": [],
   "source": [
    "from os import listdir\n",
    "\n",
    "data_path = \"/home/pi/mycar/data\"\n",
    "\n",
    "tubs = [d for d in listdir(data_path)]\n",
    "\n",
    "len(tubs)"
   ]
  },
  {
   "cell_type": "markdown",
   "id": "a0b36593-92ad-42a1-9efd-4ee73a68608d",
   "metadata": {},
   "outputs": [],
   "source": [
    "Let's use the first tub we find in the previous program"
   ]
  },
  {
   "cell_type": "code",
   "execution_count": null,
   "id": "395def1b-68a5-4e2d-87d5-1bce702b26de",
   "metadata": {},
   "outputs": [],
   "source": [
    "tub = tubs[0]\n",
    "print(f\"Tub name = {tub}\")"
   ]
  },
  {
   "cell_type": "markdown",
   "id": "9a6385ec-13fb-41de-bcee-2b07a4de50de",
   "metadata": {},
   "outputs": [],
   "source": [
    "Let's check what's in this tub. Note that we use `$tub` below, it is because we use the symbol `$` to refer a python variable"
   ]
  },
  {
   "cell_type": "code",
   "execution_count": null,
   "id": "6dd0b9c3-295e-4890-b934-916abf930e61",
   "metadata": {},
   "outputs": [],
   "source": [
    "tub_path = f\"{data_path}/{tub}\"\n",
    "\n",
    "%cd $tub_path\n",
    "!ls"
   ]
  },
  {
   "cell_type": "markdown",
   "id": "5d5b526f-a1c0-4f67-ad05-c33db04bab44",
   "metadata": {},
   "outputs": [],
   "source": [
    "Inside a tub, there are a number of files.\n",
    "\n",
    "1. A folder called `images`\n",
    "2. Catalog files\n",
    "3. `manifest.json`\n",
    "4. `meta.json`\n",
    "5. A histogram file end with _hist.png"
   ]
  },
  {
   "cell_type": "markdown",
   "id": "445caf1e-e915-4ee2-9b69-282ef3a874aa",
   "metadata": {},
   "outputs": [],
   "source": [
    "### The `images` folder\n",
    "\n"
   ]
  },
  {
   "cell_type": "markdown",
   "id": "520ddba9-cad3-4c97-94b3-99e0ecec7d1f",
   "metadata": {},
   "outputs": [],
   "source": [
    "Let's ls the images folder and see the first 3 files in this folder (sorted by filename). \n",
    "\n",
    "The linux command `head` can be used to display the first 3 lines in this file. You can change the number to display more lines."
   ]
  },
  {
   "cell_type": "code",
   "execution_count": null,
   "id": "c67f021a-dbf0-481b-9dec-dd1262857078",
   "metadata": {
    "scrolled": true
   },
   "outputs": [],
   "source": [
    "%%bash \n",
    "ls images | head -100"
   ]
  },
  {
   "cell_type": "markdown",
   "id": "ae529af1-e339-4518-86d8-d280235e8c59",
   "metadata": {},
   "outputs": [],
   "source": [
    "We can use a library called `PIL` and its function `Image` to open one image file we have. \n",
    "\n",
    "Feel free to change the filename to see different images inside the tub."
   ]
  },
  {
   "cell_type": "code",
   "execution_count": null,
   "id": "25a135e1-689c-4cc2-afdf-562937a60378",
   "metadata": {},
   "outputs": [],
   "source": [
    "from PIL import Image\n",
    "from IPython.display import display\n",
    "\n",
    "tub_path\n",
    "img = Image.open(f\"{tub_path}/images/0_cam_image_array_.jpg\")\n",
    "display(img)"
   ]
  },
  {
   "cell_type": "markdown",
   "id": "216423ca-dd49-4ae5-9c92-0b69adf95f22",
   "metadata": {},
   "outputs": [],
   "source": [
    "We can use the `size` function to check the dimension of the image. It should be 160 x 120 pixels."
   ]
  },
  {
   "cell_type": "code",
   "execution_count": null,
   "id": "2dfa8726-5083-4df7-affe-b58bc814f72f",
   "metadata": {},
   "outputs": [],
   "source": [
    "# check the size of the image\n",
    "img.size"
   ]
  },
  {
   "cell_type": "markdown",
   "id": "35e39e21-01ce-4399-a952-bd171767ceb6",
   "metadata": {},
   "outputs": [],
   "source": [
    "Write a for loop to display multiple images"
   ]
  },
  {
   "cell_type": "code",
   "execution_count": null,
   "id": "44416c05-9e46-4048-8a53-b23baa261087",
   "metadata": {},
   "outputs": [],
   "source": [
    "for i in range(0,3):\n",
    "    img = Image.open(f\"{tub_path}/images/{i}_cam_image_array_.jpg\")\n",
    "    display(img)"
   ]
  },
  {
   "cell_type": "code",
   "execution_count": null,
   "id": "d5513062-a50d-4edc-833f-4b65c2793dfe",
   "metadata": {},
   "outputs": [],
   "source": [
    "\n",
    "# Display function\n",
    "# ================\n",
    "def play_tub(tub_name):\n",
    "    import cv2\n",
    "    from IPython.display import display\n",
    "\n",
    "    display_handle=display(None, display_id=True)\n",
    "    for i in range(0,300):\n",
    "        image_path = f\"{tub_path}/images/{i}_cam_image_array_.jpg\"\n",
    "        \n",
    "        img =  cv2.imread(image_path)\n",
    "\n",
    "        image_bgr = cv2.imread(image_path)\n",
    "        \n",
    "        # Convert the image from BGR to RGB\n",
    "        image_rgb = cv2.cvtColor(image_bgr, cv2.COLOR_BGR2RGB)\n",
    "    \n",
    "        image_pil = Image.fromarray(image_rgb)\n",
    "        display_handle.update(image_pil)\n",
    "\n",
    "play_tub(tub)"
   ]
  },
  {
   "cell_type": "markdown",
   "id": "19c4456c-b092-4192-96dd-c7f70b6df123",
   "metadata": {},
   "outputs": [],
   "source": [
    "### Catalog\n",
    "\n",
    "The catalog file contains a list of lines. Each line store the filename of each picture you have taken during recording, together with the time, angle and throttle at that particular moment. By default, each catalog contains at most 1000 lines. When one catalog file reach 1000 lines, another catalog file is automatically created. "
   ]
  },
  {
   "cell_type": "code",
   "execution_count": null,
   "id": "295bd7be-3154-4067-81d0-6fb5d64d86f2",
   "metadata": {},
   "outputs": [],
   "source": [
    "!head -3 catalog_0.catalog"
   ]
  },
  {
   "cell_type": "markdown",
   "id": "e1311fe4-3078-4541-860f-3e2612c73b3d",
   "metadata": {},
   "outputs": [],
   "source": [
    "What is the format of the catalog file used to store data?\n",
    "\n",
    "It is called JSON Lines. JSON Lines format is similar to the CSV format where each line in the file represents a separate JSON object. \n",
    "\n",
    "For more details, check https://jsonlines.org/"
   ]
  },
  {
   "cell_type": "markdown",
   "id": "31bd1af6-aac9-4694-b3ed-3a00afb339d9",
   "metadata": {},
   "outputs": [],
   "source": [
    "### Manifest.json"
   ]
  },
  {
   "cell_type": "markdown",
   "id": "6d7bc705-d067-4ce7-99c2-2b22e21e2190",
   "metadata": {},
   "outputs": [],
   "source": [
    "The `manifest.json` stores how many catalog are presented in this tub. In addition, it keeps track of the current index and the system will resume from this index if it continues recording. \n",
    "\n",
    "Note that there is a field called `deleted_indexes`, it is used for storing which images are deleted in this tub. We call this soft delete because the images are marked as deleled only but not physically deleted."
   ]
  },
  {
   "cell_type": "code",
   "execution_count": null,
   "id": "466c9330-65fa-4b5e-a038-334a6eb13cfd",
   "metadata": {},
   "outputs": [],
   "source": [
    "!head -10 manifest.json"
   ]
  },
  {
   "attachments": {},
   "cell_type": "markdown",
   "id": "41ad2251-def7-4aa7-bb70-29140f1cd56b",
   "metadata": {},
   "outputs": [],
   "source": [
    "### Meta.json"
   ]
  },
  {
   "cell_type": "code",
   "execution_count": null,
   "id": "01afa4b3-1d3a-423e-8c2a-d6c0731cf4af",
   "metadata": {},
   "outputs": [],
   "source": [
    "!head -10 meta.json"
   ]
  },
  {
   "cell_type": "markdown",
   "id": "122b1e53-f97a-4b67-8e66-1191c41d2296",
   "metadata": {},
   "outputs": [],
   "source": [
    "This file contains the following information:\n",
    "\n",
    "- Size: Total size of this tub calculated in MB\n",
    "- uuid : The uuid of this tub. Tub does not have an uuid until it is uploaded for remote training. If you delete this field, the tub will be uploaded again to our server when you use this tub for training. This is sometimes useful if you believe that the tub on our server is corrupted."
   ]
  },
  {
   "cell_type": "markdown",
   "id": "5cccca4b-bbac-4aa2-9743-ad73c8337fcd",
   "metadata": {},
   "outputs": [],
   "source": [
    "<hr/>"
   ]
  },
  {
   "cell_type": "markdown",
   "id": "3b376544-2517-4b95-913f-ce6f522ce5bf",
   "metadata": {},
   "outputs": [],
   "source": [
    "## Congratulation! You have finished this chapter."
   ]
  },
  {
   "cell_type": "markdown",
   "id": "d63a5467-8b99-4112-a85f-8c63a83d575a",
   "metadata": {},
   "outputs": [],
   "source": [
    "This jupyter notebook is created by 10Botics. <br>\n",
    "For permission to use in school, please contact info@10botics.com <br>\n",
    "All rights reserved. 2024."
   ]
  }
 ],
 "metadata": {
  "kernelspec": {
   "display_name": "Python 3 (ipykernel)",
   "language": "python",
   "name": "python3"
  },
  "language_info": {
   "codemirror_mode": {
    "name": "ipython",
    "version": 3
   },
   "file_extension": ".py",
   "mimetype": "text/x-python",
   "name": "python",
   "nbconvert_exporter": "python",
   "pygments_lexer": "ipython3",
   "version": "3.9.2"
  }
 },
 "nbformat": 4,
 "nbformat_minor": 5
}
