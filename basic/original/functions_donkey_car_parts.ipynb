{
 "cells": [
  {
   "cell_type": "code",
   "execution_count": 1,
   "id": "3b7a2c27-dccf-4459-be66-58a47002050d",
   "metadata": {},
   "outputs": [
    {
     "name": "stdout",
     "output_type": "stream",
     "text": [
      "________             ______                   _________              \n",
      "___  __ \\_______________  /___________  __    __  ____/_____ ________\n",
      "__  / / /  __ \\_  __ \\_  //_/  _ \\_  / / /    _  /    _  __ `/_  ___/\n",
      "_  /_/ // /_/ /  / / /  ,<  /  __/  /_/ /     / /___  / /_/ /_  /    \n",
      "/_____/ \\____//_/ /_//_/|_| \\___/_\\__, /      \\____/  \\__,_/ /_/     \n",
      "                                 /____/                              \n",
      "\n",
      "using donkey v5.0.dev3 ...\n"
     ]
    }
   ],
   "source": [
    "from donkeycar.parts.controller import LocalWebController\n",
    "\n",
    "def add_user_controller(V, cfg, use_joystick, input_image='ui/image_array'):\n",
    "    \"\"\"\n",
    "    Add the web controller and any other\n",
    "    configured user input controller.\n",
    "    :param V: the vehicle pipeline.\n",
    "              On output this will be modified.\n",
    "    :param cfg: the configuration (from myconfig.py)\n",
    "    :return: the controller\n",
    "    \"\"\"\n",
    "\n",
    "    #\n",
    "    # This web controller will create a web server that is capable\n",
    "    # of managing steering, throttle, and modes, and more.\n",
    "    #\n",
    "    ctr = LocalWebController(port=cfg.WEB_CONTROL_PORT, mode=cfg.WEB_INIT_MODE)\n",
    "    V.add(ctr,\n",
    "          inputs=[input_image, 'tub/num_records', 'user/mode', 'recording'],\n",
    "          outputs=['user/steering', 'user/throttle', 'user/mode', 'recording', 'web/buttons'],\n",
    "          threaded=True)\n",
    "\n",
    "    return ctr\n"
   ]
  },
  {
   "cell_type": "code",
   "execution_count": 2,
   "id": "fb4aae50-d5b7-4d09-a200-2d878fba5780",
   "metadata": {},
   "outputs": [],
   "source": [
    "def add_camera(V, cfg, type):\n",
    "    inputs = []\n",
    "    outputs = ['cam/image_array']\n",
    "    threaded = True\n",
    "    \n",
    "    if type == \"IMAGELIST\":\n",
    "        cam = get_image_camera(cfg)\n",
    "    elif type == \"PiCam\":\n",
    "        cam = get_pi_camera(cfg)\n",
    "    else:\n",
    "        raise Exception(\"No camera type\")\n",
    "    \n",
    "    V.add(cam, inputs=inputs, outputs=outputs, threaded=threaded)    \n",
    "\n",
    "def get_pi_camera(cfg):\n",
    "    from donkeycar.parts.camera import PiCamera\n",
    "    cam = PiCamera(image_w=cfg.IMAGE_W, image_h=cfg.IMAGE_H, image_d=cfg.IMAGE_DEPTH,\n",
    "                   vflip=cfg.CAMERA_VFLIP, hflip=cfg.CAMERA_HFLIP)\n",
    "\n",
    "    return cam\n",
    "\n",
    "def get_image_camera(cfg):\n",
    "    from donkeycar.parts.camera import ImageListCamera\n",
    "    cam = ImageListCamera(path_mask=cfg.PATH_MASK)\n",
    "\n",
    "    return cam"
   ]
  },
  {
   "cell_type": "code",
   "execution_count": 3,
   "id": "053e9786-275d-4505-a5da-6e461d080113",
   "metadata": {},
   "outputs": [],
   "source": [
    "def display_drive_url():\n",
    "    # Get wireless LAN IP address\n",
    "    import netifaces as ni\n",
    "    from IPython.display import HTML\n",
    "    ip = ni.ifaddresses('wlan0')[ni.AF_INET][0]['addr']\n",
    "    url = f\"http://{ip}:{cfg.WEB_CONTROL_PORT}\"\n",
    "    display(HTML(f'You can now go to <a href=\"{url}\" target=\"_blank\">{url}</a> to drive your car.'))\n"
   ]
  },
  {
   "cell_type": "code",
   "execution_count": null,
   "id": "c4077462-a0d9-45a4-ae09-1e4a7c9e29e4",
   "metadata": {},
   "outputs": [],
   "source": [
    "def get_red_line_tub_images_path():\n",
    "    data_path = \"/home/pi/donkeycar-notebook/basic/resource\"\n",
    "    tub_path = os.path.join(data_path, 'red_line_tub')\n",
    "    images_path = os.path.join(tub_path, 'images')\n",
    "\n",
    "    return images_path\n",
    "\n"
   ]
  }
 ],
 "metadata": {
  "kernelspec": {
   "display_name": "Python 3 (ipykernel)",
   "language": "python",
   "name": "python3"
  },
  "language_info": {
   "codemirror_mode": {
    "name": "ipython",
    "version": 3
   },
   "file_extension": ".py",
   "mimetype": "text/x-python",
   "name": "python",
   "nbconvert_exporter": "python",
   "pygments_lexer": "ipython3",
   "version": "3.9.2"
  }
 },
 "nbformat": 4,
 "nbformat_minor": 5
}
