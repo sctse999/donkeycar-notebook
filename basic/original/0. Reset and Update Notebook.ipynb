{
 "cells": [
  {
   "cell_type": "markdown",
   "id": "06baad23-df29-4741-b10b-61bef5ae55f8",
   "metadata": {},
   "source": [
    "# Reset and Update Notebook"
   ]
  },
  {
   "cell_type": "code",
   "execution_count": null,
   "id": "0d5a249b-c8cd-41e3-acc4-91185ce0db49",
   "metadata": {},
   "outputs": [],
   "source": [
    "!git reset --hard HEAD"
   ]
  },
  {
   "cell_type": "code",
   "execution_count": null,
   "id": "8d708842-068b-4364-8070-6a431353491c",
   "metadata": {},
   "outputs": [],
   "source": [
    "!git pull"
   ]
  }
 ],
 "metadata": {
  "kernelspec": {
   "display_name": "Python 3 (ipykernel)",
   "language": "python",
   "name": "python3"
  },
  "language_info": {
   "codemirror_mode": {
    "name": "ipython",
    "version": 3
   },
   "file_extension": ".py",
   "mimetype": "text/x-python",
   "name": "python",
   "nbconvert_exporter": "python",
   "pygments_lexer": "ipython3",
   "version": "3.9.19"
  }
 },
 "nbformat": 4,
 "nbformat_minor": 5
}
