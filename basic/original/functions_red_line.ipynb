{
 "cells": [
  {
   "cell_type": "code",
   "execution_count": null,
   "id": "282a2c29-f8d9-468b-ae96-04da2f82d6e3",
   "metadata": {},
   "outputs": [],
   "source": [
    "import cv2\n",
    "import numpy as np"
   ]
  },
  {
   "cell_type": "code",
   "execution_count": null,
   "id": "3f62eec3-abba-471c-86e1-682b79ef5516",
   "metadata": {},
   "outputs": [],
   "source": [
    "def calculate_mask(image):\n",
    "    # Convert the image to HSV colorspace \n",
    "    image_hsv = cv2.cvtColor(image, cv2.COLOR_RGB2HSV)\n",
    "\n",
    "    # Calculate the 0-10 hue mask\n",
    "    lower_red = np.array([0,100,100])\n",
    "    upper_red = np.array([10,255,255])\n",
    "    mask0 = cv2.inRange(image_hsv, lower_red, upper_red)\n",
    "\n",
    "    # Calculate the 170-180 hue mask\n",
    "    lower_red = np.array([170,100,100])\n",
    "    upper_red = np.array([180,255,255])\n",
    "    mask1 = cv2.inRange(image_hsv, lower_red, upper_red)\n",
    "\n",
    "    combined_mask = mask0 + mask1\n",
    "\n",
    "    return combined_mask"
   ]
  },
  {
   "cell_type": "code",
   "execution_count": 1,
   "id": "291c1a83-3f3e-46b5-9555-1429f61935ff",
   "metadata": {},
   "outputs": [],
   "source": [
    "def calculate_red_pixel_percentage(image, mask):\n",
    "    # Calculate the total pixel\n",
    "    height, width, _ = image.shape\n",
    "    total_pixel = height * width\n",
    "\n",
    "    # Count the number of red pixel\n",
    "    red_pixel = np.count_nonzero(mask)\n",
    "\n",
    "    # print(f\"red_pixel = {red_pixel}\") \n",
    "\n",
    "    # Calculate the percentage\n",
    "    red_percentage = red_pixel / total_pixel\n",
    "\n",
    "    # Return the value\n",
    "    return red_percentage     "
   ]
  },
  {
   "cell_type": "code",
   "execution_count": null,
   "id": "8f10994d-d0ad-4227-b151-125c2d853b82",
   "metadata": {},
   "outputs": [],
   "source": [
    "def detect_red_line(image):\n",
    "    image = cv2.cvtColor(image, cv2.COLOR_BGR2RGB)\n",
    "    \n",
    "    # Calculate the mask \n",
    "    mask = calculate_mask(image)\n",
    "\n",
    "    # Calculate the red pixel percentage\n",
    "    red_percentage = calculate_red_pixel_percentage(image, mask)\n",
    "\n",
    "    # Determine if we should return True or False\n",
    "\n",
    "    return round(red_percentage, 3)\n",
    "    # if red_percentage > threshold:\n",
    "    #     return red_percentage\n",
    "    # else:\n",
    "    #     return red_percentage"
   ]
  }
 ],
 "metadata": {
  "kernelspec": {
   "display_name": "Python 3 (ipykernel)",
   "language": "python",
   "name": "python3"
  },
  "language_info": {
   "codemirror_mode": {
    "name": "ipython",
    "version": 3
   },
   "file_extension": ".py",
   "mimetype": "text/x-python",
   "name": "python",
   "nbconvert_exporter": "python",
   "pygments_lexer": "ipython3",
   "version": "3.9.2"
  }
 },
 "nbformat": 4,
 "nbformat_minor": 5
}
