{
 "cells": [
  {
   "cell_type": "markdown",
   "id": "e9a07033-6cb0-4a89-9579-b98ae9b1e574",
   "metadata": {},
   "source": [
    "# Assemble a basic vehicle with camera and controller"
   ]
  },
  {
   "cell_type": "markdown",
   "id": "c9bf11ae-5c4c-486d-ac33-0270e39901e9",
   "metadata": {},
   "source": [
    "## Import some libraries"
   ]
  },
  {
   "cell_type": "code",
   "execution_count": 3,
   "id": "empty-serum",
   "metadata": {},
   "outputs": [
    {
     "name": "stdout",
     "output_type": "stream",
     "text": [
      "________             ______                   _________              \n",
      "___  __ \\_______________  /___________  __    __  ____/_____ ________\n",
      "__  / / /  __ \\_  __ \\_  //_/  _ \\_  / / /    _  /    _  __ `/_  ___/\n",
      "_  /_/ // /_/ /  / / /  ,<  /  __/  /_/ /     / /___  / /_/ /_  /    \n",
      "/_____/ \\____//_/ /_//_/|_| \\___/_\\__, /      \\____/  \\__,_/ /_/     \n",
      "                                 /____/                              \n",
      "\n",
      "using donkey v5.0.dev3 ...\n"
     ]
    }
   ],
   "source": [
    "import donkeycar as dk"
   ]
  },
  {
   "cell_type": "markdown",
   "id": "61256491-e50d-4190-9fa0-f8cc3c148a0e",
   "metadata": {},
   "source": [
    "## Loading myconfig"
   ]
  },
  {
   "cell_type": "code",
   "execution_count": 4,
   "id": "cf732874-422f-494f-abba-abbf537a5fb9",
   "metadata": {},
   "outputs": [
    {
     "name": "stderr",
     "output_type": "stream",
     "text": [
      "INFO:donkeycar.config:loading config file: /home/pi/mycar/config.py\n",
      "INFO:donkeycar.config:loading personal config over-rides from myconfig.py\n"
     ]
    }
   ],
   "source": [
    "cfg = dk.load_config(config_path=\"/home/pi/mycar/config.py\")"
   ]
  },
  {
   "cell_type": "code",
   "execution_count": 5,
   "id": "d189b6a3-c97e-4f5a-9f94-43dc0c26f550",
   "metadata": {},
   "outputs": [],
   "source": [
    "V = dk.vehicle.Vehicle()"
   ]
  },
  {
   "cell_type": "markdown",
   "id": "9004170a-0955-41eb-8ed5-1b583bb1a196",
   "metadata": {},
   "source": [
    "## Define Camera Helper function"
   ]
  },
  {
   "cell_type": "code",
   "execution_count": 1,
   "id": "3c7f9ba9-28d5-4e56-a1cd-120477a398ff",
   "metadata": {},
   "outputs": [],
   "source": [
    "def add_camera(V, cfg):\n",
    "    inputs = []\n",
    "    outputs = ['cam/image_array']\n",
    "    threaded = True\n",
    "    cam = get_camera(cfg)\n",
    "    if cam:\n",
    "        V.add(cam, inputs=inputs, outputs=outputs, threaded=threaded)    \n",
    "\n",
    "def get_camera(cfg):\n",
    "    from donkeycar.parts.camera import PiCamera\n",
    "    cam = PiCamera(image_w=cfg.IMAGE_W, image_h=cfg.IMAGE_H, image_d=cfg.IMAGE_DEPTH,\n",
    "                   vflip=cfg.CAMERA_VFLIP, hflip=cfg.CAMERA_HFLIP)\n",
    "\n",
    "    return cam"
   ]
  },
  {
   "cell_type": "code",
   "execution_count": 7,
   "id": "2cbc96cd-bac3-4a60-8e44-dec11b81555a",
   "metadata": {},
   "outputs": [
    {
     "name": "stderr",
     "output_type": "stream",
     "text": [
      "[0:25:13.608686877] [1841] \u001b[1;32m INFO \u001b[1;37mCamera \u001b[1;34mcamera_manager.cpp:299 \u001b[0mlibcamera v0.0.4+22-923f5d70\n",
      "INFO:picamera2.picamera2:Initialization successful.\n",
      "INFO:picamera2.picamera2:Camera now open.\n",
      "INFO:picamera2.picamera2:Configuration successful!\n",
      "INFO:picamera2.picamera2:Camera started\n",
      "INFO:donkeycar.parts.camera:PiCamera opened...\n",
      "INFO:donkeycar.parts.camera:...warming camera\n",
      "INFO:donkeycar.parts.camera:PiCamera ready.\n",
      "INFO:donkeycar.vehicle:Adding part PiCamera.\n"
     ]
    }
   ],
   "source": [
    "add_camera(V, cfg, None)"
   ]
  },
  {
   "cell_type": "markdown",
   "id": "078e991c-febe-4118-9b15-cbc57a0dacbd",
   "metadata": {},
   "source": [
    "## Define web controller helper function"
   ]
  },
  {
   "cell_type": "code",
   "execution_count": 8,
   "id": "b3f19c9d-00f5-43ef-be3f-d53113269f8e",
   "metadata": {},
   "outputs": [],
   "source": [
    "from donkeycar.parts.controller import LocalWebController\n",
    "\n",
    "def add_user_controller(V, cfg, use_joystick, input_image='ui/image_array'):\n",
    "    \"\"\"\n",
    "    Add the web controller and any other\n",
    "    configured user input controller.\n",
    "    :param V: the vehicle pipeline.\n",
    "              On output this will be modified.\n",
    "    :param cfg: the configuration (from myconfig.py)\n",
    "    :return: the controller\n",
    "    \"\"\"\n",
    "\n",
    "    #\n",
    "    # This web controller will create a web server that is capable\n",
    "    # of managing steering, throttle, and modes, and more.\n",
    "    #\n",
    "    ctr = LocalWebController(port=cfg.WEB_CONTROL_PORT, mode=cfg.WEB_INIT_MODE)\n",
    "    V.add(ctr,\n",
    "          inputs=[input_image, 'tub/num_records', 'user/mode', 'recording'],\n",
    "          outputs=['user/steering', 'user/throttle', 'user/mode', 'recording', 'web/buttons'],\n",
    "          threaded=True)\n",
    "\n",
    "    return ctr\n"
   ]
  },
  {
   "cell_type": "code",
   "execution_count": 9,
   "id": "62485e6e-c2d3-4aa6-9d35-0b58fe7f160f",
   "metadata": {},
   "outputs": [
    {
     "name": "stderr",
     "output_type": "stream",
     "text": [
      "INFO:donkeycar.parts.web_controller.web:Starting Donkey Server...\n",
      "INFO:donkeycar.parts.web_controller.web:You can now go to donkey-52a83a.local:8887 to drive your car.\n",
      "INFO:donkeycar.vehicle:Adding part LocalWebController.\n"
     ]
    },
    {
     "data": {
      "text/plain": [
       "<donkeycar.parts.web_controller.web.LocalWebController at 0x7f5edcfb50>"
      ]
     },
     "execution_count": 9,
     "metadata": {},
     "output_type": "execute_result"
    }
   ],
   "source": [
    "add_user_controller(V, cfg, None, 'cam/image_array')"
   ]
  },
  {
   "cell_type": "code",
   "execution_count": 10,
   "id": "e42e2903-34e0-4fa2-bda1-8ce4c33a2b07",
   "metadata": {},
   "outputs": [
    {
     "name": "stderr",
     "output_type": "stream",
     "text": [
      "INFO:donkeycar.vehicle:Starting vehicle at 10 Hz\n",
      "INFO:tornado.access:304 GET /drive (192.168.3.213) 9.62ms\n",
      "INFO:tornado.access:101 GET /wsDrive (192.168.3.213) 1.60ms\n",
      "INFO:donkeycar.parts.web_controller.web:New client connected\n",
      "INFO:donkeycar.vehicle:Vehicle executed 70 steps in 6.917600631713867 seconds.\n",
      "INFO:donkeycar.vehicle:Shutting down vehicle and its parts...\n",
      "INFO:donkeycar.parts.camera:Stopping PiCamera\n",
      "INFO:picamera2.picamera2:Camera stopped\n",
      "INFO:picamera2.picamera2:Camera closed successfully.\n",
      "INFO:donkeycar.vehicle:Part Profile Summary: (times in ms)\n",
      "INFO:donkeycar.vehicle:\n",
      "+--------------------+------+------+------+------+------+------+-------+\n",
      "|        part        | max  | min  | avg  | 50%  | 90%  | 99%  | 99.9% |\n",
      "+--------------------+------+------+------+------+------+------+-------+\n",
      "|      PiCamera      | 0.05 | 0.02 | 0.03 | 0.03 | 0.04 | 0.05 |  0.05 |\n",
      "| LocalWebController | 0.89 | 0.11 | 0.21 | 0.16 | 0.32 | 0.86 |  0.88 |\n",
      "+--------------------+------+------+------+------+------+------+-------+\n"
     ]
    },
    {
     "name": "stdout",
     "output_type": "stream",
     "text": [
      "shutting down tornado\n",
      "shut down tornado completed\n"
     ]
    },
    {
     "data": {
      "text/plain": [
       "(70, 6.917600631713867)"
      ]
     },
     "execution_count": 10,
     "metadata": {},
     "output_type": "execute_result"
    }
   ],
   "source": [
    "## Putting them together\n",
    "\n",
    "V.start(max_loop_count=70)"
   ]
  },
  {
   "cell_type": "code",
   "execution_count": 33,
   "id": "7c224d5a-7406-45fa-84fd-ccbc158f33f6",
   "metadata": {},
   "outputs": [
    {
     "name": "stderr",
     "output_type": "stream",
     "text": [
      "INFO:donkeycar.vehicle:Shutting down vehicle and its parts...\n",
      "INFO:donkeycar.parts.camera:Stopping PiCamera\n",
      "INFO:donkeycar.vehicle:Part Profile Summary: (times in ms)\n",
      "INFO:donkeycar.vehicle:\n",
      "+--------------------+------+------+------+------+------+------+-------+\n",
      "|        part        | max  | min  | avg  | 50%  | 90%  | 99%  | 99.9% |\n",
      "+--------------------+------+------+------+------+------+------+-------+\n",
      "|      PiCamera      | 0.05 | 0.02 | 0.03 | 0.03 | 0.04 | 0.05 |  0.05 |\n",
      "| LocalWebController | 0.89 | 0.11 | 0.21 | 0.16 | 0.32 | 0.86 |  0.88 |\n",
      "+--------------------+------+------+------+------+------+------+-------+\n"
     ]
    },
    {
     "name": "stdout",
     "output_type": "stream",
     "text": [
      "shutting down tornado\n",
      "shut down tornado completed\n"
     ]
    }
   ],
   "source": [
    "V.stop()"
   ]
  },
  {
   "cell_type": "code",
   "execution_count": 34,
   "id": "036c5771-bf58-4805-bcfd-32b10062ab56",
   "metadata": {},
   "outputs": [
    {
     "name": "stdout",
     "output_type": "stream",
     "text": [
      "tcp        2      0 0.0.0.0:8887            0.0.0.0:*               LISTEN     \n",
      "tcp      942      0 192.168.1.191:8887      192.168.3.213:45878     CLOSE_WAIT \n",
      "tcp        0      0 192.168.1.191:8887      192.168.3.213:53022     ESTABLISHED\n",
      "tcp       58      0 192.168.1.191:8887      192.168.3.213:45896     CLOSE_WAIT \n",
      "tcp        1      0 192.168.1.191:8887      192.168.3.213:45882     CLOSE_WAIT \n",
      "tcp      857      0 192.168.1.191:8887      192.168.3.213:53016     CLOSE_WAIT \n",
      "tcp      883      0 192.168.1.191:8887      192.168.3.213:45894     CLOSE_WAIT \n"
     ]
    }
   ],
   "source": [
    "!netstat -an -A inet | grep 8887"
   ]
  }
 ],
 "metadata": {
  "kernelspec": {
   "display_name": "Python 3 (ipykernel)",
   "language": "python",
   "name": "python3"
  },
  "language_info": {
   "codemirror_mode": {
    "name": "ipython",
    "version": 3
   },
   "file_extension": ".py",
   "mimetype": "text/x-python",
   "name": "python",
   "nbconvert_exporter": "python",
   "pygments_lexer": "ipython3",
   "version": "3.9.2"
  }
 },
 "nbformat": 4,
 "nbformat_minor": 5
}
