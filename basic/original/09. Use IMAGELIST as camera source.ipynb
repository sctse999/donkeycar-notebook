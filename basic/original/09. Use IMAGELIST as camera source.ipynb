{
 "cells": [
  {
   "cell_type": "markdown",
   "id": "e9a07033-6cb0-4a89-9579-b98ae9b1e574",
   "metadata": {},
   "source": [
    "# Use IMAGELIST as camera source"
   ]
  },
  {
   "cell_type": "markdown",
   "id": "c9bf11ae-5c4c-486d-ac33-0270e39901e9",
   "metadata": {},
   "source": [
    "## Import some libraries"
   ]
  },
  {
   "cell_type": "code",
   "execution_count": 1,
   "id": "empty-serum",
   "metadata": {},
   "outputs": [
    {
     "name": "stdout",
     "output_type": "stream",
     "text": [
      "________             ______                   _________              \n",
      "___  __ \\_______________  /___________  __    __  ____/_____ ________\n",
      "__  / / /  __ \\_  __ \\_  //_/  _ \\_  / / /    _  /    _  __ `/_  ___/\n",
      "_  /_/ // /_/ /  / / /  ,<  /  __/  /_/ /     / /___  / /_/ /_  /    \n",
      "/_____/ \\____//_/ /_//_/|_| \\___/_\\__, /      \\____/  \\__,_/ /_/     \n",
      "                                 /____/                              \n",
      "\n",
      "using donkey v5.0.dev3 ...\n"
     ]
    }
   ],
   "source": [
    "import donkeycar as dk\n",
    "import os"
   ]
  },
  {
   "cell_type": "code",
   "execution_count": 2,
   "id": "f9e82d60-3c53-4d5f-8fdb-699272d44df6",
   "metadata": {},
   "outputs": [],
   "source": [
    "%run functions_donkey_car_parts.ipynb"
   ]
  },
  {
   "cell_type": "markdown",
   "id": "61256491-e50d-4190-9fa0-f8cc3c148a0e",
   "metadata": {},
   "source": [
    "## Loading myconfig"
   ]
  },
  {
   "cell_type": "code",
   "execution_count": 3,
   "id": "cf732874-422f-494f-abba-abbf537a5fb9",
   "metadata": {},
   "outputs": [
    {
     "name": "stderr",
     "output_type": "stream",
     "text": [
      "INFO:donkeycar.config:loading config file: /home/pi/mycar/config.py\n",
      "INFO:donkeycar.config:loading personal config over-rides from myconfig.py\n"
     ]
    }
   ],
   "source": [
    "cfg = dk.load_config(config_path=\"/home/pi/mycar/config.py\")"
   ]
  },
  {
   "cell_type": "code",
   "execution_count": 4,
   "id": "d189b6a3-c97e-4f5a-9f94-43dc0c26f550",
   "metadata": {},
   "outputs": [],
   "source": [
    "V = dk.vehicle.Vehicle()"
   ]
  },
  {
   "cell_type": "code",
   "execution_count": null,
   "id": "d2405a44-b317-4f2f-9420-6abe7fe2ef3e",
   "metadata": {},
   "outputs": [],
   "source": [
    "cfg.DRIVE_LOOP_HZ = 20"
   ]
  },
  {
   "cell_type": "markdown",
   "id": "9004170a-0955-41eb-8ed5-1b583bb1a196",
   "metadata": {},
   "source": [
    "## Define Camera Helper function"
   ]
  },
  {
   "cell_type": "code",
   "execution_count": 5,
   "id": "1b4293c1-a39a-4e79-b434-9aa48da1922e",
   "metadata": {},
   "outputs": [
    {
     "name": "stdout",
     "output_type": "stream",
     "text": [
      "/home/pi/donkeycar-notebook/basic/resource/red_line_tub/images\n"
     ]
    }
   ],
   "source": [
    "data_path = \"/home/pi/donkeycar-notebook/basic/resource\"\n",
    "tub_path = os.path.join(data_path, 'red_line_tub')\n",
    "images_path = os.path.join(tub_path, 'images')\n",
    "\n",
    "print(images_path)\n",
    "\n",
    "cfg.PATH_MASK = images_path + \"/*.jpg\""
   ]
  },
  {
   "cell_type": "code",
   "execution_count": 6,
   "id": "3c7f9ba9-28d5-4e56-a1cd-120477a398ff",
   "metadata": {},
   "outputs": [],
   "source": [
    "# Override the get_camera function to use a ImageListCamera\n",
    "\n",
    "def get_camera(cfg):\n",
    "    from donkeycar.parts.camera import ImageListCamera\n",
    "    cam = ImageListCamera(path_mask=cfg.PATH_MASK)\n",
    "\n",
    "    return cam"
   ]
  },
  {
   "cell_type": "code",
   "execution_count": 7,
   "id": "2cbc96cd-bac3-4a60-8e44-dec11b81555a",
   "metadata": {},
   "outputs": [
    {
     "name": "stderr",
     "output_type": "stream",
     "text": [
      "INFO:donkeycar.parts.camera:2136 images loaded.\n",
      "INFO:donkeycar.parts.camera:['/home/pi/donkeycar-notebook/basic/resource/red_line_tub/images/0_cam_image_array_.jpg', '/home/pi/donkeycar-notebook/basic/resource/red_line_tub/images/1_cam_image_array_.jpg', '/home/pi/donkeycar-notebook/basic/resource/red_line_tub/images/2_cam_image_array_.jpg', '/home/pi/donkeycar-notebook/basic/resource/red_line_tub/images/3_cam_image_array_.jpg', '/home/pi/donkeycar-notebook/basic/resource/red_line_tub/images/4_cam_image_array_.jpg', '/home/pi/donkeycar-notebook/basic/resource/red_line_tub/images/5_cam_image_array_.jpg', '/home/pi/donkeycar-notebook/basic/resource/red_line_tub/images/6_cam_image_array_.jpg', '/home/pi/donkeycar-notebook/basic/resource/red_line_tub/images/7_cam_image_array_.jpg', '/home/pi/donkeycar-notebook/basic/resource/red_line_tub/images/8_cam_image_array_.jpg', '/home/pi/donkeycar-notebook/basic/resource/red_line_tub/images/9_cam_image_array_.jpg']\n",
      "INFO:donkeycar.vehicle:Adding part ImageListCamera.\n"
     ]
    }
   ],
   "source": [
    "add_camera(V, cfg)"
   ]
  },
  {
   "cell_type": "markdown",
   "id": "078e991c-febe-4118-9b15-cbc57a0dacbd",
   "metadata": {},
   "source": [
    "## Define web controller helper function"
   ]
  },
  {
   "cell_type": "code",
   "execution_count": 8,
   "id": "62485e6e-c2d3-4aa6-9d35-0b58fe7f160f",
   "metadata": {},
   "outputs": [
    {
     "name": "stderr",
     "output_type": "stream",
     "text": [
      "INFO:donkeycar.parts.web_controller.web:Starting Donkey Server...\n",
      "INFO:donkeycar.parts.web_controller.web:You can now go to donkey-52a684.local:8887 to drive your car.\n",
      "INFO:donkeycar.vehicle:Adding part LocalWebController.\n"
     ]
    },
    {
     "data": {
      "text/plain": [
       "<donkeycar.parts.web_controller.web.LocalWebController at 0x7f4b958550>"
      ]
     },
     "execution_count": 8,
     "metadata": {},
     "output_type": "execute_result"
    }
   ],
   "source": [
    "add_user_controller(V, cfg, None, 'cam/image_array')"
   ]
  },
  {
   "cell_type": "code",
   "execution_count": 9,
   "id": "e42e2903-34e0-4fa2-bda1-8ce4c33a2b07",
   "metadata": {},
   "outputs": [
    {
     "data": {
      "text/html": [
       "You can now go to <a href=\"http://192.168.8.191:8887\" target=\"_blank\">http://192.168.8.191:8887</a> to drive your car."
      ],
      "text/plain": [
       "<IPython.core.display.HTML object>"
      ]
     },
     "metadata": {},
     "output_type": "display_data"
    },
    {
     "name": "stderr",
     "output_type": "stream",
     "text": [
      "INFO:donkeycar.vehicle:Starting vehicle at 10 Hz\n",
      "INFO:tornado.access:304 GET /drive (192.168.8.213) 7.44ms\n",
      "INFO:tornado.access:304 GET /drive (192.168.8.213) 7.44ms\n",
      "INFO:tornado.access:101 GET /wsDrive (192.168.8.213) 1.49ms\n",
      "INFO:tornado.access:101 GET /wsDrive (192.168.8.213) 1.49ms\n",
      "INFO:donkeycar.parts.web_controller.web:New client connected\n",
      "INFO:donkeycar.parts.web_controller.web:Client disconnected\n",
      "INFO:donkeycar.vehicle:Vehicle executed 700 steps in 70.05688381195068 seconds.\n",
      "INFO:donkeycar.vehicle:Shutting down vehicle and its parts...\n",
      "INFO:donkeycar.vehicle:Part Profile Summary: (times in ms)\n",
      "INFO:donkeycar.vehicle:\n",
      "+--------------------+------+------+------+------+------+------+-------+\n",
      "|        part        | max  | min  | avg  | 50%  | 90%  | 99%  | 99.9% |\n",
      "+--------------------+------+------+------+------+------+------+-------+\n",
      "|  ImageListCamera   | 9.50 | 0.90 | 1.58 | 1.53 | 2.77 | 3.29 |  5.52 |\n",
      "| LocalWebController | 1.89 | 0.13 | 0.25 | 0.20 | 0.36 | 1.55 |  1.87 |\n",
      "+--------------------+------+------+------+------+------+------+-------+\n"
     ]
    },
    {
     "data": {
      "text/plain": [
       "(700, 70.05688381195068)"
      ]
     },
     "execution_count": 9,
     "metadata": {},
     "output_type": "execute_result"
    }
   ],
   "source": [
    "## Putting them together\n",
    "\n",
    "# Get wireless LAN IP address\n",
    "import netifaces as ni\n",
    "from IPython.display import HTML\n",
    "ip = ni.ifaddresses('wlan0')[ni.AF_INET][0]['addr']\n",
    "url = f\"http://{ip}:{cfg.WEB_CONTROL_PORT}\"\n",
    "display(HTML(f'You can now go to <a href=\"{url}\" target=\"_blank\">{url}</a> to drive your car.'))\n",
    "\n",
    "V.start(max_loop_count=100)"
   ]
  },
  {
   "cell_type": "code",
   "execution_count": 10,
   "id": "7c224d5a-7406-45fa-84fd-ccbc158f33f6",
   "metadata": {},
   "outputs": [
    {
     "name": "stderr",
     "output_type": "stream",
     "text": [
      "INFO:donkeycar.vehicle:Shutting down vehicle and its parts...\n",
      "INFO:donkeycar.vehicle:Part Profile Summary: (times in ms)\n",
      "INFO:donkeycar.vehicle:\n",
      "+--------------------+------+------+------+------+------+------+-------+\n",
      "|        part        | max  | min  | avg  | 50%  | 90%  | 99%  | 99.9% |\n",
      "+--------------------+------+------+------+------+------+------+-------+\n",
      "|  ImageListCamera   | 9.50 | 0.90 | 1.58 | 1.53 | 2.77 | 3.29 |  5.52 |\n",
      "| LocalWebController | 1.89 | 0.13 | 0.25 | 0.20 | 0.36 | 1.55 |  1.87 |\n",
      "+--------------------+------+------+------+------+------+------+-------+\n"
     ]
    }
   ],
   "source": [
    "V.stop()"
   ]
  },
  {
   "cell_type": "code",
   "execution_count": 11,
   "id": "036c5771-bf58-4805-bcfd-32b10062ab56",
   "metadata": {},
   "outputs": [
    {
     "name": "stdout",
     "output_type": "stream",
     "text": [
      "tcp        0      0 0.0.0.0:8887            0.0.0.0:*               LISTEN     \n"
     ]
    }
   ],
   "source": [
    "!netstat -an -A inet | grep 8887"
   ]
  },
  {
   "cell_type": "markdown",
   "id": "be20deca-4e42-4424-9f86-693a3c314ad1",
   "metadata": {},
   "source": [
    "## Kill process listening to 8887"
   ]
  },
  {
   "cell_type": "code",
   "execution_count": null,
   "id": "2faf0a2a-8483-4116-a910-edbc08add455",
   "metadata": {},
   "outputs": [],
   "source": [
    "!kill -9 $(lsof -t -i:8887)"
   ]
  }
 ],
 "metadata": {
  "kernelspec": {
   "display_name": "Python 3 (ipykernel)",
   "language": "python",
   "name": "python3"
  },
  "language_info": {
   "codemirror_mode": {
    "name": "ipython",
    "version": 3
   },
   "file_extension": ".py",
   "mimetype": "text/x-python",
   "name": "python",
   "nbconvert_exporter": "python",
   "pygments_lexer": "ipython3",
   "version": "3.9.2"
  }
 },
 "nbformat": 4,
 "nbformat_minor": 5
}
