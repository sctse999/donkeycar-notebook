{
 "cells": [
  {
   "cell_type": "markdown",
   "id": "ed4e9546-4665-40a3-a04d-d19b6743c053",
   "metadata": {},
   "source": [
    "# Donkey Car FPS Logger"
   ]
  },
  {
   "cell_type": "markdown",
   "id": "3f2552f9-991a-4402-95a3-aacae05f9d54",
   "metadata": {},
   "source": [
    "## Stop after n loop"
   ]
  },
  {
   "cell_type": "code",
   "execution_count": 5,
   "id": "5fdc9de2-7f97-4471-a97d-86534f2e4d54",
   "metadata": {},
   "outputs": [
    {
     "name": "stdout",
     "output_type": "stream",
     "text": [
      "________             ______                   _________              \n",
      "___  __ \\_______________  /___________  __    __  ____/_____ ________\n",
      "__  / / /  __ \\_  __ \\_  //_/  _ \\_  / / /    _  /    _  __ `/_  ___/\n",
      "_  /_/ // /_/ /  / / /  ,<  /  __/  /_/ /     / /___  / /_/ /_  /    \n",
      "/_____/ \\____//_/ /_//_/|_| \\___/_\\__, /      \\____/  \\__,_/ /_/     \n",
      "                                 /____/                              \n",
      "\n",
      "using donkey v5.0.dev3 ...\n"
     ]
    },
    {
     "name": "stderr",
     "output_type": "stream",
     "text": [
      "INFO:donkeycar.vehicle:Starting vehicle at 10 Hz\n",
      "INFO:donkeycar.vehicle:Vehicle executed 50 steps in 4.905991792678833 seconds.\n",
      "INFO:donkeycar.vehicle:Shutting down vehicle and its parts...\n",
      "INFO:donkeycar.vehicle:Part Profile Summary: (times in ms)\n",
      "INFO:donkeycar.vehicle:\n",
      "+------+-----+-----+-----+-----+-----+-----+-------+\n",
      "| part | max | min | avg | 50% | 90% | 99% | 99.9% |\n",
      "+------+-----+-----+-----+-----+-----+-----+-------+\n",
      "+------+-----+-----+-----+-----+-----+-----+-------+\n"
     ]
    },
    {
     "data": {
      "text/plain": [
       "(50, 4.905991792678833)"
      ]
     },
     "execution_count": 5,
     "metadata": {},
     "output_type": "execute_result"
    }
   ],
   "source": [
    "import donkeycar as dk\n",
    "V = dk.vehicle.Vehicle()\n",
    "\n",
    "V.start(max_loop_count=50)"
   ]
  },
  {
   "cell_type": "markdown",
   "id": "52d7a60c-a82c-4b73-aafb-332c39333965",
   "metadata": {},
   "source": [
    "## The modulus operator"
   ]
  },
  {
   "cell_type": "code",
   "execution_count": 1,
   "id": "0301429a-aeef-4b41-9801-bfa9d44b7730",
   "metadata": {},
   "outputs": [
    {
     "data": {
      "text/plain": [
       "0"
      ]
     },
     "execution_count": 1,
     "metadata": {},
     "output_type": "execute_result"
    }
   ],
   "source": [
    "10 % 2"
   ]
  },
  {
   "cell_type": "code",
   "execution_count": 2,
   "id": "1c3fa89d-e7c3-4372-a3a8-d26af0199c34",
   "metadata": {},
   "outputs": [
    {
     "data": {
      "text/plain": [
       "1"
      ]
     },
     "execution_count": 2,
     "metadata": {},
     "output_type": "execute_result"
    }
   ],
   "source": [
    "10 % 3"
   ]
  },
  {
   "cell_type": "markdown",
   "id": "47a07d71-bdd0-4b4b-913d-b65e80c4a0f6",
   "metadata": {},
   "source": [
    "## If statement"
   ]
  },
  {
   "cell_type": "code",
   "execution_count": 3,
   "id": "56b6b7c9-2559-419d-8ccd-2f3f0fe61ba3",
   "metadata": {},
   "outputs": [
    {
     "name": "stdout",
     "output_type": "stream",
     "text": [
      "10 is divisible by 2\n"
     ]
    }
   ],
   "source": [
    "if 10 % 2 == 0:\n",
    "    print(\"10 is divisible by 2\")\n",
    "else:\n",
    "    print(\"10 is NOT divisible by 2\")"
   ]
  },
  {
   "cell_type": "markdown",
   "id": "9c46f712-76dc-4ae4-a980-5a4e15d90375",
   "metadata": {},
   "source": [
    "## A part that output one line per n execution\n",
    "\n",
    "Can you write a part that output the counter value after Every 30 executions?\n",
    "\n",
    "For example, the program below should output:\n",
    "```\n",
    "3\n",
    "6\n",
    "9\n",
    "```"
   ]
  },
  {
   "cell_type": "code",
   "execution_count": 6,
   "id": "6dd17ac2-7406-4ec1-8fc2-1f712feacf35",
   "metadata": {},
   "outputs": [
    {
     "name": "stderr",
     "output_type": "stream",
     "text": [
      "INFO:donkeycar.vehicle:Adding part HelloWorld.\n",
      "INFO:donkeycar.vehicle:Starting vehicle at 2 Hz\n"
     ]
    },
    {
     "name": "stdout",
     "output_type": "stream",
     "text": [
      "0\n",
      "0\n",
      "0\n",
      "0\n",
      "0\n",
      "0\n",
      "0\n",
      "0\n",
      "0\n"
     ]
    },
    {
     "name": "stderr",
     "output_type": "stream",
     "text": [
      "INFO:donkeycar.vehicle:Vehicle executed 10 steps in 4.504993677139282 seconds.\n",
      "INFO:donkeycar.vehicle:Shutting down vehicle and its parts...\n",
      "INFO:donkeycar.vehicle:Part Profile Summary: (times in ms)\n",
      "INFO:donkeycar.vehicle:\n",
      "+------------+------+------+------+------+------+------+-------+\n",
      "|    part    | max  | min  | avg  | 50%  | 90%  | 99%  | 99.9% |\n",
      "+------------+------+------+------+------+------+------+-------+\n",
      "| HelloWorld | 0.23 | 0.17 | 0.18 | 0.17 | 0.19 | 0.22 |  0.23 |\n",
      "+------------+------+------+------+------+------+------+-------+\n"
     ]
    },
    {
     "name": "stdout",
     "output_type": "stream",
     "text": [
      "0\n"
     ]
    },
    {
     "data": {
      "text/plain": [
       "(10, 4.504993677139282)"
      ]
     },
     "execution_count": 6,
     "metadata": {},
     "output_type": "execute_result"
    }
   ],
   "source": [
    "class HelloWorld:\n",
    "    def __init__(self):\n",
    "        self.counter = 0        \n",
    "        pass\n",
    "        \n",
    "    def run(self):\n",
    "        # TODO: Put your program here\n",
    "        print(self.counter)\n",
    "        pass\n",
    "\n",
    "V = dk.vehicle.Vehicle()\n",
    "V.add(HelloWorld())\n",
    "\n",
    "V.start(rate_hz=2, max_loop_count=10)\n"
   ]
  },
  {
   "cell_type": "markdown",
   "id": "a3f4e5f3-e930-4c4f-bc2a-009b8851bb39",
   "metadata": {},
   "source": [
    "### Answer"
   ]
  },
  {
   "cell_type": "code",
   "execution_count": 8,
   "id": "3918c357-6b50-4ef8-b60e-3fbd1690ec6d",
   "metadata": {},
   "outputs": [
    {
     "name": "stderr",
     "output_type": "stream",
     "text": [
      "INFO:donkeycar.vehicle:Adding part HelloWorld.\n",
      "INFO:donkeycar.vehicle:Starting vehicle at 20 Hz\n"
     ]
    },
    {
     "name": "stdout",
     "output_type": "stream",
     "text": [
      "30\n",
      "60\n",
      "90\n"
     ]
    },
    {
     "name": "stderr",
     "output_type": "stream",
     "text": [
      "INFO:donkeycar.vehicle:Vehicle executed 100 steps in 4.960118770599365 seconds.\n",
      "INFO:donkeycar.vehicle:Shutting down vehicle and its parts...\n",
      "INFO:donkeycar.vehicle:Part Profile Summary: (times in ms)\n",
      "INFO:donkeycar.vehicle:\n",
      "+------------+------+------+------+------+------+------+-------+\n",
      "|    part    | max  | min  | avg  | 50%  | 90%  | 99%  | 99.9% |\n",
      "+------------+------+------+------+------+------+------+-------+\n",
      "| HelloWorld | 0.31 | 0.01 | 0.03 | 0.02 | 0.03 | 0.31 |  0.31 |\n",
      "+------------+------+------+------+------+------+------+-------+\n"
     ]
    },
    {
     "data": {
      "text/plain": [
       "(100, 4.960118770599365)"
      ]
     },
     "execution_count": 8,
     "metadata": {},
     "output_type": "execute_result"
    }
   ],
   "source": [
    "class HelloWorld:\n",
    "    def __init__(self):\n",
    "        self.counter = 0        \n",
    "        pass\n",
    "        \n",
    "    def run(self):\n",
    "        self.counter = self.counter + 1\n",
    "\n",
    "        if (self.counter % 3 == 0):\n",
    "            print(self.counter)\n",
    "        \n",
    "\n",
    "V = dk.vehicle.Vehicle()\n",
    "V.add(HelloWorld())\n",
    "\n",
    "V.start(rate_hz=2, max_loop_count=10)\n"
   ]
  },
  {
   "cell_type": "markdown",
   "id": "c99c8c8e-239a-4d9f-9325-06ab0fd3dd4a",
   "metadata": {},
   "source": [
    "## The time library"
   ]
  },
  {
   "cell_type": "markdown",
   "id": "c6831894-f98c-4faa-84d9-3ca1fe17efe4",
   "metadata": {},
   "source": [
    "### The time.time() function\n",
    "\n",
    "`time.time()` return the time in seconds since the epoch as a floating point number. \n",
    "\n",
    "Run the below cell using Ctrl+Enter multiple times to observe how the time value chagnes\n",
    "\n",
    "\n",
    "[More info](https://docs.python.org/3/library/time.html#time.time)"
   ]
  },
  {
   "cell_type": "code",
   "execution_count": 54,
   "id": "c0c38102-5362-434f-b550-fa853a6d9f11",
   "metadata": {},
   "outputs": [
    {
     "data": {
      "text/plain": [
       "1710225547.5403945"
      ]
     },
     "execution_count": 54,
     "metadata": {},
     "output_type": "execute_result"
    }
   ],
   "source": [
    "import time\n",
    "\n",
    "time.time()"
   ]
  },
  {
   "cell_type": "markdown",
   "id": "5e18f840-3765-4746-ad17-1e4093ab6650",
   "metadata": {},
   "source": [
    "### Calculate time difference\n",
    "\n",
    "Modify the program below to calculate the time difference between `checkpoint1` and `checkpoint2`"
   ]
  },
  {
   "cell_type": "code",
   "execution_count": 55,
   "id": "49c604fd-fad9-4098-bac5-fb6e39749054",
   "metadata": {},
   "outputs": [],
   "source": [
    "checkpoint1 = time.time()\n",
    "time.sleep(0.5)\n",
    "checkpoint2 = time.time()"
   ]
  },
  {
   "cell_type": "markdown",
   "id": "1a95f7c2-9cc4-4541-b6a1-e49ac095039d",
   "metadata": {},
   "source": [
    "#### Answer"
   ]
  },
  {
   "cell_type": "code",
   "execution_count": 56,
   "id": "8afd5df3-3bee-4793-9e97-69e3f0e1e638",
   "metadata": {},
   "outputs": [
    {
     "data": {
      "text/plain": [
       "0.500816822052002"
      ]
     },
     "execution_count": 56,
     "metadata": {},
     "output_type": "execute_result"
    }
   ],
   "source": [
    "checkpoint1 = time.time()\n",
    "time.sleep(0.5)\n",
    "checkpoint2 = time.time()\n",
    "\n",
    "checkpoint2 - checkpoint1"
   ]
  },
  {
   "cell_type": "markdown",
   "id": "4943d0d3-155b-458a-9b51-e882585bfb8b",
   "metadata": {},
   "source": [
    "## Frame per second logger\n",
    "\n",
    "What does a frame per second do? It simply means that how many times we have run within one second.\n",
    "\n",
    "Consider the Hello World program and the `rate_hz` parameter, is it possible to output 10,000 lines of `Hello World` if you have set `rate_hz` to 10,000?\n",
    "\n",
    "Let's try"
   ]
  },
  {
   "cell_type": "code",
   "execution_count": null,
   "id": "e0769342-6812-4654-a369-4100942dfaea",
   "metadata": {},
   "outputs": [],
   "source": [
    "import donkeycar as dk\n",
    "import time\n",
    "\n",
    "class HelloWorld:\n",
    "    def __init__(self):\n",
    "        self.current_time = None        \n",
    "        pass\n",
    "        \n",
    "    def run(self):\n",
    "        previous_timestamp = self.current_time\n",
    "        self.current_time = time.time()\n",
    "        # print(f\"last_time = \\t {previous_timestamp}\")\n",
    "        # print(f\"current_time = \\t {self.current_time}\" )\n",
    "\n",
    "        if previous_timestamp is not None:\n",
    "            difference = self.current_time - previous_timestamp\n",
    "            # print(f\"Difference = {difference}\")\n",
    "            loop_hz = 1 / difference\n",
    "            print(f\"Running {loop_hz} per second\\n\")\n",
    "\n",
    "        \n",
    "V = dk.vehicle.Vehicle()\n",
    "\n",
    "V.add(camera())\n",
    "V.add(FinishLineDetector())\n",
    "\n",
    "V.add(HelloWorld())\n",
    "# V.add(SlowPart())\n",
    "\n",
    "V.start(rate_hz=10000)"
   ]
  },
  {
   "cell_type": "markdown",
   "id": "a0d26940-2e89-4742-bf61-2af47f7b51c5",
   "metadata": {},
   "source": [
    "Do you think it is really running at 10,000 times per second?\n",
    "\n",
    "Obviously not. How do we know exactly how much time it has run? Let's write a program"
   ]
  },
  {
   "cell_type": "markdown",
   "id": "d918c964-3bce-4082-8676-ca9668feadc1",
   "metadata": {},
   "source": [
    "## Challenge\n",
    "\n",
    "Now, use the following scaffold and write a program to calculate the fps"
   ]
  },
  {
   "cell_type": "code",
   "execution_count": null,
   "id": "dc125ca7-e653-41b1-a110-9eb0c237ce50",
   "metadata": {},
   "outputs": [],
   "source": [
    "class FrequencyLogger(object):\n",
    "    \"\"\"\n",
    "    Log current, min and max of frequency value\n",
    "    \"\"\"\n",
    "\n",
    "    def __init__(self):\n",
    "        self.marker = None\n",
    "        pass\n",
    "\n",
    "    def run(self):\n",
    "        difference = time.time() - last_marker;\n",
    "\n",
    "        \n"
   ]
  },
  {
   "cell_type": "markdown",
   "id": "e885e6f8-b49b-46dd-a39f-e3bd9e8a0373",
   "metadata": {},
   "source": [
    "## Shutdown"
   ]
  },
  {
   "cell_type": "code",
   "execution_count": null,
   "id": "30e9c5f3-1cb8-441d-986e-adfb54831aa1",
   "metadata": {},
   "outputs": [],
   "source": [
    "def shutdown(self):\n",
    "    if self.fps_list:\n",
    "        logger.info(f\"fps (min/max) = {min(self.fps_list):2d} / {max(self.fps_list):2d}\")\n",
    "        logger.info(f\"fps list = {self.fps_list}\".format())"
   ]
  },
  {
   "cell_type": "markdown",
   "id": "024a1cc4-a8af-4680-bff7-82a4887276d4",
   "metadata": {},
   "source": [
    "## Slow Part"
   ]
  },
  {
   "cell_type": "markdown",
   "id": "0ce3cdbf-8645-45c0-a505-d4482d92e34d",
   "metadata": {},
   "source": [
    "Add this slow part to slow down your execution. Check if your fps is working correctly"
   ]
  },
  {
   "cell_type": "code",
   "execution_count": null,
   "id": "c79e10d8-aa0e-4358-9264-9a950679f463",
   "metadata": {},
   "outputs": [],
   "source": [
    "class SlowPart():\n",
    "    def __init__(self):\n",
    "        pass\n",
    "\n",
    "    def run(self):\n",
    "        time.sleep(2)"
   ]
  },
  {
   "cell_type": "code",
   "execution_count": null,
   "id": "a195b6e0-cfc3-416a-a718-1dfe8bc77b1a",
   "metadata": {},
   "outputs": [],
   "source": [
    "### Test"
   ]
  }
 ],
 "metadata": {
  "kernelspec": {
   "display_name": "Python 3 (ipykernel)",
   "language": "python",
   "name": "python3"
  },
  "language_info": {
   "codemirror_mode": {
    "name": "ipython",
    "version": 3
   },
   "file_extension": ".py",
   "mimetype": "text/x-python",
   "name": "python",
   "nbconvert_exporter": "python",
   "pygments_lexer": "ipython3",
   "version": "3.9.2"
  }
 },
 "nbformat": 4,
 "nbformat_minor": 5
}
