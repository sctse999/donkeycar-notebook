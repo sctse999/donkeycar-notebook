{
 "cells": [
  {
   "cell_type": "markdown",
   "id": "8513baff-cafb-4967-87cf-7f9f03072744",
   "metadata": {},
   "outputs": [],
   "source": [
    "<img src=\"https://10botics.com/logo_jnb.png\" width=\"300\"/>"
   ]
  },
  {
   "cell_type": "code",
   "execution_count": null,
   "id": "3b7a2c27-dccf-4459-be66-58a47002050d",
   "metadata": {},
   "outputs": [],
   "source": [
    "from donkeycar.parts.controller import LocalWebController\n",
    "\n",
    "def add_user_controller(V, cfg, use_joystick, input_image='ui/image_array'):\n",
    "    \"\"\"\n",
    "    Add the web controller and any other\n",
    "    configured user input controller.\n",
    "    :param V: the vehicle pipeline.\n",
    "              On output this will be modified.\n",
    "    :param cfg: the configuration (from myconfig.py)\n",
    "    :return: the controller\n",
    "    \"\"\"\n",
    "\n",
    "    #\n",
    "    # This web controller will create a web server that is capable\n",
    "    # of managing steering, throttle, and modes, and more.\n",
    "    #\n",
    "    ctr = LocalWebController(port=cfg.WEB_CONTROL_PORT, mode=cfg.WEB_INIT_MODE)\n",
    "    V.add(ctr,\n",
    "          inputs=[input_image, 'tub/num_records', 'user/mode', 'recording'],\n",
    "          outputs=['user/steering', 'user/throttle', 'user/mode', 'recording', 'web/buttons'],\n",
    "          threaded=True)\n",
    "\n",
    "    return ctr\n"
   ]
  },
  {
   "cell_type": "code",
   "execution_count": null,
   "id": "fb4aae50-d5b7-4d09-a200-2d878fba5780",
   "metadata": {},
   "outputs": [],
   "source": [
    "def add_camera(V, cfg, type):\n",
    "    inputs = []\n",
    "    outputs = ['cam/image_array']\n",
    "    threaded = True\n",
    "    \n",
    "    if type == \"IMAGELIST\":\n",
    "        cam = get_image_camera(cfg)\n",
    "    elif type == \"PiCam\":\n",
    "        cam = get_pi_camera(cfg)\n",
    "    else:\n",
    "        raise Exception(\"No camera type\")\n",
    "    \n",
    "    V.add(cam, inputs=inputs, outputs=outputs, threaded=threaded)    \n",
    "\n",
    "def get_pi_camera(cfg):\n",
    "    from donkeycar.parts.camera import PiCamera\n",
    "    cam = PiCamera(image_w=cfg.IMAGE_W, image_h=cfg.IMAGE_H, image_d=cfg.IMAGE_DEPTH,\n",
    "                   vflip=cfg.CAMERA_VFLIP, hflip=cfg.CAMERA_HFLIP)\n",
    "\n",
    "    return cam\n",
    "\n",
    "def get_image_camera(cfg):\n",
    "    from donkeycar.parts.camera import ImageListCamera\n",
    "    cam = ImageListCamera(path_mask=cfg.PATH_MASK)\n",
    "\n",
    "    return cam"
   ]
  },
  {
   "cell_type": "code",
   "execution_count": null,
   "id": "053e9786-275d-4505-a5da-6e461d080113",
   "metadata": {},
   "outputs": [],
   "source": [
    "def display_drive_url():\n",
    "    # Get wireless LAN IP address\n",
    "    import netifaces as ni\n",
    "    from IPython.display import HTML\n",
    "    ip = ni.ifaddresses('wlan0')[ni.AF_INET][0]['addr']\n",
    "    url = f\"http://{ip}:{cfg.WEB_CONTROL_PORT}\"\n",
    "    display(HTML(f'You can now go to <a href=\"{url}\" target=\"_blank\">{url}</a> to drive your car.'))\n"
   ]
  },
  {
   "cell_type": "code",
   "execution_count": null,
   "id": "c4077462-a0d9-45a4-ae09-1e4a7c9e29e4",
   "metadata": {},
   "outputs": [],
   "source": [
    "def get_red_line_tub_images_path():\n",
    "    data_path = \"/home/pi/donkeycar-notebook/basic/resource\"\n",
    "    tub_path = os.path.join(data_path, 'red_line_tub')\n",
    "    images_path = os.path.join(tub_path, 'images')\n",
    "\n",
    "    return images_path\n",
    "\n"
   ]
  },
  {
   "cell_type": "markdown",
   "id": "5cccca4b-bbac-4aa2-9743-ad73c8337fcd",
   "metadata": {},
   "outputs": [],
   "source": [
    "<hr/>"
   ]
  },
  {
   "cell_type": "markdown",
   "id": "3b376544-2517-4b95-913f-ce6f522ce5bf",
   "metadata": {},
   "outputs": [],
   "source": [
    "## Congratulation! You have finished this chapter."
   ]
  },
  {
   "cell_type": "markdown",
   "id": "d63a5467-8b99-4112-a85f-8c63a83d575a",
   "metadata": {},
   "outputs": [],
   "source": [
    "This jupyter notebook is created by 10Botics. <br>\n",
    "For permission to use in school, please contact info@10botics.com <br>\n",
    "All rights reserved. 2024."
   ]
  }
 ],
 "metadata": {
  "kernelspec": {
   "display_name": "Python 3 (ipykernel)",
   "language": "python",
   "name": "python3"
  },
  "language_info": {
   "codemirror_mode": {
    "name": "ipython",
    "version": 3
   },
   "file_extension": ".py",
   "mimetype": "text/x-python",
   "name": "python",
   "nbconvert_exporter": "python",
   "pygments_lexer": "ipython3",
   "version": "3.9.2"
  }
 },
 "nbformat": 4,
 "nbformat_minor": 5
}
