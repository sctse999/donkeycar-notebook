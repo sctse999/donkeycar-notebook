{
 "cells": [
  {
   "cell_type": "markdown",
   "id": "8513baff-cafb-4967-87cf-7f9f03072744",
   "metadata": {},
   "outputs": [],
   "source": [
    "<img src=\"https://10botics.com/logo_jnb.png\" width=\"300\"/>"
   ]
  },
  {
   "cell_type": "markdown",
   "id": "ed4e9546-4665-40a3-a04d-d19b6743c053",
   "metadata": {},
   "outputs": [],
   "source": [
    "# Donkey Car Hello World - Part 1"
   ]
  },
  {
   "cell_type": "markdown",
   "id": "4943d0d3-155b-458a-9b51-e882585bfb8b",
   "metadata": {},
   "outputs": [],
   "source": [
    "## Import the donkey car library"
   ]
  },
  {
   "cell_type": "code",
   "execution_count": null,
   "id": "dc125ca7-e653-41b1-a110-9eb0c237ce50",
   "metadata": {},
   "outputs": [],
   "source": [
    "import donkeycar as dk"
   ]
  },
  {
   "cell_type": "markdown",
   "id": "ac9a8cf4-f692-434e-9a64-5c312852cfd3",
   "metadata": {},
   "outputs": [],
   "source": [
    "## Create a vehicle"
   ]
  },
  {
   "cell_type": "code",
   "execution_count": null,
   "id": "0db19d15-2d8b-422d-bd00-89a0fc0a1d6c",
   "metadata": {},
   "outputs": [],
   "source": [
    "V = dk.vehicle.Vehicle()"
   ]
  },
  {
   "cell_type": "markdown",
   "id": "c8a4a342-98ba-49e9-bb5b-08801e9ac301",
   "metadata": {},
   "outputs": [],
   "source": [
    "## Start the vehicle\n",
    "1. When you run the cell below, notice that it won't stop automatically.\n",
    "2. You need to hit the interrupt kernel button in the toolbar above."
   ]
  },
  {
   "cell_type": "code",
   "execution_count": null,
   "id": "876fdf83-b4c7-47d7-ba8b-feb8f67df63c",
   "metadata": {},
   "outputs": [],
   "source": [
    "V.start()"
   ]
  },
  {
   "cell_type": "markdown",
   "id": "de48aa13-62b4-42f2-a372-f8ace34feeed",
   "metadata": {},
   "outputs": [],
   "source": [
    "## Exercise\n"
   ]
  },
  {
   "cell_type": "code",
   "execution_count": null,
   "id": "326d3dca-fb13-448b-86da-ad1c41c25048",
   "metadata": {},
   "outputs": [],
   "source": [
    "# Combine the above together"
   ]
  },
  {
   "cell_type": "markdown",
   "id": "3bcb6b21-90d0-476b-85a9-b65ab6dbc0ab",
   "metadata": {
    "jp-MarkdownHeadingCollapsed": true
   },
   "outputs": [],
   "source": [
    "### Answer"
   ]
  },
  {
   "cell_type": "code",
   "execution_count": null,
   "id": "4bd3e143-7765-4650-afc1-4aea46be41fc",
   "metadata": {},
   "outputs": [],
   "source": [
    "import donkeycar as dk\n",
    "V = dk.vehicle.Vehicle()\n",
    "V.start()"
   ]
  },
  {
   "cell_type": "markdown",
   "id": "ce4a9c63-2d79-4afc-8062-bb0238f49d07",
   "metadata": {},
   "outputs": [],
   "source": [
    "## Add a hello world to this program"
   ]
  },
  {
   "cell_type": "code",
   "execution_count": null,
   "id": "108b8a98-e937-45f8-b7e5-e135f574899d",
   "metadata": {},
   "outputs": [],
   "source": [
    "import donkeycar as dk\n",
    "V = dk.vehicle.Vehicle()\n",
    "\n",
    "print(\"hello world\")\n",
    "\n",
    "V.start()"
   ]
  },
  {
   "cell_type": "markdown",
   "id": "03333f16-00e6-44f6-b1fc-d20cdb63e6ff",
   "metadata": {},
   "outputs": [],
   "source": [
    "## Question\n",
    "1. Does the hello world show up repeatedly? Or does it just show once?\n",
    "2. Why do we want the hello world to be displayed repeatedly?\n",
    "3. How do display the hello world repeatedly?"
   ]
  },
  {
   "cell_type": "markdown",
   "id": "f3359378-977a-4d1f-b739-f57e8ff69cad",
   "metadata": {},
   "outputs": [],
   "source": [
    "## Introduction to donkey part\n",
    "\n",
    "The sample below is the simplest form of a donkey part. It does nothing except saying Hello World in each vehicle loop."
   ]
  },
  {
   "cell_type": "code",
   "execution_count": null,
   "id": "2bdaeaba-db06-40f3-a760-07f6c3fa5a22",
   "metadata": {},
   "outputs": [],
   "source": [
    "class HelloWorld:\n",
    "    def __init__(self):\n",
    "        pass\n",
    "        \n",
    "    def run(self):\n",
    "       print(f\"Hello World\" )"
   ]
  },
  {
   "cell_type": "markdown",
   "id": "aeada92f-2baa-447b-a189-ad0046d385bf",
   "metadata": {},
   "outputs": [],
   "source": [
    "## Add the part to the vehicle\n",
    "\n",
    "By running the cell below, you should see Hello World display 10 times per second."
   ]
  },
  {
   "cell_type": "code",
   "execution_count": null,
   "id": "c121a673-48f0-47b6-b3c4-3a6fb09b8046",
   "metadata": {},
   "outputs": [],
   "source": [
    "V.add(HelloWorld())\n",
    "V.start()"
   ]
  },
  {
   "cell_type": "markdown",
   "id": "7f48c08d-dc64-4a5a-b87d-6cb3b2994f6f",
   "metadata": {},
   "outputs": [],
   "source": [
    "## Question\n",
    "1. Why 10 times per second?\n",
    "2. How to display faster or slower?\n",
    "3. Do you notice that the performance table now show a new row called HelloWorld. What are the meaning of those columns?"
   ]
  },
  {
   "cell_type": "markdown",
   "id": "720a0a0c-db70-4cbe-a14d-6736530684f3",
   "metadata": {},
   "outputs": [],
   "source": [
    "## rate_hz parameter\n",
    "The rate_hz parameter control how fast or slow each part run per second. "
   ]
  },
  {
   "cell_type": "code",
   "execution_count": null,
   "id": "be893ecc-fd1e-4903-a2ae-26003f8d49fa",
   "metadata": {},
   "outputs": [],
   "source": [
    "V.start(rate_hz=2)"
   ]
  },
  {
   "cell_type": "markdown",
   "id": "94c46e05-6791-4209-b60f-cf852b3e5876",
   "metadata": {},
   "outputs": [],
   "source": [
    "## Exercise\n",
    "\n",
    "1. Can you try using another number for the rate_hz?\n",
    "2. Can we do 100 instead of 2?"
   ]
  },
  {
   "cell_type": "markdown",
   "id": "8e33c70c-af6a-45c5-b10e-d68cb16c0768",
   "metadata": {},
   "outputs": [],
   "source": [
    "### 1. Use a different rate_hz\n",
    "\n",
    "Rewrite this program to use a display 5 hello world per second"
   ]
  },
  {
   "cell_type": "code",
   "execution_count": null,
   "id": "8dd50732-0dff-4f7a-8c24-a1c63c893f24",
   "metadata": {},
   "outputs": [],
   "source": [
    "V.start(rate_hz=2)"
   ]
  },
  {
   "cell_type": "markdown",
   "id": "f0ef44e7-0727-4460-bee6-4b49c832d6e0",
   "metadata": {
    "jp-MarkdownHeadingCollapsed": true
   },
   "outputs": [],
   "source": [
    "#### Answer"
   ]
  },
  {
   "cell_type": "code",
   "execution_count": null,
   "id": "8be6dd77-4aaa-4080-ab81-c165ada59beb",
   "metadata": {},
   "outputs": [],
   "source": [
    "V.start(rate_hz=5)"
   ]
  },
  {
   "cell_type": "markdown",
   "id": "0893214a-3a66-4583-8c7d-60a0aa9d2297",
   "metadata": {},
   "outputs": [],
   "source": [
    "### What happen if we change rate_hz to 100?"
   ]
  },
  {
   "cell_type": "code",
   "execution_count": null,
   "id": "aee3bf21-f437-440f-b98b-bff731b73c53",
   "metadata": {},
   "outputs": [],
   "source": [
    "V.start(rate_hz=100)"
   ]
  },
  {
   "cell_type": "markdown",
   "id": "5cccca4b-bbac-4aa2-9743-ad73c8337fcd",
   "metadata": {},
   "outputs": [],
   "source": [
    "<hr/>"
   ]
  },
  {
   "cell_type": "markdown",
   "id": "3b376544-2517-4b95-913f-ce6f522ce5bf",
   "metadata": {},
   "outputs": [],
   "source": [
    "## Congratulation! You have finished this chapter."
   ]
  },
  {
   "cell_type": "markdown",
   "id": "d63a5467-8b99-4112-a85f-8c63a83d575a",
   "metadata": {},
   "outputs": [],
   "source": [
    "This jupyter notebook is created by 10Botics. <br>\n",
    "For permission to use in school, please contact info@10botics.com <br>\n",
    "All rights reserved. 2024."
   ]
  }
 ],
 "metadata": {
  "kernelspec": {
   "display_name": "Python 3 (ipykernel)",
   "language": "python",
   "name": "python3"
  },
  "language_info": {
   "codemirror_mode": {
    "name": "ipython",
    "version": 3
   },
   "file_extension": ".py",
   "mimetype": "text/x-python",
   "name": "python",
   "nbconvert_exporter": "python",
   "pygments_lexer": "ipython3",
   "version": "3.9.2"
  }
 },
 "nbformat": 4,
 "nbformat_minor": 5
}
