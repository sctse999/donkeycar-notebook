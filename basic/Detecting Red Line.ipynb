{
 "cells": [
  {
   "cell_type": "markdown",
   "id": "8513baff-cafb-4967-87cf-7f9f03072744",
   "metadata": {},
   "outputs": [],
   "source": [
    "<img src=\"https://10botics.com/logo_jnb.png\" width=\"300\"/>"
   ]
  },
  {
   "cell_type": "markdown",
   "id": "c915ab2c-d53a-40f5-aa38-71d6468eebe8",
   "metadata": {},
   "outputs": [],
   "source": [
    "# Detecting red line"
   ]
  },
  {
   "cell_type": "code",
   "execution_count": null,
   "id": "1c4a2058-d298-4a9d-9f56-8afb49e87eaf",
   "metadata": {},
   "outputs": [],
   "source": [
    "import time\n",
    "import numpy as np\n",
    "import cv2\n",
    "import matplotlib.pyplot as plt"
   ]
  },
  {
   "cell_type": "markdown",
   "id": "2784c153-9284-4e40-8d28-aaf0bc7f6a55",
   "metadata": {},
   "outputs": [],
   "source": [
    "## Red Color"
   ]
  },
  {
   "cell_type": "markdown",
   "id": "bfac2c81-5899-4db4-b74f-9e24f4a14c0c",
   "metadata": {},
   "outputs": [],
   "source": [
    "### Create a red color block"
   ]
  },
  {
   "cell_type": "code",
   "execution_count": null,
   "id": "0d0fb4fe-832b-469d-92ff-37473902b807",
   "metadata": {},
   "outputs": [],
   "source": [
    "# Define the dimensions of each color strip\n",
    "height = 10\n",
    "width = 10\n",
    "\n",
    "# Create an empty image of the required size with 3 layers for RGB\n",
    "image = np.zeros((height , width, 3), dtype=np.uint8)\n",
    "image[:,:] = (255,0,0)\n",
    "\n",
    "# Display the image using matplotlib\n",
    "plt.figure(figsize=(3, 3))\n",
    "plt.imshow(image)\n",
    "plt.show()"
   ]
  },
  {
   "cell_type": "markdown",
   "id": "b3149e11-8dec-4dfa-a813-86170410a375",
   "metadata": {},
   "outputs": [],
   "source": [
    "### Exercise 1: Change to other possible red color"
   ]
  },
  {
   "cell_type": "code",
   "execution_count": null,
   "id": "608ece21-71b5-49be-85ea-571a215dd13e",
   "metadata": {},
   "outputs": [],
   "source": [
    "# Define the dimensions of each color strip\n",
    "height = 10\n",
    "width = 10\n",
    "\n",
    "# Create an empty image of the required size with 3 layers for RGB\n",
    "image = np.zeros((height , width, 3), dtype=np.uint8)\n",
    "image[:,:] = (255,0,0)\n",
    "\n",
    "# Display the image using matplotlib\n",
    "plt.figure(figsize=(3, 3))\n",
    "plt.imshow(image)\n",
    "plt.show()"
   ]
  },
  {
   "cell_type": "markdown",
   "id": "da8c4979-5514-44dc-a22d-18016f9b9bb9",
   "metadata": {},
   "outputs": [],
   "source": [
    "### Exercise 2: Create a red gradient strip\n",
    "\n",
    "Modify the code below to display a red gradient strip\n",
    "Hints: Use for-loop\n",
    "\n",
    "\n",
    "<img src=\"./resource/playing_image_red_gradient.png\" width=300/>"
   ]
  },
  {
   "cell_type": "code",
   "execution_count": null,
   "id": "d6289df0-9bba-43f9-9486-80016bc265c3",
   "metadata": {},
   "outputs": [],
   "source": [
    "# Define the dimensions\n",
    "height = 90\n",
    "width = 255\n",
    "\n",
    "# Create an empty image of the required size with 3 layers for RGB\n",
    "image = np.zeros((height , width, 3), dtype=np.uint8)\n",
    "\n",
    "# Write your code here\n",
    "for x in range(height):\n",
    "    for y in range(width):\n",
    "        image[x][y] = (0,0,0)        \n",
    "\n",
    "# Display the image using matplotlib\n",
    "plt.figure(figsize=(3, 3))\n",
    "plt.imshow(image)\n",
    "plt.show()"
   ]
  },
  {
   "cell_type": "markdown",
   "id": "3caffa71-6fcc-4e4d-a26b-6c8ef2652950",
   "metadata": {
    "jp-MarkdownHeadingCollapsed": true
   },
   "outputs": [],
   "source": [
    "#### Answer"
   ]
  },
  {
   "cell_type": "code",
   "execution_count": null,
   "id": "1f6bc570-1ff1-49f7-a1f2-a1f95945e8ca",
   "metadata": {},
   "outputs": [],
   "source": [
    "# Define the dimensions\n",
    "height = 90\n",
    "width = 255\n",
    "\n",
    "# Create an empty image of the required size with 3 layers for RGB\n",
    "image = np.zeros((height , width, 3), dtype=np.uint8)\n",
    "\n",
    "# Write your code here\n",
    "for x in range(height):\n",
    "    for y in range(width):\n",
    "        image[x][y] = (0,0,0)        \n",
    "\n",
    "# Display the image using matplotlib\n",
    "plt.figure(figsize=(3, 3))\n",
    "plt.imshow(image)\n",
    "plt.show()"
   ]
  },
  {
   "cell_type": "markdown",
   "id": "4398a5cb-4f0d-4c37-8206-01cdf998234f",
   "metadata": {},
   "outputs": [],
   "source": [
    "### Exercise 3: Create a vertical gradient strip\n",
    "\n",
    "\n",
    "<img src=\"./resource/playing_image_red_gradient_vertical.png\" width=300/>"
   ]
  },
  {
   "cell_type": "code",
   "execution_count": null,
   "id": "e6a01632-1b06-4cd8-8f39-4241ebd88328",
   "metadata": {},
   "outputs": [],
   "source": [
    "# Define the dimensions\n",
    "height = 255\n",
    "width = 255\n",
    "\n",
    "# Create an empty image of the required size with 3 layers for RGB\n",
    "image = np.zeros((height , width, 3), dtype=np.uint8)\n",
    "\n",
    "# Write your code here\n",
    "for x in range(height):\n",
    "    for y in range(width):\n",
    "        image[x][y] = (0,0,0) \n",
    "\n",
    "# Display the image using matplotlib\n",
    "plt.figure(figsize=(3, 3))\n",
    "plt.imshow(image)\n",
    "plt.show()"
   ]
  },
  {
   "cell_type": "markdown",
   "id": "2fc14593-6e39-45c3-a10d-b0aa07c34073",
   "metadata": {
    "jp-MarkdownHeadingCollapsed": true
   },
   "outputs": [],
   "source": [
    "#### Answer"
   ]
  },
  {
   "cell_type": "code",
   "execution_count": null,
   "id": "0649cd1d-bd41-46a2-bd47-3a7175ebe066",
   "metadata": {},
   "outputs": [],
   "source": [
    "# Define the dimensions\n",
    "height = 255\n",
    "width = 255\n",
    "\n",
    "# Create an empty image of the required size with 3 layers for RGB\n",
    "image = np.zeros((height , width, 3), dtype=np.uint8)\n",
    "\n",
    "# Write your code here\n",
    "for x in range(height):\n",
    "    for y in range(width):\n",
    "        image[x][y] = (x,0,0) \n",
    "\n",
    "# Display the image using matplotlib\n",
    "plt.figure(figsize=(3, 3))\n",
    "plt.imshow(image)\n",
    "plt.show()"
   ]
  },
  {
   "cell_type": "markdown",
   "id": "ed850dd1-c2b5-41ec-8fac-199e7e833ea6",
   "metadata": {},
   "outputs": [],
   "source": [
    "## Converting Color Space"
   ]
  },
  {
   "cell_type": "markdown",
   "id": "ff932940-95fb-40d2-9693-326c8bf5c51a",
   "metadata": {},
   "outputs": [],
   "source": [
    "### From RGB to HSV\n",
    "\n",
    "Let's create a pure red image"
   ]
  },
  {
   "cell_type": "code",
   "execution_count": null,
   "id": "cee200ba-af97-4b40-8bee-3c68ae119301",
   "metadata": {},
   "outputs": [],
   "source": [
    "image = np.zeros((height , width, 3), dtype=np.uint8)\n",
    "\n",
    "image[:,:] = (255,0,0)\n",
    "plt.figure(figsize=(3, 3))\n",
    "plt.imshow(image)"
   ]
  },
  {
   "cell_type": "markdown",
   "id": "ce073b56-f9e8-4dc3-939a-a12888ce8a87",
   "metadata": {},
   "outputs": [],
   "source": [
    "We use `cv2.cvtColor(image, cv2.COLOR_RGB2HSV)` to convert an image to HSV color space"
   ]
  },
  {
   "cell_type": "code",
   "execution_count": null,
   "id": "adfbfa88-93da-4925-b44b-18c482f04f5e",
   "metadata": {},
   "outputs": [],
   "source": [
    "image_hsv = cv2.cvtColor(image, cv2.COLOR_RGB2HSV)"
   ]
  },
  {
   "cell_type": "code",
   "execution_count": null,
   "id": "2b21e05e-d03e-4f04-8aaf-3935f582d767",
   "metadata": {},
   "outputs": [],
   "source": [
    "# Let's check the value of the converted image\n",
    "image_hsv[0][0]"
   ]
  },
  {
   "cell_type": "markdown",
   "id": "2e73b63a-77c7-4a6f-8c28-bb44f0fb99d1",
   "metadata": {},
   "outputs": [],
   "source": [
    "If we use `plt.imshow` to show the image, we will see a different color because `imshow` by default assume the image in RGB colorspace."
   ]
  },
  {
   "cell_type": "code",
   "execution_count": null,
   "id": "89118d2c-42f6-446c-81ab-b72b2a44d3b5",
   "metadata": {},
   "outputs": [],
   "source": [
    "plt.imshow(image_hsv)"
   ]
  },
  {
   "cell_type": "markdown",
   "id": "fcf2dea3-a47a-42c6-b7a3-870979595f86",
   "metadata": {},
   "outputs": [],
   "source": [
    "### From HSV to RGB\n",
    "\n",
    "We can simply use `cvtColor` to convert the color space again.\n",
    "\n",
    "See the full list of conversion here: https://docs.opencv.org/3.4/d8/d01/group__imgproc__color__conversions.html"
   ]
  },
  {
   "cell_type": "code",
   "execution_count": null,
   "id": "0bc4fb94-3153-44aa-896b-b54afe63aaa0",
   "metadata": {},
   "outputs": [],
   "source": [
    "image_rgb = cv2.cvtColor(image_hsv, cv2.COLOR_HSV2RGB)\n",
    "plt.imshow(image_rgb)"
   ]
  },
  {
   "cell_type": "markdown",
   "id": "e0402db9-fdb8-4f14-93fa-77f44bd2a0c6",
   "metadata": {},
   "outputs": [],
   "source": [
    "## Detect red pixels in an image"
   ]
  },
  {
   "cell_type": "markdown",
   "id": "0258a31a-de96-466d-ae89-79fcf2195970",
   "metadata": {},
   "outputs": [],
   "source": [
    "Given an image, it is hard to pick the red color using RGB colorspace. Instead, we use HSV to do so.\n",
    "\n",
    "Consider the vertical gradient we have done before, how do you detect the red color?"
   ]
  },
  {
   "cell_type": "code",
   "execution_count": null,
   "id": "38e270b1-898b-4080-a3bf-8fce884aed33",
   "metadata": {},
   "outputs": [],
   "source": [
    "# Define the dimensions\n",
    "height = 255\n",
    "width = 255\n",
    "\n",
    "# Create an empty image of the required size with 3 layers for RGB\n",
    "image = np.zeros((height , width, 3), dtype=np.uint8)\n",
    "\n",
    "# Write your code here\n",
    "for x in range(height):\n",
    "    for y in range(width):\n",
    "        image[x][y] = (x,0,0) \n",
    "\n",
    "# Display the image using matplotlib\n",
    "plt.figure(figsize=(3, 3))\n",
    "plt.imshow(image)\n",
    "plt.show()"
   ]
  },
  {
   "cell_type": "markdown",
   "id": "58b9c973-230f-4d0f-9d9b-3f710f32f567",
   "metadata": {},
   "outputs": [],
   "source": [
    "### Create the HSV version"
   ]
  },
  {
   "cell_type": "code",
   "execution_count": null,
   "id": "1082df09-c849-4ede-b69b-c365fb960246",
   "metadata": {},
   "outputs": [],
   "source": [
    "image_hsv = cv2.cvtColor(image, cv2.COLOR_RGB2HSV)\n",
    "plt.imshow(image_hsv)"
   ]
  },
  {
   "cell_type": "markdown",
   "id": "e98c7737-8d0d-48e4-ba05-48d3c911729f",
   "metadata": {},
   "outputs": [],
   "source": [
    "### Mask Hue 0-10 (Mild Red to Warm Red)"
   ]
  },
  {
   "cell_type": "code",
   "execution_count": null,
   "id": "404dd106-53d1-4e51-95d7-ac550c7fd722",
   "metadata": {},
   "outputs": [],
   "source": [
    "lower_red = np.array([0,100,100])\n",
    "upper_red = np.array([10,255,255])\n",
    "mask0 = cv2.inRange(image_hsv, lower_red, upper_red)\n",
    "plt.matshow(mask0, cmap = 'gray')"
   ]
  },
  {
   "cell_type": "markdown",
   "id": "4481f9fb-8450-4756-ae47-99716d3f7d54",
   "metadata": {},
   "outputs": [],
   "source": [
    "### Mask Hue 170-180 (Cool Red to Mild Red)"
   ]
  },
  {
   "cell_type": "code",
   "execution_count": null,
   "id": "511bb01c-393a-4969-ae01-da756862712e",
   "metadata": {},
   "outputs": [],
   "source": [
    "lower_red = np.array([170,100,100])\n",
    "upper_red = np.array([180,255,255])\n",
    "mask1 = cv2.inRange(image_hsv, lower_red, upper_red)\n",
    "plt.matshow(mask1, cmap = 'gray')"
   ]
  },
  {
   "cell_type": "markdown",
   "id": "91826cd8-671f-49eb-8ce7-be308d7c5d15",
   "metadata": {},
   "outputs": [],
   "source": [
    "### Combining the mask"
   ]
  },
  {
   "cell_type": "code",
   "execution_count": null,
   "id": "d33ca965-8ea8-4756-8c90-2bbc2bbbd666",
   "metadata": {},
   "outputs": [],
   "source": [
    " # join my masks\n",
    "mask = mask0+mask1\n",
    "plt.matshow(mask, cmap = 'gray')"
   ]
  },
  {
   "cell_type": "markdown",
   "id": "10673acd-184f-463d-944f-6cc6763d8cdd",
   "metadata": {},
   "outputs": [],
   "source": [
    "## Use a real image to test"
   ]
  },
  {
   "cell_type": "markdown",
   "id": "2a55de5e-9fe9-4e81-b39e-b67ea24a847e",
   "metadata": {},
   "outputs": [],
   "source": [
    "### Read the image"
   ]
  },
  {
   "cell_type": "code",
   "execution_count": null,
   "id": "25ed234d-54dc-4a86-924a-02d8abe85ff3",
   "metadata": {},
   "outputs": [],
   "source": [
    "image = cv2.imread(\"../../advance/resource/image_finish_line.jpg\")\n",
    "image = cv2.cvtColor(image, cv2.COLOR_BGR2RGB)\n",
    "plt.imshow(image)"
   ]
  },
  {
   "cell_type": "markdown",
   "id": "a648621c-565e-4162-b40f-918f8b45a99b",
   "metadata": {},
   "outputs": [],
   "source": [
    "### Exercise: Convert the image to HSV\n",
    "\n",
    "Refer to the code sample in earlier section, complete the following program"
   ]
  },
  {
   "cell_type": "code",
   "execution_count": null,
   "id": "4ed7e12d-47d2-4359-8233-0fdea688e917",
   "metadata": {},
   "outputs": [],
   "source": [
    "# Complete the code below\n",
    "image_hsv = \n",
    "plt.imshow(image_hsv)"
   ]
  },
  {
   "cell_type": "markdown",
   "id": "40a4e45d-ac0f-4307-b0ed-678aa6885e38",
   "metadata": {
    "jp-MarkdownHeadingCollapsed": true
   },
   "outputs": [],
   "source": [
    "#### Answer"
   ]
  },
  {
   "cell_type": "code",
   "execution_count": null,
   "id": "fc5ac0c3-be5d-4746-a055-c7b0f10e7d39",
   "metadata": {},
   "outputs": [],
   "source": [
    "image_hsv = cv2.cvtColor(image, cv2.COLOR_RGB2HSV)\n",
    "plt.imshow(image_hsv)"
   ]
  },
  {
   "cell_type": "markdown",
   "id": "2a89c22f-180b-4dfe-a50d-873e4e19624f",
   "metadata": {},
   "outputs": [],
   "source": [
    "### Exercise: Create a mask for Hue 0 - 10\n",
    "\n",
    "Complete the code here, name the mask `mask0`"
   ]
  },
  {
   "cell_type": "code",
   "execution_count": null,
   "id": "899ffdee-c65a-4755-9ad8-0e4c133e500b",
   "metadata": {},
   "outputs": [],
   "source": [
    "# mask0 = \n",
    "# plt.matshow(mask0, cmap = 'gray')"
   ]
  },
  {
   "cell_type": "markdown",
   "id": "433d2754-a3f3-44e9-963b-5914062d9f77",
   "metadata": {
    "jp-MarkdownHeadingCollapsed": true
   },
   "outputs": [],
   "source": [
    "#### Answer"
   ]
  },
  {
   "cell_type": "code",
   "execution_count": null,
   "id": "40adac17-0f8e-4005-8460-9042dd207420",
   "metadata": {},
   "outputs": [],
   "source": [
    "lower_red = np.array([0,100,100])\n",
    "upper_red = np.array([10,255,255])\n",
    "mask0 = cv2.inRange(image_hsv, lower_red, upper_red)\n",
    "plt.matshow(mask0, cmap = 'gray')"
   ]
  },
  {
   "cell_type": "markdown",
   "id": "d46d1837-2af8-46c5-af42-3e116d62c738",
   "metadata": {},
   "outputs": [],
   "source": [
    "### Exercise: Create a mask for Hue 170-180\n",
    "\n",
    "Complete the code here, name the mask `mask1`"
   ]
  },
  {
   "cell_type": "code",
   "execution_count": null,
   "id": "886c1f36-2a0f-4cfd-a15e-8766af7edbd0",
   "metadata": {},
   "outputs": [],
   "source": [
    "# mask1 = \n",
    "# plt.matshow(mask1, cmap = 'gray')"
   ]
  },
  {
   "cell_type": "markdown",
   "id": "e3a38394-1a06-462e-b573-fd78721f9b58",
   "metadata": {
    "jp-MarkdownHeadingCollapsed": true
   },
   "outputs": [],
   "source": [
    "#### Answer"
   ]
  },
  {
   "cell_type": "code",
   "execution_count": null,
   "id": "561a5c48-ba8e-4e96-bbad-81e0368c8734",
   "metadata": {},
   "outputs": [],
   "source": [
    "lower_red = np.array([170,100,100])\n",
    "upper_red = np.array([180,255,255])\n",
    "mask1 = cv2.inRange(image_hsv, lower_red, upper_red)\n",
    "plt.matshow(mask1, cmap = 'gray')"
   ]
  },
  {
   "cell_type": "markdown",
   "id": "95883f65-0f48-497d-9417-5203fad80d5c",
   "metadata": {},
   "outputs": [],
   "source": [
    "### Exercise: Combine the mask"
   ]
  },
  {
   "cell_type": "code",
   "execution_count": null,
   "id": "8c7da04f-1b7a-4c50-8c49-d8871838aa09",
   "metadata": {},
   "outputs": [],
   "source": [
    " # join my masks\n",
    "mask = mask0+mask1\n",
    "\n",
    "plt.matshow(mask, cmap = 'gray')\n"
   ]
  },
  {
   "cell_type": "markdown",
   "id": "0bde32ff-0edb-4c1e-bd23-45143a07cf28",
   "metadata": {},
   "outputs": [],
   "source": [
    "### Compare the mask"
   ]
  },
  {
   "cell_type": "code",
   "execution_count": null,
   "id": "1be0958d-42c6-4825-ab6d-d8baba167585",
   "metadata": {},
   "outputs": [],
   "source": [
    "fig, axs = plt.subplots(1, 3, figsize=(15, 5))\n",
    "\n",
    "axs[0].imshow(mask0) \n",
    "axs[1].imshow(mask1) \n",
    "axs[2].imshow(mask) \n",
    "\n",
    "# Adjust layout to avoid overlap\n",
    "plt.tight_layout()\n",
    "plt.show()"
   ]
  },
  {
   "cell_type": "markdown",
   "id": "5149bb5e-f2b5-4015-9c50-75c738dbbdd0",
   "metadata": {},
   "outputs": [],
   "source": [
    "## Count the percentage of red pixel"
   ]
  },
  {
   "cell_type": "markdown",
   "id": "0e532920-4caf-4c22-b082-ac9e4db2fb23",
   "metadata": {},
   "outputs": [],
   "source": [
    "### How many pixels do we have?"
   ]
  },
  {
   "cell_type": "code",
   "execution_count": null,
   "id": "139d6973-ae8a-452a-8b9f-fdb6609b59ac",
   "metadata": {},
   "outputs": [],
   "source": [
    "image.shape"
   ]
  },
  {
   "cell_type": "markdown",
   "id": "a7ae21cc-b2c1-485f-abd6-8a9b8568af88",
   "metadata": {},
   "outputs": [],
   "source": [
    "### Exercise: Assign height and width variable"
   ]
  },
  {
   "cell_type": "code",
   "execution_count": null,
   "id": "81f9db83-33b0-4298-beed-751001cbc5df",
   "metadata": {},
   "outputs": [],
   "source": [
    "# Write your code here\n",
    "# To assign a variable with value, here is an example\n",
    "# apple = 3\n"
   ]
  },
  {
   "cell_type": "markdown",
   "id": "09e4a5cd-c075-4a94-ab8a-9007e0bf9913",
   "metadata": {
    "jp-MarkdownHeadingCollapsed": true
   },
   "outputs": [],
   "source": [
    "#### Answer"
   ]
  },
  {
   "cell_type": "code",
   "execution_count": null,
   "id": "28226499-f7f7-4066-99b2-1255c6f57b02",
   "metadata": {},
   "outputs": [],
   "source": [
    "height, width, _ = image.shape"
   ]
  },
  {
   "cell_type": "markdown",
   "id": "42bbc7ae-c3d0-465a-a7eb-d3db6b0d9186",
   "metadata": {},
   "outputs": [],
   "source": [
    "### Exercise: Calculate the total number of pixel"
   ]
  },
  {
   "cell_type": "code",
   "execution_count": null,
   "id": "fb476050-caec-40b8-bc54-3c739afd50fd",
   "metadata": {},
   "outputs": [],
   "source": [
    "# Assign the total number of pixel to a variable called `total_pixel`\n",
    "\n",
    "# total_pixel = "
   ]
  },
  {
   "cell_type": "markdown",
   "id": "8447f4cc-c667-4d1c-b0d6-19817cd83523",
   "metadata": {
    "jp-MarkdownHeadingCollapsed": true
   },
   "outputs": [],
   "source": [
    "#### Answer"
   ]
  },
  {
   "cell_type": "code",
   "execution_count": null,
   "id": "78ae20ad-74a0-4001-a9f1-57adcdc0912b",
   "metadata": {},
   "outputs": [],
   "source": [
    "total_pixel = height * width"
   ]
  },
  {
   "cell_type": "markdown",
   "id": "8dbd8ee2-3aca-4e31-8843-03f479e176dd",
   "metadata": {},
   "outputs": [],
   "source": [
    "### The number of red pixel\n",
    "\n",
    "The number of red_pixel could be easily calculated by a function provided by numpy called `count_nonzero()`"
   ]
  },
  {
   "cell_type": "code",
   "execution_count": null,
   "id": "a9ccad87-c847-4077-a92b-d825dc83cd46",
   "metadata": {},
   "outputs": [],
   "source": [
    "red_pixel = np.count_nonzero(mask)\n",
    "print(red_pixel)"
   ]
  },
  {
   "cell_type": "markdown",
   "id": "8a72fbf3-e812-4bf3-9a56-266f25df6a63",
   "metadata": {},
   "outputs": [],
   "source": [
    "### Exercise: Calculate the percentage of red pixel"
   ]
  },
  {
   "cell_type": "code",
   "execution_count": null,
   "id": "907323d9-4b68-4bef-b8a0-1850057c2285",
   "metadata": {},
   "outputs": [],
   "source": [
    "# red_percentage = "
   ]
  },
  {
   "cell_type": "markdown",
   "id": "fbb6ffee-5a7a-41a0-ae45-618db100a8e7",
   "metadata": {
    "jp-MarkdownHeadingCollapsed": true
   },
   "outputs": [],
   "source": [
    "#### Answer"
   ]
  },
  {
   "cell_type": "code",
   "execution_count": null,
   "id": "6f5d5a2b-5d2a-4c90-b0c1-aaa864034205",
   "metadata": {},
   "outputs": [],
   "source": [
    "red_percentage = red_pixel / total_pixel\n",
    "\n",
    "print(red_percentage)"
   ]
  },
  {
   "cell_type": "markdown",
   "id": "ae7a87ad-90a3-4db8-8ed7-9e3c4c1bfa4d",
   "metadata": {},
   "outputs": [],
   "source": [
    "## Putting everything together"
   ]
  },
  {
   "cell_type": "markdown",
   "id": "dd6350d2-2b49-4e81-9753-a8cf010fbfc4",
   "metadata": {},
   "outputs": [],
   "source": [
    "### Exercise: Function to detect red line and return a mask\n",
    "\n",
    "Write a function to process an image and return a combined mask (10 minutes)\n",
    "\n",
    "#### Input:\n",
    "image - An numpy image in RGB colorspace\n",
    "\n",
    "#### Output:\n",
    "A numpy array with the same size with the input image containing 0 - 255"
   ]
  },
  {
   "cell_type": "code",
   "execution_count": null,
   "id": "3d9b8f1c-2328-4202-8904-63c1df7b169f",
   "metadata": {},
   "outputs": [],
   "source": [
    "def calculate_mask(image):\n",
    "    # Write your code below \n",
    "    \n",
    "    # 1. Convert the image to HSV colorspace \n",
    "    \n",
    "    # 2. Calculate the 0-10 hue mask\n",
    "    \n",
    "    # 3. Calculate the 170-180 hue mask\n",
    "\n",
    "    # 4. Combine the mask\n",
    "    combined_mask = None\n",
    "\n",
    "    # 5. Return the value\n",
    "    return combined_mask"
   ]
  },
  {
   "cell_type": "code",
   "execution_count": null,
   "id": "efc8339d-98c4-43dd-b94c-39b2a9b42207",
   "metadata": {},
   "outputs": [],
   "source": [
    "# Test your function\n",
    "mask = calculate_mask(image)\n",
    "plt.close('all')\n",
    "plt.figure(figsize=(3, 3))\n",
    "\n",
    "plt.matshow(mask, cmap = 'gray')\n",
    "\n",
    "print(mask)"
   ]
  },
  {
   "cell_type": "markdown",
   "id": "cc58c6d9-bd31-4550-bf20-f6ffd39421da",
   "metadata": {
    "jp-MarkdownHeadingCollapsed": true
   },
   "outputs": [],
   "source": [
    "#### Answer"
   ]
  },
  {
   "cell_type": "code",
   "execution_count": null,
   "id": "973c3aaf-1722-4521-aba9-3e64527f22df",
   "metadata": {},
   "outputs": [],
   "source": [
    "def calculate_mask(image):\n",
    "    # Convert the image to HSV colorspace \n",
    "    image_hsv = cv2.cvtColor(image, cv2.COLOR_RGB2HSV)\n",
    "\n",
    "    # Calculate the 0-10 hue mask\n",
    "    lower_red = np.array([0,100,100])\n",
    "    upper_red = np.array([10,255,255])\n",
    "    mask0 = cv2.inRange(image_hsv, lower_red, upper_red)\n",
    "\n",
    "    # Calculate the 170-180 hue mask\n",
    "    lower_red = np.array([170,100,100])\n",
    "    upper_red = np.array([180,255,255])\n",
    "    mask1 = cv2.inRange(image_hsv, lower_red, upper_red)\n",
    "\n",
    "    combined_mask = mask0 + mask1\n",
    "\n",
    "    return combined_mask"
   ]
  },
  {
   "cell_type": "markdown",
   "id": "4a571117-3b0d-4aa5-8e79-720244b68254",
   "metadata": {},
   "outputs": [],
   "source": [
    "### Exercise\n",
    "\n",
    "Write a function to return the percentage of red pixel"
   ]
  },
  {
   "cell_type": "code",
   "execution_count": null,
   "id": "e57a0211-fbf6-4556-8a21-2bd9a892de81",
   "metadata": {},
   "outputs": [],
   "source": [
    "def calculate_red_pixel_percentage(image, mask):\n",
    "    # Write your code below\n",
    "    # Calculate the total pixel\n",
    "    \n",
    "    # Count the number of red pixel\n",
    "    \n",
    "    # Calculate the percentage\n",
    "    # red_percentage = \n",
    "\n",
    "    # Return the value\n",
    "    return red_percentage     "
   ]
  },
  {
   "cell_type": "code",
   "execution_count": null,
   "id": "fcf88113-9c1c-4bde-bf28-a8ac21a93038",
   "metadata": {},
   "outputs": [],
   "source": [
    "# Test your function\n",
    "\n",
    "red_percentage = calculate_red_pixel_percentage(image, mask)\n",
    "\n",
    "print(red_percentage)"
   ]
  },
  {
   "cell_type": "markdown",
   "id": "cb334c52-475b-4534-aea6-ba836deb4f06",
   "metadata": {
    "jp-MarkdownHeadingCollapsed": true
   },
   "outputs": [],
   "source": [
    "#### Answer"
   ]
  },
  {
   "cell_type": "code",
   "execution_count": null,
   "id": "e351319e-7518-4fa2-9f4d-538eafa97700",
   "metadata": {},
   "outputs": [],
   "source": [
    "def calculate_red_pixel_percentage(image, mask):\n",
    "    # Calculate the total pixel\n",
    "    height, width, _ = image.shape\n",
    "    total_pixel = height * width\n",
    "\n",
    "    # Count the number of red pixel\n",
    "    red_pixel = np.count_nonzero(mask)\n",
    "\n",
    "    # Calculate the percentage\n",
    "    red_percentage = red_pixel / total_pixel\n",
    "\n",
    "    # Return the value\n",
    "    return red_percentage     "
   ]
  },
  {
   "cell_type": "markdown",
   "id": "af5fc394-b861-49d9-823b-c732968aca1f",
   "metadata": {},
   "outputs": [],
   "source": [
    "### Exercise\n",
    "\n",
    "Write a function to process an image and return `True` if there is a red line\n",
    "\n",
    "If the red pixel percentage is larger than the threshold, return `True`. Otherwise, return `False`\n",
    "\n",
    "Duration: (10 minutes)\n",
    "\n",
    "#### Input\n",
    "image - An numpy image in RGB colorspace\n",
    "threshold - A value from 0 to 1 as a threshold to determine whether we consider a red line is detected\n",
    "\n",
    "#### Output\n",
    "True / False\n"
   ]
  },
  {
   "cell_type": "code",
   "execution_count": null,
   "id": "15e60984-e99a-4b1b-982c-180ebedaf944",
   "metadata": {},
   "outputs": [],
   "source": [
    "def detect_red_line(image, threshold = 0.2):\n",
    "    # Write your code below\n",
    "    # 1. Calculate the mask \n",
    "    \n",
    "    # 2. Calculate the red pixel percentage\n",
    "    \n",
    "    # 3. Determine if we should return True or Falase\n",
    "\n",
    "    return True\n",
    "    "
   ]
  },
  {
   "cell_type": "code",
   "execution_count": null,
   "id": "e7c0ebe2-8a91-492a-b80f-c2a6aad1120d",
   "metadata": {},
   "outputs": [],
   "source": [
    "print(detect_red_line(image))"
   ]
  },
  {
   "cell_type": "code",
   "execution_count": null,
   "id": "f7fc2c4a-e488-4bb1-9f78-64ed1c2804d1",
   "metadata": {},
   "outputs": [],
   "source": [
    "# Set a threshold of 80%\n",
    "print(detect_red_line(image, 0.8))"
   ]
  },
  {
   "cell_type": "markdown",
   "id": "e56f715e-1cf3-4516-b756-1285b49d8f79",
   "metadata": {
    "jp-MarkdownHeadingCollapsed": true
   },
   "outputs": [],
   "source": [
    "#### Answer"
   ]
  },
  {
   "cell_type": "code",
   "execution_count": null,
   "id": "32b0e41d-ec8c-4787-89b9-4969e4c85fa2",
   "metadata": {},
   "outputs": [],
   "source": [
    "def detect_red_line(image, threshold = 0.2):\n",
    "    # Calculate the mask \n",
    "    mask = calculate_mask(image)\n",
    "\n",
    "    # Calculate the red pixel percentage\n",
    "    red_percentage = calculate_red_pixel_percentage(image, mask)\n",
    "\n",
    "    # Determine if we should return True or Falase\n",
    "    if red_percentage > threshold:\n",
    "        return True\n",
    "    else:\n",
    "        return False"
   ]
  },
  {
   "cell_type": "markdown",
   "id": "5cccca4b-bbac-4aa2-9743-ad73c8337fcd",
   "metadata": {},
   "outputs": [],
   "source": [
    "<hr/>"
   ]
  },
  {
   "cell_type": "markdown",
   "id": "3b376544-2517-4b95-913f-ce6f522ce5bf",
   "metadata": {},
   "outputs": [],
   "source": [
    "## Congratulation! You have finished this chapter."
   ]
  },
  {
   "cell_type": "markdown",
   "id": "d63a5467-8b99-4112-a85f-8c63a83d575a",
   "metadata": {},
   "outputs": [],
   "source": [
    "This jupyter notebook is created by 10Botics. <br>\n",
    "For permission to use in school, please contact info@10botics.com <br>\n",
    "All rights reserved. 2024."
   ]
  }
 ],
 "metadata": {
  "kernelspec": {
   "display_name": "Python 3 (ipykernel)",
   "language": "python",
   "name": "python3"
  },
  "language_info": {
   "codemirror_mode": {
    "name": "ipython",
    "version": 3
   },
   "file_extension": ".py",
   "mimetype": "text/x-python",
   "name": "python",
   "nbconvert_exporter": "python",
   "pygments_lexer": "ipython3",
   "version": "3.9.19"
  }
 },
 "nbformat": 4,
 "nbformat_minor": 5
}
