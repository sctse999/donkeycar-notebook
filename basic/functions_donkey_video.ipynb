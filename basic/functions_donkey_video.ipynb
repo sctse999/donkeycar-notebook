{
 "cells": [
  {
   "cell_type": "markdown",
   "id": "8513baff-cafb-4967-87cf-7f9f03072744",
   "metadata": {},
   "outputs": [],
   "source": [
    "<img src=\"https://10botics.com/logo_jnb.png\" width=\"300\"/>"
   ]
  },
  {
   "cell_type": "markdown",
   "id": "5f605a15",
   "metadata": {},
   "outputs": [],
   "source": [
    "<img src=\"https://10botics.com/logo_jnb.png\" width=\"300\"/>"
   ]
  },
  {
   "cell_type": "code",
   "execution_count": null,
   "id": "8a1bfa0a-4ae5-4169-99d9-9870bb86cdb5",
   "metadata": {},
   "outputs": [],
   "source": []
  },
  {
   "cell_type": "code",
   "execution_count": null,
   "id": "3b7a2c27-dccf-4459-be66-58a47002050d",
   "metadata": {},
   "outputs": [],
   "source": [
    "# ===Defined IPython widget: stopButton===\n",
    "from IPython.display import display, Image\n",
    "import IPython\n",
    "import ipywidgets as widgets\n",
    "import threading\n",
    "\n",
    "stopButton = widgets.ToggleButton(\n",
    "    value=False,\n",
    "    description='Stop',\n",
    "    disabled=False,\n",
    "    button_style='danger', # 'success', 'info', 'warning', 'danger' or ''\n",
    "    tooltip='Description',\n",
    "    icon='square' # (FontAwesome names without the `fa-` prefix)\n",
    ")"
   ]
  },
  {
   "cell_type": "code",
   "execution_count": null,
   "id": "e1b1dc1e-bec0-410a-adc9-4aa400441e27",
   "metadata": {},
   "outputs": [],
   "source": [
    "import re\n",
    "# Natural sort key function\n",
    "def natural_sort_key(s):\n",
    "    return [int(text) if text.isdigit() else text.lower() for text in re.split('(\\d+)', s)]\n"
   ]
  },
  {
   "cell_type": "code",
   "execution_count": null,
   "id": "3a427e68-f920-4481-96ae-f7120421b5f5",
   "metadata": {},
   "outputs": [],
   "source": [
    "import time\n",
    "import cv2 \n",
    "\n",
    "def view(button, source_dir, rotate=0, process=(lambda x: x), fps=20, resize_multiplier=1.0, start = 0):\n",
    "    display_handle = display(\"Please wait...\", display_id=True)\n",
    "    \n",
    "    image_files = sorted([f for f in os.listdir(source_dir) if f.lower().endswith('.jpg')], key=natural_sort_key)\n",
    "    delay = 1 / fps\n",
    "    \n",
    "    for index, image_file in enumerate(image_files):\n",
    "        if index < start:\n",
    "            continue\n",
    "            \n",
    "        if button.value:\n",
    "            display_handle.update(None)\n",
    "            button.value = False\n",
    "            break\n",
    "        \n",
    "        frame = cv2.imread(os.path.join(source_dir, image_file))\n",
    "        if frame is None:\n",
    "            continue\n",
    "        \n",
    "        if rotate:\n",
    "            frame = cv2.flip(frame, 0)\n",
    "        \n",
    "        frame = process(frame, image_file)\n",
    "        \n",
    "        if resize_multiplier != 1.0:\n",
    "            frame = cv2.resize(frame, (int(frame.shape[1] * resize_multiplier), int(frame.shape[0] * resize_multiplier)))\n",
    "        \n",
    "        _, frame = cv2.imencode('.jpeg', frame)\n",
    "        display_handle.update(Image(data=frame.tobytes()))\n",
    "        time.sleep(delay)\n",
    "    \n",
    "    display_handle.update(None)"
   ]
  },
  {
   "cell_type": "code",
   "execution_count": null,
   "id": "dbcbdb54-6c7f-4f8d-8193-4e9dda65b3a8",
   "metadata": {},
   "outputs": [],
   "source": [
    "def putText(frame, text, color = (0, 255, 0), position_x = 50, position_y = 50):\n",
    "    # Define the text properties\n",
    "    font = cv2.FONT_HERSHEY_SIMPLEX\n",
    "    text_position = (position_x, position_y)\n",
    "    text_scale = 0.65\n",
    "    text_color = color\n",
    "    text_thickness = 2\n",
    "\n",
    "    # Add text annotation on the frame\n",
    "    cv2.putText(frame, text, text_position, font, text_scale, text_color, text_thickness)"
   ]
  },
  {
   "cell_type": "markdown",
   "id": "5cccca4b-bbac-4aa2-9743-ad73c8337fcd",
   "metadata": {},
   "outputs": [],
   "source": [
    "<hr/>"
   ]
  },
  {
   "cell_type": "markdown",
   "id": "3b376544-2517-4b95-913f-ce6f522ce5bf",
   "metadata": {},
   "outputs": [],
   "source": [
    "## Congratulation! You have finished this chapter."
   ]
  },
  {
   "cell_type": "markdown",
   "id": "d63a5467-8b99-4112-a85f-8c63a83d575a",
   "metadata": {},
   "outputs": [],
   "source": [
    "This jupyter notebook is created by 10Botics. <br>\n",
    "For permission to use in school, please contact info@10botics.com <br>\n",
    "All rights reserved. 2024."
   ]
  },
  {
   "cell_type": "markdown",
   "id": "e48096e2",
   "metadata": {},
   "outputs": [],
   "source": [
    "<hr/>"
   ]
  },
  {
   "cell_type": "markdown",
   "id": "5dd3dfff",
   "metadata": {},
   "outputs": [],
   "source": [
    "## Congratulation! You have finished this chapter."
   ]
  },
  {
   "cell_type": "markdown",
   "id": "0dd01689",
   "metadata": {},
   "outputs": [],
   "source": [
    "This jupyter notebook is created by 10Botics. <br>\n",
    "For permission to use in school, please contact info@10botics.com <br>\n",
    "All rights reserved. 2024."
   ]
  }
 ],
 "metadata": {
  "kernelspec": {
   "display_name": "Python 3 (ipykernel)",
   "language": "python",
   "name": "python3"
  },
  "language_info": {
   "codemirror_mode": {
    "name": "ipython",
    "version": 3
   },
   "file_extension": ".py",
   "mimetype": "text/x-python",
   "name": "python",
   "nbconvert_exporter": "python",
   "pygments_lexer": "ipython3",
   "version": "3.9.19"
  }
 },
 "nbformat": 4,
 "nbformat_minor": 5
}
