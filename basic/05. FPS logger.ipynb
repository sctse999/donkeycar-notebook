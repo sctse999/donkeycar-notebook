{
 "cells": [
  {
   "cell_type": "markdown",
   "id": "8513baff-cafb-4967-87cf-7f9f03072744",
   "metadata": {},
   "outputs": [],
   "source": [
    "<img src=\"https://10botics.com/logo_jnb.png\" width=\"300\"/>"
   ]
  },
  {
   "cell_type": "markdown",
   "id": "ed4e9546-4665-40a3-a04d-d19b6743c053",
   "metadata": {},
   "outputs": [],
   "source": [
    "# Donkey Car FPS Logger"
   ]
  },
  {
   "cell_type": "markdown",
   "id": "3f2552f9-991a-4402-95a3-aacae05f9d54",
   "metadata": {},
   "outputs": [],
   "source": [
    "## Stop after n loop"
   ]
  },
  {
   "cell_type": "code",
   "execution_count": null,
   "id": "5fdc9de2-7f97-4471-a97d-86534f2e4d54",
   "metadata": {},
   "outputs": [],
   "source": [
    "import donkeycar as dk\n",
    "V = dk.vehicle.Vehicle()\n",
    "\n",
    "V.start(max_loop_count=50)"
   ]
  },
  {
   "cell_type": "markdown",
   "id": "52d7a60c-a82c-4b73-aafb-332c39333965",
   "metadata": {},
   "outputs": [],
   "source": [
    "## The modulus operator"
   ]
  },
  {
   "cell_type": "code",
   "execution_count": null,
   "id": "0301429a-aeef-4b41-9801-bfa9d44b7730",
   "metadata": {},
   "outputs": [],
   "source": [
    "10 % 2"
   ]
  },
  {
   "cell_type": "code",
   "execution_count": null,
   "id": "1c3fa89d-e7c3-4372-a3a8-d26af0199c34",
   "metadata": {},
   "outputs": [],
   "source": [
    "10 % 3"
   ]
  },
  {
   "cell_type": "markdown",
   "id": "47a07d71-bdd0-4b4b-913d-b65e80c4a0f6",
   "metadata": {},
   "outputs": [],
   "source": [
    "## If statement"
   ]
  },
  {
   "cell_type": "code",
   "execution_count": null,
   "id": "56b6b7c9-2559-419d-8ccd-2f3f0fe61ba3",
   "metadata": {},
   "outputs": [],
   "source": [
    "if 10 % 2 == 0:\n",
    "    print(\"10 is divisible by 2\")\n",
    "else:\n",
    "    print(\"10 is NOT divisible by 2\")"
   ]
  },
  {
   "cell_type": "markdown",
   "id": "9c46f712-76dc-4ae4-a980-5a4e15d90375",
   "metadata": {},
   "outputs": [],
   "source": [
    "## A part that output one line per n execution\n",
    "\n",
    "Can you write a part that output the counter value after Every 30 executions?\n",
    "\n",
    "For example, the program below should output:\n",
    "```\n",
    "3\n",
    "6\n",
    "9\n",
    "```"
   ]
  },
  {
   "cell_type": "code",
   "execution_count": null,
   "id": "6dd17ac2-7406-4ec1-8fc2-1f712feacf35",
   "metadata": {},
   "outputs": [],
   "source": [
    "class HelloWorld:\n",
    "    def __init__(self):\n",
    "        self.counter = 0        \n",
    "        pass\n",
    "        \n",
    "    def run(self):\n",
    "        # TODO: Put your program here\n",
    "        print(self.counter)\n",
    "        pass\n",
    "\n",
    "V = dk.vehicle.Vehicle()\n",
    "V.add(HelloWorld())\n",
    "\n",
    "V.start(rate_hz=2, max_loop_count=10)\n"
   ]
  },
  {
   "cell_type": "markdown",
   "id": "a3f4e5f3-e930-4c4f-bc2a-009b8851bb39",
   "metadata": {
    "jp-MarkdownHeadingCollapsed": true
   },
   "outputs": [],
   "source": [
    "### Answer"
   ]
  },
  {
   "cell_type": "code",
   "execution_count": null,
   "id": "3918c357-6b50-4ef8-b60e-3fbd1690ec6d",
   "metadata": {},
   "outputs": [],
   "source": [
    "class HelloWorld:\n",
    "    def __init__(self):\n",
    "        self.counter = 0        \n",
    "        pass\n",
    "        \n",
    "    def run(self):\n",
    "        self.counter = self.counter + 1\n",
    "\n",
    "        if (self.counter % 3 == 0):\n",
    "            print(self.counter)\n",
    "        \n",
    "\n",
    "V = dk.vehicle.Vehicle()\n",
    "V.add(HelloWorld())\n",
    "\n",
    "V.start(rate_hz=2, max_loop_count=10)\n"
   ]
  },
  {
   "cell_type": "markdown",
   "id": "c99c8c8e-239a-4d9f-9325-06ab0fd3dd4a",
   "metadata": {},
   "outputs": [],
   "source": [
    "## The time library"
   ]
  },
  {
   "cell_type": "markdown",
   "id": "c6831894-f98c-4faa-84d9-3ca1fe17efe4",
   "metadata": {},
   "outputs": [],
   "source": [
    "### The time.time() function\n",
    "\n",
    "`time.time()` return the time in seconds since the epoch as a floating point number. \n",
    "\n",
    "Run the below cell using Ctrl+Enter multiple times to observe how the time value chagnes\n",
    "\n",
    "\n",
    "[More info](https://docs.python.org/3/library/time.html#time.time)"
   ]
  },
  {
   "cell_type": "code",
   "execution_count": null,
   "id": "c0c38102-5362-434f-b550-fa853a6d9f11",
   "metadata": {},
   "outputs": [],
   "source": [
    "import time\n",
    "\n",
    "time.time()"
   ]
  },
  {
   "cell_type": "markdown",
   "id": "5e18f840-3765-4746-ad17-1e4093ab6650",
   "metadata": {},
   "outputs": [],
   "source": [
    "### Calculate time difference\n",
    "\n",
    "Modify the program below to calculate the time difference between `checkpoint1` and `checkpoint2`"
   ]
  },
  {
   "cell_type": "code",
   "execution_count": null,
   "id": "49c604fd-fad9-4098-bac5-fb6e39749054",
   "metadata": {},
   "outputs": [],
   "source": [
    "checkpoint1 = time.time()\n",
    "time.sleep(0.5)\n",
    "checkpoint2 = time.time()"
   ]
  },
  {
   "cell_type": "markdown",
   "id": "1a95f7c2-9cc4-4541-b6a1-e49ac095039d",
   "metadata": {
    "jp-MarkdownHeadingCollapsed": true
   },
   "outputs": [],
   "source": [
    "#### Answer"
   ]
  },
  {
   "cell_type": "code",
   "execution_count": null,
   "id": "8afd5df3-3bee-4793-9e97-69e3f0e1e638",
   "metadata": {},
   "outputs": [],
   "source": [
    "checkpoint1 = time.time()\n",
    "time.sleep(0.5)\n",
    "checkpoint2 = time.time()\n",
    "\n",
    "checkpoint2 - checkpoint1"
   ]
  },
  {
   "cell_type": "markdown",
   "id": "4943d0d3-155b-458a-9b51-e882585bfb8b",
   "metadata": {},
   "outputs": [],
   "source": [
    "## Frame per second logger\n",
    "\n",
    "What does a frame per second do? It simply means that how many times we have run within one second.\n",
    "\n",
    "Consider the Hello World program and the `rate_hz` parameter, is it possible to output 10,000 lines of `Hello World` if you have set `rate_hz` to 10,000?\n",
    "\n",
    "Let's try"
   ]
  },
  {
   "cell_type": "code",
   "execution_count": null,
   "id": "e0769342-6812-4654-a369-4100942dfaea",
   "metadata": {},
   "outputs": [],
   "source": [
    "import donkeycar as dk\n",
    "import time\n",
    "\n",
    "class HelloWorld:\n",
    "    def __init__(self):\n",
    "        self.current_time = None        \n",
    "        pass\n",
    "        \n",
    "    def run(self):\n",
    "        previous_timestamp = self.current_time\n",
    "        self.current_time = time.time()\n",
    "        # print(f\"last_time = \\t {previous_timestamp}\")\n",
    "        # print(f\"current_time = \\t {self.current_time}\" )\n",
    "\n",
    "        if previous_timestamp is not None:\n",
    "            difference = self.current_time - previous_timestamp\n",
    "            # print(f\"Difference = {difference}\")\n",
    "            loop_hz = 1 / difference\n",
    "            print(f\"Running {loop_hz} per second\\n\")\n",
    "\n",
    "        \n",
    "V = dk.vehicle.Vehicle()\n",
    "\n",
    "V.add(camera())\n",
    "V.add(FinishLineDetector())\n",
    "\n",
    "V.add(HelloWorld())\n",
    "# V.add(SlowPart())\n",
    "\n",
    "V.start(rate_hz=10000)"
   ]
  },
  {
   "cell_type": "markdown",
   "id": "a0d26940-2e89-4742-bf61-2af47f7b51c5",
   "metadata": {},
   "outputs": [],
   "source": [
    "Do you think it is really running at 10,000 times per second?\n",
    "\n",
    "Obviously not. How do we know exactly how much time it has run? Let's write a program"
   ]
  },
  {
   "cell_type": "markdown",
   "id": "d918c964-3bce-4082-8676-ca9668feadc1",
   "metadata": {},
   "outputs": [],
   "source": [
    "## Challenge\n",
    "\n",
    "Now, use the following scaffold and write a program to calculate the fps"
   ]
  },
  {
   "cell_type": "code",
   "execution_count": null,
   "id": "dc125ca7-e653-41b1-a110-9eb0c237ce50",
   "metadata": {},
   "outputs": [],
   "source": [
    "class FrequencyLogger(object):\n",
    "    \"\"\"\n",
    "    Log current, min and max of frequency value\n",
    "    \"\"\"\n",
    "\n",
    "    def __init__(self):\n",
    "        self.marker = None\n",
    "        pass\n",
    "\n",
    "    def run(self):\n",
    "        difference = time.time() - last_marker;\n",
    "\n",
    "        \n"
   ]
  },
  {
   "cell_type": "markdown",
   "id": "e885e6f8-b49b-46dd-a39f-e3bd9e8a0373",
   "metadata": {},
   "outputs": [],
   "source": [
    "## Shutdown"
   ]
  },
  {
   "cell_type": "code",
   "execution_count": null,
   "id": "30e9c5f3-1cb8-441d-986e-adfb54831aa1",
   "metadata": {},
   "outputs": [],
   "source": [
    "def shutdown(self):\n",
    "    if self.fps_list:\n",
    "        logger.info(f\"fps (min/max) = {min(self.fps_list):2d} / {max(self.fps_list):2d}\")\n",
    "        logger.info(f\"fps list = {self.fps_list}\".format())"
   ]
  },
  {
   "cell_type": "markdown",
   "id": "024a1cc4-a8af-4680-bff7-82a4887276d4",
   "metadata": {},
   "outputs": [],
   "source": [
    "## Slow Part"
   ]
  },
  {
   "cell_type": "markdown",
   "id": "0ce3cdbf-8645-45c0-a505-d4482d92e34d",
   "metadata": {},
   "outputs": [],
   "source": [
    "Add this slow part to slow down your execution. Check if your fps is working correctly"
   ]
  },
  {
   "cell_type": "code",
   "execution_count": null,
   "id": "c79e10d8-aa0e-4358-9264-9a950679f463",
   "metadata": {},
   "outputs": [],
   "source": [
    "class SlowPart():\n",
    "    def __init__(self):\n",
    "        pass\n",
    "\n",
    "    def run(self):\n",
    "        time.sleep(2)"
   ]
  },
  {
   "cell_type": "code",
   "execution_count": null,
   "id": "a195b6e0-cfc3-416a-a718-1dfe8bc77b1a",
   "metadata": {},
   "outputs": [],
   "source": [
    "### Test"
   ]
  },
  {
   "cell_type": "markdown",
   "id": "5cccca4b-bbac-4aa2-9743-ad73c8337fcd",
   "metadata": {},
   "outputs": [],
   "source": [
    "<hr/>"
   ]
  },
  {
   "cell_type": "markdown",
   "id": "3b376544-2517-4b95-913f-ce6f522ce5bf",
   "metadata": {},
   "outputs": [],
   "source": [
    "## Congratulation! You have finished this chapter."
   ]
  },
  {
   "cell_type": "markdown",
   "id": "d63a5467-8b99-4112-a85f-8c63a83d575a",
   "metadata": {},
   "outputs": [],
   "source": [
    "This jupyter notebook is created by 10Botics. <br>\n",
    "For permission to use in school, please contact info@10botics.com <br>\n",
    "All rights reserved. 2024."
   ]
  }
 ],
 "metadata": {
  "kernelspec": {
   "display_name": "Python 3 (ipykernel)",
   "language": "python",
   "name": "python3"
  },
  "language_info": {
   "codemirror_mode": {
    "name": "ipython",
    "version": 3
   },
   "file_extension": ".py",
   "mimetype": "text/x-python",
   "name": "python",
   "nbconvert_exporter": "python",
   "pygments_lexer": "ipython3",
   "version": "3.9.2"
  }
 },
 "nbformat": 4,
 "nbformat_minor": 5
}
