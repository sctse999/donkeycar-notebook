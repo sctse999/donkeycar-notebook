{
 "cells": [
  {
   "cell_type": "markdown",
   "id": "8513baff-cafb-4967-87cf-7f9f03072744",
   "metadata": {},
   "outputs": [],
   "source": [
    "<img src=\"https://10botics.com/logo_jnb.png\" width=\"300\"/>"
   ]
  },
  {
   "cell_type": "markdown",
   "id": "e9a07033-6cb0-4a89-9579-b98ae9b1e574",
   "metadata": {},
   "outputs": [],
   "source": [
    "# Red line detector as a part"
   ]
  },
  {
   "cell_type": "markdown",
   "id": "c9bf11ae-5c4c-486d-ac33-0270e39901e9",
   "metadata": {},
   "outputs": [],
   "source": [
    "## Import some libraries"
   ]
  },
  {
   "cell_type": "code",
   "execution_count": null,
   "id": "empty-serum",
   "metadata": {},
   "outputs": [],
   "source": [
    "import donkeycar as dk\n",
    "import os"
   ]
  },
  {
   "cell_type": "code",
   "execution_count": null,
   "id": "f9e82d60-3c53-4d5f-8fdb-699272d44df6",
   "metadata": {},
   "outputs": [],
   "source": [
    "%run functions_donkey_car_parts.ipynb\n",
    "%run functions_red_line.ipynb"
   ]
  },
  {
   "cell_type": "markdown",
   "id": "61256491-e50d-4190-9fa0-f8cc3c148a0e",
   "metadata": {},
   "outputs": [],
   "source": [
    "## Loading myconfig"
   ]
  },
  {
   "cell_type": "code",
   "execution_count": null,
   "id": "cf732874-422f-494f-abba-abbf537a5fb9",
   "metadata": {},
   "outputs": [],
   "source": [
    "cfg = dk.load_config(config_path=\"/home/pi/mycar/config.py\")\n",
    "\n",
    "cfg.DRIVE_LOOP_HZ = 20\n",
    "cfg.PATH_MASK = get_red_line_tub_images_path() + \"/*.jpg\""
   ]
  },
  {
   "cell_type": "code",
   "execution_count": null,
   "id": "d189b6a3-c97e-4f5a-9f94-43dc0c26f550",
   "metadata": {},
   "outputs": [],
   "source": [
    "V = dk.vehicle.Vehicle()\n",
    "\n",
    "add_user_controller(V, cfg, None, 'cam/image_array')\n",
    "add_camera(V, cfg, \"IMAGELIST\")"
   ]
  },
  {
   "cell_type": "markdown",
   "id": "1705b668-bf0c-4d3e-8ca7-2fc1673dc290",
   "metadata": {},
   "outputs": [],
   "source": [
    "## Detect red line part"
   ]
  },
  {
   "cell_type": "code",
   "execution_count": null,
   "id": "5b074fcb-6905-4104-8f84-f8a21ccef4a6",
   "metadata": {},
   "outputs": [],
   "source": [
    "import donkeycar as dk\n",
    "\n",
    "class CounterGenerator:\n",
    "    def __init__(self):\n",
    "        self.counter = 0\n",
    "        pass\n",
    "        \n",
    "    def run(self, img):\n",
    "        self.counter = self.counter + 1\n",
    "        \n",
    "        pct = detect_red_line(img)\n",
    "        print(f\"{self.counter}: {pct}\")\n"
   ]
  },
  {
   "cell_type": "code",
   "execution_count": null,
   "id": "35504df1-ecd0-4fcb-b525-f35af3e15cf3",
   "metadata": {},
   "outputs": [],
   "source": [
    "\n",
    "# V.add(CounterGenerator(), inputs=['cam/image_array'], outputs=[])\n",
    "\n"
   ]
  },
  {
   "cell_type": "code",
   "execution_count": null,
   "id": "e973ef1b-8180-46b0-b128-aac0769e405a",
   "metadata": {},
   "outputs": [],
   "source": [
    "'''\n",
    "# Generate a red line detector that will be used to detect the red line on the track\n",
    "This detector should count the number of red pixel in the image. If the number of red pixel is more than one third of the image, return true\n",
    "\n",
    "\n",
    "'''\n",
    "\n",
    "import numpy as np\n",
    "import cv2\n",
    "\n",
    "class RedLineDetector:\n",
    "    def __init__(self):\n",
    "        self.counter = 0\n",
    "        self.red_line_detected = False\n",
    "        \n",
    "    def detect_red_line(self, image):\n",
    "        # Convert the image to HSV color space\n",
    "        hsv_image = cv2.cvtColor(image, cv2.COLOR_RGB2HSV)\n",
    "        \n",
    "        # Define the range for red color\n",
    "        lower_red = np.array([0, 100, 100])\n",
    "        upper_red = np.array([10, 255, 255])\n",
    "\n",
    "\n",
    "        # Create a mask for the red color\n",
    "        mask = cv2.inRange(hsv_image, lower_red, upper_red)\n",
    "\n",
    "        # Count the number of red pixels\n",
    "        num_red_pixels = cv2.countNonZero(mask)\n",
    "\n",
    "        # Get the total number of pixels in the image\n",
    "        total_pixels = image.shape[0] * image.shape[1]\n",
    "\n",
    "        print(f\"{self.counter} : num_red_pixels = {num_red_pixels}\")\n",
    "\n",
    "        self.counter = self.counter + 1\n",
    "\n",
    "        # Check if the number of red pixels is more than one third of the image\n",
    "        if num_red_pixels > total_pixels / 3:\n",
    "            self.red_line_detected = True\n",
    "\n",
    "            return self.red_line_detected\n",
    "        else:\n",
    "            self.red_line_detected = False\n",
    "            return self.red_line_detected\n",
    "\n",
    "    def run(self, image):\n",
    "        \"\"\"\n",
    "        The run function is called on each iteration of the vehicle loop\n",
    "        \"\"\"\n",
    "        return self.detect_red_line(image)\n",
    "\n",
    "    def shutdown(self):\n",
    "        \"\"\"\n",
    "        Called when the part is about to be shut down\n",
    "        \"\"\"\n",
    "        pass\n",
    "\n",
    "    def update(self):\n",
    "        \"\"\"\n",
    "        Called when the part receives a new value\n",
    "        \"\"\"\n",
    "        pass\n",
    "\n",
    "    def run_threaded(self, image):\n",
    "        \"\"\"\n",
    "        The run_threaded function is called in a separate thread\n",
    "        \"\"\"\n",
    "        return self.detect_red_line(image)\n",
    "\n",
    "    def get_red_line_detected(self):\n",
    "        \"\"\"\n",
    "        Returns the current state of red line detection\n",
    "        \"\"\"\n",
    "        return self.red_line_detected"
   ]
  },
  {
   "cell_type": "code",
   "execution_count": null,
   "id": "8160c550-688d-483a-a46d-2472b7b2f7e4",
   "metadata": {},
   "outputs": [],
   "source": [
    "\n",
    "V.add(RedLineDetector(), inputs=['cam/image_array'], outputs=['detected'])\n",
    "\n"
   ]
  },
  {
   "cell_type": "code",
   "execution_count": null,
   "id": "905dbfa9-c41a-4a5c-8176-125dc14d30c5",
   "metadata": {},
   "outputs": [],
   "source": [
    "display_drive_url()\n",
    "\n",
    "V.start(rate_hz=20, max_loop_count=400)"
   ]
  },
  {
   "cell_type": "code",
   "execution_count": null,
   "id": "f72b2ed2-e6f7-457e-a210-4d8cfc127f4b",
   "metadata": {},
   "outputs": [],
   "source": [
    "V.stop()"
   ]
  },
  {
   "cell_type": "markdown",
   "id": "9004170a-0955-41eb-8ed5-1b583bb1a196",
   "metadata": {},
   "outputs": [],
   "source": [
    "## Define Camera Helper function"
   ]
  },
  {
   "cell_type": "code",
   "execution_count": null,
   "id": "036c5771-bf58-4805-bcfd-32b10062ab56",
   "metadata": {},
   "outputs": [],
   "source": [
    "!netstat -an -A inet | grep 8887"
   ]
  },
  {
   "cell_type": "markdown",
   "id": "be20deca-4e42-4424-9f86-693a3c314ad1",
   "metadata": {},
   "outputs": [],
   "source": [
    "## Kill process listening to 8887"
   ]
  },
  {
   "cell_type": "code",
   "execution_count": null,
   "id": "2faf0a2a-8483-4116-a910-edbc08add455",
   "metadata": {},
   "outputs": [],
   "source": [
    "!kill -9 $(lsof -t -i:8887)"
   ]
  },
  {
   "cell_type": "markdown",
   "id": "5cccca4b-bbac-4aa2-9743-ad73c8337fcd",
   "metadata": {},
   "outputs": [],
   "source": [
    "<hr/>"
   ]
  },
  {
   "cell_type": "markdown",
   "id": "3b376544-2517-4b95-913f-ce6f522ce5bf",
   "metadata": {},
   "outputs": [],
   "source": [
    "## Congratulation! You have finished this chapter."
   ]
  },
  {
   "cell_type": "markdown",
   "id": "d63a5467-8b99-4112-a85f-8c63a83d575a",
   "metadata": {},
   "outputs": [],
   "source": [
    "This jupyter notebook is created by 10Botics. <br>\n",
    "For permission to use in school, please contact info@10botics.com <br>\n",
    "All rights reserved. 2024."
   ]
  }
 ],
 "metadata": {
  "kernelspec": {
   "display_name": "Python 3 (ipykernel)",
   "language": "python",
   "name": "python3"
  },
  "language_info": {
   "codemirror_mode": {
    "name": "ipython",
    "version": 3
   },
   "file_extension": ".py",
   "mimetype": "text/x-python",
   "name": "python",
   "nbconvert_exporter": "python",
   "pygments_lexer": "ipython3",
   "version": "3.9.2"
  }
 },
 "nbformat": 4,
 "nbformat_minor": 5
}
