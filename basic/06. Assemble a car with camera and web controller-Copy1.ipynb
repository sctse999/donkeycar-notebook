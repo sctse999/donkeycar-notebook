{
 "cells": [
  {
   "cell_type": "markdown",
   "id": "8513baff-cafb-4967-87cf-7f9f03072744",
   "metadata": {},
   "outputs": [],
   "source": [
    "<img src=\"https://10botics.com/logo_jnb.png\" width=\"300\"/>"
   ]
  },
  {
   "cell_type": "markdown",
   "id": "e9a07033-6cb0-4a89-9579-b98ae9b1e574",
   "metadata": {},
   "outputs": [],
   "source": [
    "# Assemble a basic vehicle with camera and controller"
   ]
  },
  {
   "cell_type": "markdown",
   "id": "c9bf11ae-5c4c-486d-ac33-0270e39901e9",
   "metadata": {},
   "outputs": [],
   "source": [
    "## Import some libraries"
   ]
  },
  {
   "cell_type": "code",
   "execution_count": null,
   "id": "empty-serum",
   "metadata": {},
   "outputs": [],
   "source": [
    "import donkeycar as dk"
   ]
  },
  {
   "cell_type": "markdown",
   "id": "61256491-e50d-4190-9fa0-f8cc3c148a0e",
   "metadata": {},
   "outputs": [],
   "source": [
    "## Loading myconfig"
   ]
  },
  {
   "cell_type": "code",
   "execution_count": null,
   "id": "cf732874-422f-494f-abba-abbf537a5fb9",
   "metadata": {},
   "outputs": [],
   "source": [
    "cfg = dk.load_config(config_path=\"/home/pi/mycar/config.py\")"
   ]
  },
  {
   "cell_type": "code",
   "execution_count": null,
   "id": "d189b6a3-c97e-4f5a-9f94-43dc0c26f550",
   "metadata": {},
   "outputs": [],
   "source": [
    "V = dk.vehicle.Vehicle()"
   ]
  },
  {
   "cell_type": "markdown",
   "id": "9004170a-0955-41eb-8ed5-1b583bb1a196",
   "metadata": {},
   "outputs": [],
   "source": [
    "## Define Camera Helper function"
   ]
  },
  {
   "cell_type": "code",
   "execution_count": null,
   "id": "3c7f9ba9-28d5-4e56-a1cd-120477a398ff",
   "metadata": {},
   "outputs": [],
   "source": [
    "def add_camera(V, cfg):\n",
    "    inputs = []\n",
    "    outputs = ['cam/image_array']\n",
    "    threaded = True\n",
    "    cam = get_camera(cfg)\n",
    "    if cam:\n",
    "        V.add(cam, inputs=inputs, outputs=outputs, threaded=threaded)    \n",
    "\n",
    "def get_camera(cfg):\n",
    "    from donkeycar.parts.camera import PiCamera\n",
    "    cam = PiCamera(image_w=cfg.IMAGE_W, image_h=cfg.IMAGE_H, image_d=cfg.IMAGE_DEPTH,\n",
    "                   vflip=cfg.CAMERA_VFLIP, hflip=cfg.CAMERA_HFLIP)\n",
    "\n",
    "    return cam"
   ]
  },
  {
   "cell_type": "code",
   "execution_count": null,
   "id": "2cbc96cd-bac3-4a60-8e44-dec11b81555a",
   "metadata": {},
   "outputs": [],
   "source": [
    "add_camera(V, cfg, None)"
   ]
  },
  {
   "cell_type": "markdown",
   "id": "078e991c-febe-4118-9b15-cbc57a0dacbd",
   "metadata": {},
   "outputs": [],
   "source": [
    "## Define web controller helper function"
   ]
  },
  {
   "cell_type": "code",
   "execution_count": null,
   "id": "b3f19c9d-00f5-43ef-be3f-d53113269f8e",
   "metadata": {},
   "outputs": [],
   "source": [
    "from donkeycar.parts.controller import LocalWebController\n",
    "\n",
    "def add_user_controller(V, cfg, use_joystick, input_image='ui/image_array'):\n",
    "    \"\"\"\n",
    "    Add the web controller and any other\n",
    "    configured user input controller.\n",
    "    :param V: the vehicle pipeline.\n",
    "              On output this will be modified.\n",
    "    :param cfg: the configuration (from myconfig.py)\n",
    "    :return: the controller\n",
    "    \"\"\"\n",
    "\n",
    "    #\n",
    "    # This web controller will create a web server that is capable\n",
    "    # of managing steering, throttle, and modes, and more.\n",
    "    #\n",
    "    ctr = LocalWebController(port=cfg.WEB_CONTROL_PORT, mode=cfg.WEB_INIT_MODE)\n",
    "    V.add(ctr,\n",
    "          inputs=[input_image, 'tub/num_records', 'user/mode', 'recording'],\n",
    "          outputs=['user/steering', 'user/throttle', 'user/mode', 'recording', 'web/buttons'],\n",
    "          threaded=True)\n",
    "\n",
    "    return ctr\n"
   ]
  },
  {
   "cell_type": "code",
   "execution_count": null,
   "id": "62485e6e-c2d3-4aa6-9d35-0b58fe7f160f",
   "metadata": {},
   "outputs": [],
   "source": [
    "add_user_controller(V, cfg, None, 'cam/image_array')"
   ]
  },
  {
   "cell_type": "code",
   "execution_count": null,
   "id": "e42e2903-34e0-4fa2-bda1-8ce4c33a2b07",
   "metadata": {},
   "outputs": [],
   "source": [
    "## Putting them together\n",
    "\n",
    "V.start(max_loop_count=70)"
   ]
  },
  {
   "cell_type": "code",
   "execution_count": null,
   "id": "7c224d5a-7406-45fa-84fd-ccbc158f33f6",
   "metadata": {},
   "outputs": [],
   "source": [
    "V.stop()"
   ]
  },
  {
   "cell_type": "code",
   "execution_count": null,
   "id": "036c5771-bf58-4805-bcfd-32b10062ab56",
   "metadata": {},
   "outputs": [],
   "source": [
    "!netstat -an -A inet | grep 8887"
   ]
  },
  {
   "cell_type": "markdown",
   "id": "5cccca4b-bbac-4aa2-9743-ad73c8337fcd",
   "metadata": {},
   "outputs": [],
   "source": [
    "<hr/>"
   ]
  },
  {
   "cell_type": "markdown",
   "id": "3b376544-2517-4b95-913f-ce6f522ce5bf",
   "metadata": {},
   "outputs": [],
   "source": [
    "## Congratulation! You have finished this chapter."
   ]
  },
  {
   "cell_type": "markdown",
   "id": "d63a5467-8b99-4112-a85f-8c63a83d575a",
   "metadata": {},
   "outputs": [],
   "source": [
    "This jupyter notebook is created by 10Botics. <br>\n",
    "For permission to use in school, please contact info@10botics.com <br>\n",
    "All rights reserved. 2024."
   ]
  }
 ],
 "metadata": {
  "kernelspec": {
   "display_name": "Python 3 (ipykernel)",
   "language": "python",
   "name": "python3"
  },
  "language_info": {
   "codemirror_mode": {
    "name": "ipython",
    "version": 3
   },
   "file_extension": ".py",
   "mimetype": "text/x-python",
   "name": "python",
   "nbconvert_exporter": "python",
   "pygments_lexer": "ipython3",
   "version": "3.9.2"
  }
 },
 "nbformat": 4,
 "nbformat_minor": 5
}
