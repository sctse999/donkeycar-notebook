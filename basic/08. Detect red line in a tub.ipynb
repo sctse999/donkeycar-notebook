{
 "cells": [
  {
   "cell_type": "markdown",
   "id": "8513baff-cafb-4967-87cf-7f9f03072744",
   "metadata": {},
   "outputs": [],
   "source": [
    "<img src=\"https://10botics.com/logo_jnb.png\" width=\"300\"/>"
   ]
  },
  {
   "cell_type": "markdown",
   "id": "8013de99-d79c-4fce-8282-dd73b941ea5f",
   "metadata": {},
   "outputs": [],
   "source": [
    "# Play tub as a video"
   ]
  },
  {
   "cell_type": "code",
   "execution_count": null,
   "id": "4a3850a2-3b4a-4f66-a12d-d3ef8fcab7a8",
   "metadata": {},
   "outputs": [],
   "source": [
    "import os"
   ]
  },
  {
   "cell_type": "code",
   "execution_count": null,
   "id": "031dfb7b-949c-483f-b6cd-094281e16119",
   "metadata": {
    "scrolled": true
   },
   "outputs": [],
   "source": [
    "# %run Common_functions.ipynb\n",
    "%run functions_donkey_video.ipynb\n",
    "%run functions_red_line.ipynb"
   ]
  },
  {
   "cell_type": "code",
   "execution_count": null,
   "id": "6a68479f-88b9-4b7c-bfbe-24ea964eebca",
   "metadata": {},
   "outputs": [],
   "source": [
    "# logging.basicConfig(format='%(levelname)s:%(message)s', level=logging.DEBUG)"
   ]
  },
  {
   "cell_type": "markdown",
   "id": "207a916d-0ba7-4d3c-b063-5fd26bf58846",
   "metadata": {},
   "outputs": [],
   "source": [
    "## Define Vehicle path"
   ]
  },
  {
   "cell_type": "code",
   "execution_count": null,
   "id": "0b676f2c-622b-423e-8e28-1074e07b9bde",
   "metadata": {},
   "outputs": [],
   "source": [
    "# mycar_path = \"/home/jonathantse/mycar\"\n",
    "# data_path = os.path.join(mycar_path, 'data')\n",
    "\n",
    "data_path = \"/home/pi/donkeycar-notebook/basic/resource\""
   ]
  },
  {
   "cell_type": "markdown",
   "id": "85cfbe79-79ad-4d3e-9715-bcadaf3cf966",
   "metadata": {},
   "outputs": [],
   "source": [
    "## Play the tub as a video"
   ]
  },
  {
   "cell_type": "markdown",
   "id": "9c248286-8912-4f32-8a13-0810d1026a7e",
   "metadata": {},
   "outputs": [],
   "source": [
    "### Extract image files"
   ]
  },
  {
   "cell_type": "code",
   "execution_count": null,
   "id": "fa088bae-69e8-4c52-b4a0-2f7183c6d919",
   "metadata": {},
   "outputs": [],
   "source": [
    "tub_path = os.path.join(data_path, 'red_line_tub')\n",
    "images_path = os.path.join(tub_path, 'images')\n",
    "tub_tar_path = os.path.join(data_path, 'red_line_tub.zip')\n",
    "\n",
    "print(tub_path)\n",
    "print(images_path)\n",
    "print(tub_tar_path)"
   ]
  },
  {
   "cell_type": "code",
   "execution_count": null,
   "id": "a04fd629-23f6-418d-aacc-73e00b0f5527",
   "metadata": {},
   "outputs": [],
   "source": [
    "!unzip -q {tub_tar_path} -d {data_path}"
   ]
  },
  {
   "cell_type": "markdown",
   "id": "ca814793-dbfb-4562-8942-56f79631edca",
   "metadata": {},
   "outputs": [],
   "source": [
    "### Count no of files extracted"
   ]
  },
  {
   "cell_type": "code",
   "execution_count": null,
   "id": "14f7eb53-2956-4c84-a219-bf7f00bdb4ab",
   "metadata": {},
   "outputs": [],
   "source": [
    "ls -1 {images_path} | wc -l "
   ]
  },
  {
   "cell_type": "markdown",
   "id": "2e11debe-2397-4897-9e71-dac937ff9b99",
   "metadata": {},
   "outputs": [],
   "source": [
    "### Play the video"
   ]
  },
  {
   "cell_type": "code",
   "execution_count": null,
   "id": "f0118b2e-097a-474b-9871-57a73982e8b4",
   "metadata": {},
   "outputs": [],
   "source": [
    "# this frame_process does nothing for now, just returning the frame\n",
    "\n",
    "def frame_process(frame, filename):\n",
    "    resize_multiplier = 1\n",
    "    frame = cv2.resize(frame, (int(frame.shape[1] * resize_multiplier), int(frame.shape[0] * resize_multiplier)))\n",
    "\n",
    "    # putText(frame, f\"{natural_sort_key(filename)[1]}\")\n",
    "    putText(frame, filename)\n",
    "    \n",
    "    return frame"
   ]
  },
  {
   "cell_type": "code",
   "execution_count": null,
   "id": "43e4daca-6893-456a-921e-7169d0cbf84c",
   "metadata": {},
   "outputs": [],
   "source": [
    "display(stopButton)\n",
    "thread = threading.Thread(target=view, args=(stopButton, images_path, 0, frame_process))\n",
    "thread.start()"
   ]
  },
  {
   "cell_type": "markdown",
   "id": "71604a95-55f6-4ce8-8342-85620712c3d7",
   "metadata": {},
   "outputs": [],
   "source": [
    "## Detect red line from one image"
   ]
  },
  {
   "cell_type": "code",
   "execution_count": null,
   "id": "fab6caed-48e4-4506-80fa-d5e34404cdbf",
   "metadata": {},
   "outputs": [],
   "source": [
    "image_path = os.path.join(images_path, '173_cam_image_array_.jpg')\n",
    "print(image_path)"
   ]
  },
  {
   "cell_type": "code",
   "execution_count": null,
   "id": "907ca463-f6b0-4f01-9e41-527fbb008d28",
   "metadata": {},
   "outputs": [],
   "source": [
    "import matplotlib.pyplot as plt\n",
    "image = cv2.imread(image_path)\n",
    "# image = cv2.cvtColor(image, cv2.COLOR_BGR2RGB)\n",
    "plt.imshow(image)"
   ]
  },
  {
   "cell_type": "code",
   "execution_count": null,
   "id": "29131841-40fc-4b23-87ca-6e615af65525",
   "metadata": {},
   "outputs": [],
   "source": [
    "red_percentage = detect_red_line(image)\n",
    "print(red_percentage)"
   ]
  },
  {
   "cell_type": "markdown",
   "id": "3cab7249-2031-42c9-b941-54ffc6c10b7d",
   "metadata": {},
   "outputs": [],
   "source": [
    "## Detect red line"
   ]
  },
  {
   "cell_type": "code",
   "execution_count": null,
   "id": "c3d849ab-f778-48b2-b79e-8b2c234b0c64",
   "metadata": {},
   "outputs": [],
   "source": [
    "def frame_process(frame, filename):\n",
    "    red_percentage = detect_red_line(frame)\n",
    "    \n",
    "    resize_multiplier = 4\n",
    "    frame = cv2.resize(frame, (int(frame.shape[1] * resize_multiplier), int(frame.shape[0] * resize_multiplier)))\n",
    "    \n",
    "    # putText(frame, f\"{natural_sort_key(filename)[1]}\")\n",
    "    putText(frame, filename)\n",
    "    # putText(frame, filename, (255,0,0), (resize_multiplier -1 )*frame.shape[0], 10)\n",
    "    putText(frame, f\"{red_percentage}\", (0,0,255), 50,10)\n",
    "    \n",
    "    return frame"
   ]
  },
  {
   "cell_type": "code",
   "execution_count": null,
   "id": "6e182ff1-4be7-449d-8747-d12535f30551",
   "metadata": {},
   "outputs": [],
   "source": [
    "display(stopButton)\n",
    "thread = threading.Thread(target=view, args=(stopButton, images_path, 0, frame_process, 10, 1.0, 110))\n",
    "thread.start()"
   ]
  },
  {
   "cell_type": "markdown",
   "id": "5cccca4b-bbac-4aa2-9743-ad73c8337fcd",
   "metadata": {},
   "outputs": [],
   "source": [
    "<hr/>"
   ]
  },
  {
   "cell_type": "markdown",
   "id": "3b376544-2517-4b95-913f-ce6f522ce5bf",
   "metadata": {},
   "outputs": [],
   "source": [
    "## Congratulation! You have finished this chapter."
   ]
  },
  {
   "cell_type": "markdown",
   "id": "d63a5467-8b99-4112-a85f-8c63a83d575a",
   "metadata": {},
   "outputs": [],
   "source": [
    "This jupyter notebook is created by 10Botics. <br>\n",
    "For permission to use in school, please contact info@10botics.com <br>\n",
    "All rights reserved. 2024."
   ]
  }
 ],
 "metadata": {
  "kernelspec": {
   "display_name": "Python 3 (ipykernel)",
   "language": "python",
   "name": "python3"
  },
  "language_info": {
   "codemirror_mode": {
    "name": "ipython",
    "version": 3
   },
   "file_extension": ".py",
   "mimetype": "text/x-python",
   "name": "python",
   "nbconvert_exporter": "python",
   "pygments_lexer": "ipython3",
   "version": "3.9.2"
  }
 },
 "nbformat": 4,
 "nbformat_minor": 5
}
