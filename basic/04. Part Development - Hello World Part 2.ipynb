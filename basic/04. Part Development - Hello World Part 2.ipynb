{
 "cells": [
  {
   "cell_type": "markdown",
   "id": "8513baff-cafb-4967-87cf-7f9f03072744",
   "metadata": {},
   "outputs": [],
   "source": [
    "<img src=\"https://10botics.com/logo_jnb.png\" width=\"300\"/>"
   ]
  },
  {
   "cell_type": "markdown",
   "id": "ed4e9546-4665-40a3-a04d-d19b6743c053",
   "metadata": {},
   "outputs": [],
   "source": [
    "# Donkey Car Hello World - Part 2"
   ]
  },
  {
   "cell_type": "markdown",
   "id": "4943d0d3-155b-458a-9b51-e882585bfb8b",
   "metadata": {},
   "outputs": [],
   "source": [
    "## Sample Part with no input and output"
   ]
  },
  {
   "cell_type": "code",
   "execution_count": null,
   "id": "dc125ca7-e653-41b1-a110-9eb0c237ce50",
   "metadata": {},
   "outputs": [],
   "source": [
    "import donkeycar as dk\n",
    "\n",
    "class CounterGenerator:\n",
    "    def __init__(self):\n",
    "        pass\n",
    "        \n",
    "    def run(self):\n",
    "       print(f\"I do nothing\" )\n",
    "\n",
    "V = dk.vehicle.Vehicle()\n",
    "\n",
    "V.add(CounterGenerator())\n",
    "\n",
    "V.start(rate_hz=0.5)"
   ]
  },
  {
   "cell_type": "markdown",
   "id": "ac9a8cf4-f692-434e-9a64-5c312852cfd3",
   "metadata": {},
   "outputs": [],
   "source": [
    "## Output parameters"
   ]
  },
  {
   "cell_type": "markdown",
   "id": "51c379c4-7e26-445b-b533-72f349c00f3e",
   "metadata": {},
   "outputs": [],
   "source": [
    "How do we produce data for other parts to consume?\n",
    "\n",
    "Let's say our Hello World part purpose is to collect some very important data for our race. Its job is to collect the data and pass the data to other parts. Others part will use these data for complex calculation. How do we pass the data to other parts?\n",
    "\n",
    "Read manage.py for some samples and find out"
   ]
  },
  {
   "cell_type": "markdown",
   "id": "00f8fa3e-5ba0-49be-bd93-4b8b70ccdc1e",
   "metadata": {},
   "outputs": [],
   "source": [
    "### Sample"
   ]
  },
  {
   "cell_type": "code",
   "execution_count": null,
   "id": "0db19d15-2d8b-422d-bd00-89a0fc0a1d6c",
   "metadata": {},
   "outputs": [],
   "source": [
    "import donkeycar as dk\n",
    "\n",
    "class CounterGenerator:\n",
    "    counter = 0\n",
    "    \n",
    "    def __init__(self):\n",
    "        pass\n",
    "        \n",
    "    def run(self):\n",
    "        self.counter = self.counter + 1\n",
    "        print(f\"counter = {self.counter}\" )\n",
    "\n",
    "        return self.counter\n",
    "\n",
    "\n",
    "V = dk.vehicle.Vehicle()\n",
    "\n",
    "V.add(CounterGenerator(), outputs=['super_useful_counter'])\n",
    "\n",
    "V.start(rate_hz=0.5)"
   ]
  },
  {
   "cell_type": "markdown",
   "id": "f2e47837-3352-4627-b46a-2e885a8fb491",
   "metadata": {},
   "outputs": [],
   "source": [
    "## Input parameters\n",
    "\n",
    "After producing some data, how do we utilize these data in another part?\n",
    "\n",
    "Let's say we have another part called super counter calculator. Its job is to multiply the counter by 2. How do we do this?"
   ]
  },
  {
   "cell_type": "code",
   "execution_count": null,
   "id": "9c94200f-d756-4381-8415-10b8639b43b7",
   "metadata": {},
   "outputs": [],
   "source": [
    "class SuperCounterCalculator:\n",
    "   \n",
    "    def __init__(self):\n",
    "        pass\n",
    "        \n",
    "    def run(self, counter):\n",
    "        x2_counter = counter * 2\n",
    "        print(f\"x2_counter = {x2_counter}\" )\n",
    "\n",
    "        # Sending the x2_counter to outer space\n"
   ]
  },
  {
   "cell_type": "markdown",
   "id": "611f0efd-cdff-4ae6-976e-be88e9e7137c",
   "metadata": {},
   "outputs": [],
   "source": [
    "### Question\n",
    "\n",
    "1. Why is `self.` not needed in the code above?"
   ]
  },
  {
   "cell_type": "markdown",
   "id": "6115841c-b309-44bf-8dbd-3c4025d3ecf8",
   "metadata": {},
   "outputs": [],
   "source": [
    "## Putting it together"
   ]
  },
  {
   "cell_type": "markdown",
   "id": "0e78a79d-dd3d-4feb-904d-d9405b783fa4",
   "metadata": {},
   "outputs": [],
   "source": [
    "The code below missed something. Fix it to make it run."
   ]
  },
  {
   "cell_type": "code",
   "execution_count": null,
   "id": "19fb17d9-36a6-424b-9438-58653b3dedcf",
   "metadata": {},
   "outputs": [],
   "source": [
    "V = dk.vehicle.Vehicle()\n",
    "\n",
    "V.add(CounterGenerator(), inputs=[], outputs=['super_useful_counter'])\n",
    "V.add(SuperCounterCalculator(), inputs=[], outputs=[])\n",
    "\n",
    "V.start(rate_hz=0.5)"
   ]
  },
  {
   "cell_type": "markdown",
   "id": "a1df9539-ad4c-464b-bf74-46710f49060d",
   "metadata": {
    "jp-MarkdownHeadingCollapsed": true
   },
   "outputs": [],
   "source": [
    "### Answer"
   ]
  },
  {
   "cell_type": "code",
   "execution_count": null,
   "id": "d8ddc333-5794-40af-a9de-678e1eba04e2",
   "metadata": {},
   "outputs": [],
   "source": [
    "V = dk.vehicle.Vehicle()\n",
    "\n",
    "V.add(CounterGenerator(), outputs=['super_useful_counter'])\n",
    "V.add(SuperCounterCalculator(), inputs=['super_useful_counter'], outputs=[])\n",
    "\n",
    "V.start(rate_hz=0.5)"
   ]
  },
  {
   "cell_type": "markdown",
   "id": "5cccca4b-bbac-4aa2-9743-ad73c8337fcd",
   "metadata": {},
   "outputs": [],
   "source": [
    "<hr/>"
   ]
  },
  {
   "cell_type": "markdown",
   "id": "3b376544-2517-4b95-913f-ce6f522ce5bf",
   "metadata": {},
   "outputs": [],
   "source": [
    "## Congratulation! You have finished this chapter."
   ]
  },
  {
   "cell_type": "markdown",
   "id": "d63a5467-8b99-4112-a85f-8c63a83d575a",
   "metadata": {},
   "outputs": [],
   "source": [
    "This jupyter notebook is created by 10Botics. <br>\n",
    "For permission to use in school, please contact info@10botics.com <br>\n",
    "All rights reserved. 2024."
   ]
  }
 ],
 "metadata": {
  "kernelspec": {
   "display_name": "Python 3 (ipykernel)",
   "language": "python",
   "name": "python3"
  },
  "language_info": {
   "codemirror_mode": {
    "name": "ipython",
    "version": 3
   },
   "file_extension": ".py",
   "mimetype": "text/x-python",
   "name": "python",
   "nbconvert_exporter": "python",
   "pygments_lexer": "ipython3",
   "version": "3.9.2"
  }
 },
 "nbformat": 4,
 "nbformat_minor": 5
}
