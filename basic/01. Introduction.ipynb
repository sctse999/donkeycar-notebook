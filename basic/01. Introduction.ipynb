{
 "cells": [
  {
   "cell_type": "markdown",
   "id": "8513baff-cafb-4967-87cf-7f9f03072744",
   "metadata": {},
   "outputs": [],
   "source": [
    "<img src=\"https://10botics.com/logo_jnb.png\" width=\"300\"/>"
   ]
  },
  {
   "cell_type": "code",
   "execution_count": null,
   "id": "cedd98de-c3b2-4af5-9e36-26be943b62ce",
   "metadata": {},
   "outputs": [],
   "source": [
    "print(\"hello world\")"
   ]
  },
  {
   "cell_type": "code",
   "execution_count": null,
   "id": "1b48acf3-9c66-4d6e-b0a3-2900fdccd115",
   "metadata": {},
   "outputs": [],
   "source": [
    "import donkeycar"
   ]
  },
  {
   "cell_type": "markdown",
   "id": "23e86609-e520-4061-b1ad-55ecfaa44fe8",
   "metadata": {},
   "outputs": [],
   "source": [
    "### How to get the donkeycar version programmatically?"
   ]
  },
  {
   "cell_type": "code",
   "execution_count": null,
   "id": "71cf2cbd-b8cd-470a-b64e-e5793053c228",
   "metadata": {},
   "outputs": [],
   "source": [
    "donkeycar.__version__"
   ]
  },
  {
   "cell_type": "markdown",
   "id": "8dd087c2-3500-4c62-8181-fbe8d1d81f0c",
   "metadata": {},
   "outputs": [],
   "source": [
    "http://192.168.1.92:8000/vehicle/status"
   ]
  },
  {
   "cell_type": "markdown",
   "id": "93831616-e803-45dd-a9a0-9cc1b479f9ab",
   "metadata": {},
   "outputs": [],
   "source": [
    "### How do we know the library dependency of the current environment?"
   ]
  },
  {
   "cell_type": "code",
   "execution_count": null,
   "id": "62a67b0b-5884-4d90-8182-bff31853b5e2",
   "metadata": {
    "scrolled": true
   },
   "outputs": [],
   "source": [
    "pip list"
   ]
  },
  {
   "cell_type": "markdown",
   "id": "5cccca4b-bbac-4aa2-9743-ad73c8337fcd",
   "metadata": {},
   "outputs": [],
   "source": [
    "<hr/>"
   ]
  },
  {
   "cell_type": "markdown",
   "id": "3b376544-2517-4b95-913f-ce6f522ce5bf",
   "metadata": {},
   "outputs": [],
   "source": [
    "## Congratulation! You have finished this chapter."
   ]
  },
  {
   "cell_type": "markdown",
   "id": "d63a5467-8b99-4112-a85f-8c63a83d575a",
   "metadata": {},
   "outputs": [],
   "source": [
    "This jupyter notebook is created by 10Botics. <br>\n",
    "For permission to use in school, please contact info@10botics.com <br>\n",
    "All rights reserved. 2024."
   ]
  }
 ],
 "metadata": {
  "kernelspec": {
   "display_name": "Python 3 (ipykernel)",
   "language": "python",
   "name": "python3"
  },
  "language_info": {
   "codemirror_mode": {
    "name": "ipython",
    "version": 3
   },
   "file_extension": ".py",
   "mimetype": "text/x-python",
   "name": "python",
   "nbconvert_exporter": "python",
   "pygments_lexer": "ipython3",
   "version": "3.9.2"
  }
 },
 "nbformat": 4,
 "nbformat_minor": 5
}
