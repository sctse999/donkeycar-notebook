{
 "cells": [
  {
   "cell_type": "markdown",
   "id": "8013de99-d79c-4fce-8282-dd73b941ea5f",
   "metadata": {},
   "source": [
    "# Getting the UUID of your tub"
   ]
  },
  {
   "cell_type": "markdown",
   "id": "803f19ba-4625-4d68-85b9-60ee0d24d3fb",
   "metadata": {},
   "source": [
    "UUID of the tub could be used for colab training. You can use the code samples below to retreive the UUID of the tub."
   ]
  },
  {
   "cell_type": "code",
   "execution_count": 76,
   "id": "031dfb7b-949c-483f-b6cd-094281e16119",
   "metadata": {},
   "outputs": [
    {
     "name": "stdout",
     "output_type": "stream",
     "text": [
      "find_all_tubs loaded\n",
      "image_count loaded\n",
      "get_tub_uuid loaded\n"
     ]
    }
   ],
   "source": [
    "%run Common_functions.ipynb"
   ]
  },
  {
   "cell_type": "code",
   "execution_count": 1,
   "id": "0b676f2c-622b-423e-8e28-1074e07b9bde",
   "metadata": {},
   "outputs": [],
   "source": [
    "data_path = \"/home/pi/mycar/data\""
   ]
  },
  {
   "cell_type": "markdown",
   "id": "1c7df55b-ff3c-4132-a427-7b3671148deb",
   "metadata": {},
   "source": [
    "## List all tubs with UUID and image count"
   ]
  },
  {
   "cell_type": "code",
   "execution_count": 53,
   "id": "24c539bc-6aac-40dc-97d1-82290e4f081a",
   "metadata": {},
   "outputs": [
    {
     "name": "stdout",
     "output_type": "stream",
     "text": [
      "No of tubs found = 20\n",
      "Tub                  Image count          UUID                                    \n",
      "tub_15_23-11-30      4523                 b7da4c7a-d868-46e1-a2e7-1b02c472c8ef\n",
      "tub_16_23-11-30      5593                 a38a0958-baba-4b65-aded-e60e2f22e265\n",
      "tub_18_23-12-02      1394                 dfbdcc85-d8fd-4417-a283-58bc7c05354b\n",
      "tub_1_23-11-24       1331                 None\n",
      "tub_20_23-12-02      1072                 None\n",
      "tub_21_23-12-02      12537                d72e2f62-0833-4d60-8f82-42587b10f9bb\n",
      "tub_25_23-12-02      3442                 64087dfd-8a3d-4f45-98ed-2884a112c87f\n",
      "tub_2_23-11-24       3220                 6ee2c59a-b8f4-4cb5-b06a-9691229919ae\n",
      "tub_30_23-12-22      1765                 None\n",
      "tub_35_24-01-13      1440                 None\n",
      "tub_40_23-12-28      1470                 None\n",
      "tub_44_24-01-13      2197                 None\n",
      "tub_45_24-01-13      1576                 None\n",
      "tub_47_24-01-13      1647                 None\n",
      "tub_48_24-01-13      2232                 None\n",
      "tub_49_24-01-13      6623                 19007878-6909-4c46-b6da-59e95355b15a\n",
      "tub_51_24-01-13      1070                 None\n",
      "tub_55_24-02-01      1621                 None\n",
      "tub_59_24-02-01      4111                 None\n",
      "tub_8_23-11-29       2422                 None\n"
     ]
    }
   ],
   "source": [
    "tubs = find_all_tubs()\n",
    "\n",
    "print(f\"{'Tub': <19}  {'Image count': <20} {'UUID': <40}\")\n",
    "for tub in tubs:\n",
    "    print(f\"{tub: <20} {image_count(tub): <20} {get_tub_uuid(tub)}\")"
   ]
  },
  {
   "cell_type": "code",
   "execution_count": 55,
   "id": "cd6b655c-d27f-4feb-9d3a-e7d700f5537e",
   "metadata": {},
   "outputs": [],
   "source": [
    "selected_tubs = ['tub_15_23-11-30','tub_16_23-11-30']"
   ]
  },
  {
   "cell_type": "code",
   "execution_count": 96,
   "id": "694f4e35-9ab1-454e-901b-f109e21e1022",
   "metadata": {},
   "outputs": [
    {
     "name": "stdout",
     "output_type": "stream",
     "text": [
      "find_all_tubs loaded\n",
      "image_count loaded\n",
      "get_tub_uuid loaded\n",
      "tub_uuids = ['b7da4c7a-d868-46e1-a2e7-1b02c472c8ef', 'a38a0958-baba-4b65-aded-e60e2f22e265']\n"
     ]
    }
   ],
   "source": [
    "%run Common_functions.ipynb\n",
    "\n",
    "tub_uuids = [ get_tub_uuid(tub) for tub in selected_tubs]\n",
    "print(f\"tub_uuids = {tub_uuids}\")\n"
   ]
  }
 ],
 "metadata": {
  "kernelspec": {
   "display_name": "Python 3 (ipykernel)",
   "language": "python",
   "name": "python3"
  },
  "language_info": {
   "codemirror_mode": {
    "name": "ipython",
    "version": 3
   },
   "file_extension": ".py",
   "mimetype": "text/x-python",
   "name": "python",
   "nbconvert_exporter": "python",
   "pygments_lexer": "ipython3",
   "version": "3.9.2"
  }
 },
 "nbformat": 4,
 "nbformat_minor": 5
}
