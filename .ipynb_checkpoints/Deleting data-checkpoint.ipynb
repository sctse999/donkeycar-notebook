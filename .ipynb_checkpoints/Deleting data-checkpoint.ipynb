{
 "cells": [
  {
   "cell_type": "markdown",
   "id": "97732c52-976b-4f5e-9491-ab700e30e3c3",
   "metadata": {},
   "source": [
    "# Deleting data"
   ]
  },
  {
   "cell_type": "markdown",
   "id": "5a0c3c61-3bbc-4c27-9c82-da333eda073b",
   "metadata": {},
   "source": [
    "## Define path"
   ]
  },
  {
   "cell_type": "code",
   "execution_count": 1,
   "id": "d0beb53e-2819-4e06-a78b-14d054b77c43",
   "metadata": {},
   "outputs": [],
   "source": [
    "data_path = \"/home/pi/mycar/data\""
   ]
  },
  {
   "cell_type": "markdown",
   "id": "210cfa4d-8f94-4bc2-bd03-6c8e7a4d82d7",
   "metadata": {},
   "source": [
    "## Find all the tubs"
   ]
  },
  {
   "cell_type": "code",
   "execution_count": 39,
   "id": "5a00271a-e9c2-4125-bcd9-a8f0e1a6ebbe",
   "metadata": {},
   "outputs": [
    {
     "name": "stdout",
     "output_type": "stream",
     "text": [
      "No of tubs found = 43\n"
     ]
    }
   ],
   "source": [
    "from os import listdir\n",
    "\n",
    "def find_all_tubs():\n",
    "    tubs = [d for d in listdir(data_path)]\n",
    "    print(f\"No of tubs found = {len(tubs)}\")\n",
    "    return tubs\n",
    "\n",
    "tubs = find_all_tubs()"
   ]
  },
  {
   "cell_type": "markdown",
   "id": "80f6f718-acf3-4402-9ff4-a912a9109715",
   "metadata": {},
   "source": [
    "## Count the number of images of each tub"
   ]
  },
  {
   "cell_type": "code",
   "execution_count": 34,
   "id": "f7bef2ca-4162-421b-986d-24f0b1d89947",
   "metadata": {},
   "outputs": [],
   "source": [
    "def image_count(tub_name):\n",
    "    try:\n",
    "        image_count = len(listdir(f\"{data_path}/{tub}/images\"))\n",
    "    except:\n",
    "        print(f\"Warning: cannot find tub {tub_name}\")\n",
    "        image_count = -1\n",
    "    return image_count"
   ]
  },
  {
   "cell_type": "markdown",
   "id": "a64f180f-445d-4943-96d6-34a66f96f55e",
   "metadata": {},
   "source": [
    "## Define a function to delete one single tub by tub name"
   ]
  },
  {
   "cell_type": "markdown",
   "id": "a8660804-f96c-4c0d-bbc6-85b7e68c502d",
   "metadata": {},
   "source": [
    "We will create a function called `delete_tub` to delete a tub by tub name. In this function, we use a function called `rmtree`(https://docs.python.org/3/library/shutil.html#shutil.rmtree) from the `shutil` package to delete a directory.\n",
    "\n",
    "To avoid us accidentally delete something, we added a parameter called `dry_run`. If `dry_run` is `True`, it will only simulate the delete without actually delete it. It is common to have a `dry_run` parameter to avoid you deleting something important. Deleting is not recoverable so please use this function with care."
   ]
  },
  {
   "cell_type": "code",
   "execution_count": 26,
   "id": "88a1c2e6-b6f8-4712-a637-c041e0125782",
   "metadata": {},
   "outputs": [],
   "source": [
    "import shutil\n",
    "\n",
    "def delete_tub(tub_name, dry_run = True):\n",
    "    tub_path = f\"{data_path}/{tub_name}\"\n",
    "    print(f\"Deleting {tub_path}\")\n",
    "    if not dry_run:\n",
    "        shutil.rmtree(tub_path, ignore_errors=True)        "
   ]
  },
  {
   "cell_type": "markdown",
   "id": "0fb9cde2-816d-49dc-b302-a2c3875eccd4",
   "metadata": {},
   "source": [
    "## Delete tubs with 0 images"
   ]
  },
  {
   "cell_type": "code",
   "execution_count": 40,
   "id": "e503bba0-7cb2-4e6b-998b-c3b4520d259f",
   "metadata": {},
   "outputs": [
    {
     "name": "stdout",
     "output_type": "stream",
     "text": [
      "No of tubs found = 43\n",
      "No of tubs found = 43\n"
     ]
    }
   ],
   "source": [
    "tubs = find_all_tubs()\n",
    "for tub in tubs:\n",
    "    if image_count(tub) == 0:\n",
    "        delete_tub(tub, True)\n",
    "tubs = find_all_tubs()\n",
    "        "
   ]
  },
  {
   "cell_type": "markdown",
   "id": "65452eb7-0766-4e58-915e-acb80f8609c3",
   "metadata": {},
   "source": [
    "Change the `dry_run` above to `False` to delete the tubs with zero images."
   ]
  },
  {
   "cell_type": "markdown",
   "id": "9019d09e-f7d8-45bd-a228-13fccb4419d7",
   "metadata": {},
   "source": [
    "## Delete tubs with less than 1000 images"
   ]
  },
  {
   "cell_type": "code",
   "execution_count": 42,
   "id": "3952e66b-9f06-4db5-8596-4aafaec1a048",
   "metadata": {},
   "outputs": [
    {
     "name": "stdout",
     "output_type": "stream",
     "text": [
      "No of tubs found = 43\n",
      "Deleting /home/pi/mycar/data/tub_34_24-01-13\n",
      "Deleting /home/pi/mycar/data/tub_14_23-11-30\n",
      "Deleting /home/pi/mycar/data/tub_11_23-11-29\n",
      "Deleting /home/pi/mycar/data/tub_3_23-11-24\n",
      "Deleting /home/pi/mycar/data/tub_58_24-02-01\n",
      "Deleting /home/pi/mycar/data/tub_39_24-01-13\n",
      "Deleting /home/pi/mycar/data/tub_50_24-01-13\n",
      "Deleting /home/pi/mycar/data/tub_23_23-12-02\n",
      "Deleting /home/pi/mycar/data/tub_6_23-11-29\n",
      "Deleting /home/pi/mycar/data/tub_60_24-02-01\n",
      "Deleting /home/pi/mycar/data/tub_37_24-01-13\n",
      "Deleting /home/pi/mycar/data/tub_52_24-01-13\n",
      "Deleting /home/pi/mycar/data/tub_61_24-02-01\n",
      "Deleting /home/pi/mycar/data/tub_17_23-12-02\n",
      "Deleting /home/pi/mycar/data/tub_43_24-01-13\n",
      "Deleting /home/pi/mycar/data/tub_13_23-11-29\n",
      "Deleting /home/pi/mycar/data/tub_56_24-02-01\n",
      "Deleting /home/pi/mycar/data/tub_38_24-01-13\n",
      "Deleting /home/pi/mycar/data/tub_46_24-01-13\n",
      "Deleting /home/pi/mycar/data/tub_9_23-11-29\n",
      "Deleting /home/pi/mycar/data/tub_5_23-11-29\n",
      "Deleting /home/pi/mycar/data/tub_42_24-01-13\n",
      "Deleting /home/pi/mycar/data/tub_54_24-02-01\n",
      "No of tubs found = 43\n"
     ]
    }
   ],
   "source": [
    "tubs = find_all_tubs()\n",
    "\n",
    "for tub in tubs:    \n",
    "    if image_count(tub) < 1000:\n",
    "        delete_tub(tub, False)\n",
    "\n",
    "tubs = find_all_tubs()"
   ]
  },
  {
   "cell_type": "markdown",
   "id": "a8efa4ba-b884-466f-b17d-c32dd7823b66",
   "metadata": {},
   "source": [
    "Change the `dry_run` above to `False` to delete the tubs less than images."
   ]
  }
 ],
 "metadata": {
  "kernelspec": {
   "display_name": "Python 3 (ipykernel)",
   "language": "python",
   "name": "python3"
  },
  "language_info": {
   "codemirror_mode": {
    "name": "ipython",
    "version": 3
   },
   "file_extension": ".py",
   "mimetype": "text/x-python",
   "name": "python",
   "nbconvert_exporter": "python",
   "pygments_lexer": "ipython3",
   "version": "3.9.2"
  }
 },
 "nbformat": 4,
 "nbformat_minor": 5
}
