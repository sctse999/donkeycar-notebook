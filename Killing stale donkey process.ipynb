{
 "cells": [
  {
   "cell_type": "markdown",
   "id": "0e98a5f4-4ea4-4b99-9c95-0cc39cee0f16",
   "metadata": {},
   "source": [
    "# Killing Stale Process"
   ]
  },
  {
   "cell_type": "markdown",
   "id": "e4ae482a-d22c-4960-8558-1efbcf0473bc",
   "metadata": {},
   "source": [
    "## Background\n",
    "Sometimes the donkey car is still running after the app is closed. Sometimes the car is stuck and we called this a stale process. You want kill the donkey car program so that you can start recording again. "
   ]
  },
  {
   "cell_type": "markdown",
   "id": "1d013b3c-85d8-47c0-be9c-d2852d2b7963",
   "metadata": {},
   "source": [
    "## TLDR\n",
    "\n",
    "Execute the cell below to kill the donkey car drive command. Make sure you stop your car first. The car may run away without you being able to control it. "
   ]
  },
  {
   "cell_type": "code",
   "execution_count": 1,
   "id": "b41fc4c2-f14e-4b92-bb12-ebd02f2a51a8",
   "metadata": {},
   "outputs": [
    {
     "name": "stdout",
     "output_type": "stream",
     "text": [
      "\n",
      "Usage:\n",
      " kill [options] <pid> [...]\n",
      "\n",
      "Options:\n",
      " <pid> [...]            send signal to every <pid> listed\n",
      " -<signal>, -s, --signal <signal>\n",
      "                        specify the <signal> to be sent\n",
      " -q, --queue <value>    integer value to be sent with the signal\n",
      " -l, --list=[<signal>]  list all signal names, or convert one to a name\n",
      " -L, --table            list all signal names in a nice table\n",
      "\n",
      " -h, --help     display this help and exit\n",
      " -V, --version  output version information and exit\n",
      "\n",
      "For more details see kill(1).\n"
     ]
    }
   ],
   "source": [
    "!ps -ef | grep -ie  \"manage.py drive\" | grep -v grep | awk '{print $2}' |  xargs kill -9 "
   ]
  },
  {
   "cell_type": "markdown",
   "id": "981f22ba-08e0-4eec-9a3f-a12fb2092d1c",
   "metadata": {},
   "source": [
    "## Detailed explanation"
   ]
  },
  {
   "cell_type": "markdown",
   "id": "8785e880-b1c9-4d95-b298-20fa0986a843",
   "metadata": {},
   "source": [
    "### The kill command"
   ]
  },
  {
   "cell_type": "markdown",
   "id": "1a3cc8a1-c54b-4768-938b-78e9e035ad16",
   "metadata": {},
   "source": [
    "The kill command can be used to kill process with a process id. Run the following cell to kill an imaginery process with process id `99999999` . Normally, it will report that there is no such process. \n",
    "\n",
    "the `-9` parameter means kill immediately"
   ]
  },
  {
   "cell_type": "code",
   "execution_count": 7,
   "id": "35510088-825d-42f2-a633-1c05d184215a",
   "metadata": {},
   "outputs": [
    {
     "name": "stdout",
     "output_type": "stream",
     "text": [
      "/bin/bash: line 1: kill: (999999) - No such process\n"
     ]
    }
   ],
   "source": [
    "!kill -9 99999999"
   ]
  },
  {
   "cell_type": "markdown",
   "id": "a52c2591-a515-4c70-b5f3-2fc1a2f9a543",
   "metadata": {},
   "source": [
    "In order to kill the stale donkey car process, we need to know the process id. "
   ]
  },
  {
   "cell_type": "markdown",
   "id": "d7406cb5-5b79-4645-85d6-ad570cdc303b",
   "metadata": {},
   "source": [
    "### Getting the process id"
   ]
  },
  {
   "cell_type": "markdown",
   "id": "3373845a-1668-48e4-80bb-0c8457f20aba",
   "metadata": {},
   "source": [
    "The `ps` command list all the process currently running in the system"
   ]
  },
  {
   "cell_type": "code",
   "execution_count": 3,
   "id": "6712c9e1-639a-4eda-9571-1fb51907bc34",
   "metadata": {},
   "outputs": [
    {
     "name": "stdout",
     "output_type": "stream",
     "text": [
      "UID          PID    PPID  C STIME TTY          TIME CMD\n",
      "root           1       0  0 Feb14 ?        00:00:08 /sbin/init\n",
      "root           2       0  0 Feb14 ?        00:00:00 [kthreadd]\n",
      "root           3       2  0 Feb14 ?        00:00:00 [rcu_gp]\n",
      "root           4       2  0 Feb14 ?        00:00:00 [rcu_par_gp]\n",
      "root           5       2  0 Feb14 ?        00:00:00 [slub_flushwq]\n",
      "root           6       2  0 Feb14 ?        00:00:00 [netns]\n",
      "root          10       2  0 Feb14 ?        00:00:00 [mm_percpu_wq]\n",
      "root          11       2  0 Feb14 ?        00:00:00 [rcu_tasks_kthread]\n",
      "root          12       2  0 Feb14 ?        00:00:00 [rcu_tasks_rude_kthread]\n",
      "root          13       2  0 Feb14 ?        00:00:00 [rcu_tasks_trace_kthread]\n",
      "root          14       2  0 Feb14 ?        00:00:01 [ksoftirqd/0]\n",
      "root          15       2  0 Feb14 ?        00:01:44 [rcu_preempt]\n",
      "root          16       2  0 Feb14 ?        00:00:00 [migration/0]\n",
      "root          17       2  0 Feb14 ?        00:00:00 [cpuhp/0]\n",
      "root          18       2  0 Feb14 ?        00:00:00 [cpuhp/1]\n",
      "root          19       2  0 Feb14 ?        00:00:00 [migration/1]\n",
      "root          20       2  0 Feb14 ?        00:00:00 [ksoftirqd/1]\n",
      "root          23       2  0 Feb14 ?        00:00:00 [cpuhp/2]\n",
      "root          24       2  0 Feb14 ?        00:00:00 [migration/2]\n",
      "root          25       2  0 Feb14 ?        00:00:00 [ksoftirqd/2]\n",
      "root          28       2  0 Feb14 ?        00:00:00 [cpuhp/3]\n",
      "root          29       2  0 Feb14 ?        00:00:00 [migration/3]\n",
      "root          30       2  0 Feb14 ?        00:00:00 [ksoftirqd/3]\n",
      "root          33       2  0 Feb14 ?        00:00:00 [kdevtmpfs]\n",
      "root          34       2  0 Feb14 ?        00:00:00 [inet_frag_wq]\n",
      "root          36       2  0 Feb14 ?        00:00:00 [kauditd]\n",
      "root          38       2  0 Feb14 ?        00:00:00 [khungtaskd]\n",
      "root          40       2  0 Feb14 ?        00:00:00 [oom_reaper]\n",
      "root          41       2  0 Feb14 ?        00:00:00 [writeback]\n",
      "root          42       2  0 Feb14 ?        00:00:36 [kcompactd0]\n",
      "root          43       2  0 Feb14 ?        00:00:00 [kintegrityd]\n",
      "root          44       2  0 Feb14 ?        00:00:00 [kblockd]\n",
      "root          45       2  0 Feb14 ?        00:00:00 [blkcg_punt_bio]\n",
      "root          46       2  0 Feb14 ?        00:00:00 [watchdogd]\n",
      "root          50       2  0 Feb14 ?        00:00:00 [rpciod]\n",
      "root          51       2  0 Feb14 ?        00:00:00 [xprtiod]\n",
      "root          55       2  0 Feb14 ?        00:00:00 [kswapd0]\n",
      "root          56       2  0 Feb14 ?        00:00:00 [nfsiod]\n",
      "root          57       2  0 Feb14 ?        00:00:00 [kthrotld]\n",
      "root          63       2  0 Feb14 ?        00:00:00 [hwrng]\n",
      "root          64       2  0 Feb14 ?        00:00:00 [iscsi_conn_clea]\n",
      "root          65       2  0 Feb14 ?        00:00:00 [nvme-wq]\n",
      "root          66       2  0 Feb14 ?        00:00:00 [nvme-reset-wq]\n",
      "root          67       2  0 Feb14 ?        00:00:00 [nvme-delete-wq]\n",
      "root          69       2  0 Feb14 ?        00:00:00 [DWC Notificatio]\n",
      "root          70       2  0 Feb14 ?        00:00:00 [uas]\n",
      "root          71       2  0 Feb14 ?        00:00:00 [vchiq-slot/0]\n",
      "root          72       2  0 Feb14 ?        00:00:00 [vchiq-recy/0]\n",
      "root          73       2  0 Feb14 ?        00:00:00 [vchiq-sync/0]\n",
      "root          74       2  0 Feb14 ?        00:00:00 [zswap-shrink]\n",
      "root          75       2  0 Feb14 ?        00:04:34 [kworker/u9:0-brcmf_wq/mmc1:\n",
      "root          96       2  0 Feb14 ?        00:00:00 [sdhci]\n",
      "root          97       2  0 Feb14 ?        00:00:00 [irq/37-mmc0]\n",
      "root          98       2  0 Feb14 ?        00:00:00 [mmc_complete]\n",
      "root         100       2  0 Feb14 ?        00:00:05 [kworker/2:1H-kblockd]\n",
      "root         105       2  0 Feb14 ?        00:00:24 [jbd2/mmcblk0p2-8]\n",
      "root         106       2  0 Feb14 ?        00:00:00 [ext4-rsv-conver]\n",
      "root         107       2  0 Feb14 ?        00:00:00 [mld]\n",
      "root         108       2  0 Feb14 ?        00:00:00 [ipv6_addrconf]\n",
      "root         124       2  0 Feb14 ?        00:00:23 [kworker/0:2H-mmc_complete]\n",
      "root         151       1  0 Feb14 ?        00:00:18 /lib/systemd/systemd-journal\n",
      "root         174       1  0 Feb14 ?        00:00:02 /lib/systemd/systemd-udevd\n",
      "root         215       2  0 Feb14 ?        00:00:00 [vchiq-keep/0]\n",
      "root         217       2  0 Feb14 ?        00:00:00 [SMIO]\n",
      "root         223       2  0 Feb14 ?        00:00:00 [spi0]\n",
      "root         228       2  0 Feb14 ?        00:00:00 [mmal-vchiq]\n",
      "root         229       2  0 Feb14 ?        00:00:00 [irq/40-feb10000.codec]\n",
      "root         231       2  0 Feb14 ?        00:00:00 [mmal-vchiq]\n",
      "root         232       2  0 Feb14 ?        00:00:00 [mmal-vchiq]\n",
      "root         234       2  0 Feb14 ?        00:00:00 [mmal-vchiq]\n",
      "root         237       2  0 Feb14 ?        00:00:00 [mmal-vchiq]\n",
      "root         244       2  0 Feb14 ?        00:00:00 [mmal-vchiq]\n",
      "root         258       2  0 Feb14 ?        00:00:00 [mmal-vchiq]\n",
      "root         262       2  0 Feb14 ?        00:00:00 [cfg80211]\n",
      "root         277       2  0 Feb14 ?        00:00:00 [brcmf_wq/mmc1:0]\n",
      "root         278       2  0 Feb14 ?        00:00:35 [brcmf_wdog/mmc1:0001:1]\n",
      "root         311       2  0 Feb14 ?        00:03:11 [kworker/u9:1-brcmf_wq/mmc1:\n",
      "avahi        354       1  0 Feb14 ?        00:03:03 avahi-daemon: running [donke\n",
      "root         359       1  0 Feb14 ?        00:00:01 /usr/sbin/cron -f\n",
      "message+     361       1  0 Feb14 ?        00:00:01 /usr/bin/dbus-daemon --syste\n",
      "pi           388       1  0 Feb14 ?        00:22:41 /home/pi/env/bin/python /hom\n",
      "root         392       1  0 Feb14 ?        00:00:00 /usr/libexec/polkitd --no-de\n",
      "root         399       1  6 Feb14 ?        10:08:39 /usr/bin/pigpiod -l\n",
      "root         402       1  0 Feb14 ?        00:00:11 /usr/sbin/rsyslogd -n -iNONE\n",
      "avahi        410     354  0 Feb14 ?        00:00:00 avahi-daemon: chroot helper\n",
      "root         414       1  0 Feb14 ?        00:00:02 /lib/systemd/systemd-logind\n",
      "nobody       423       1  0 Feb14 ?        00:00:06 /usr/sbin/thd --triggers /et\n",
      "root         424       1  0 Feb14 ?        00:00:01 /usr/libexec/udisks2/udisksd\n",
      "root         429       1  0 Feb14 ?        00:00:03 /sbin/wpa_supplicant -u -s -\n",
      "root         505       1  0 Feb14 ?        00:00:08 /usr/sbin/rngd -r /dev/hwrng\n",
      "pi           540       1  1 Feb14 ?        01:30:38 /home/pi/env/bin/python oled\n",
      "root         551       1  0 Feb14 ?        00:00:00 /usr/bin/vncserver-x11-servi\n",
      "root         564       1  0 Feb14 ?        00:00:00 /usr/sbin/ModemManager\n",
      "root         566       1  0 Feb14 ?        00:00:00 /usr/sbin/lightdm\n",
      "ntp          568       1  0 Feb14 ?        00:01:22 /usr/sbin/ntpd -p /var/run/n\n",
      "root         569     551  0 Feb14 ?        00:02:23 /usr/bin/vncserver-x11-core \n",
      "root         571       1  0 Feb14 ?        00:00:00 sshd: /usr/sbin/sshd -D [lis\n",
      "root         584       1  0 Feb14 ?        00:00:08 wpa_supplicant -B -c/etc/wpa\n",
      "root         597     566  0 Feb14 tty7     00:01:23 /usr/lib/xorg/Xorg :0 -seat \n",
      "root         598       1  0 Feb14 tty1     00:00:00 /bin/login -f\n",
      "colord       607       1  0 Feb14 ?        00:00:00 /usr/libexec/colord\n",
      "root         645     566  0 Feb14 ?        00:00:00 lightdm --session-child 14 1\n",
      "pi           651       1  0 Feb14 ?        00:00:00 /lib/systemd/systemd --user\n",
      "pi           652     651  0 Feb14 ?        00:00:00 (sd-pam)\n",
      "pi           666     651  0 Feb14 ?        00:00:00 /usr/bin/pulseaudio --daemon\n",
      "pi           668     645  0 Feb14 ?        00:00:00 xfce4-session\n",
      "rtkit        671       1  0 Feb14 ?        00:00:10 /usr/libexec/rtkit-daemon\n",
      "pi           679     651  0 Feb14 ?        00:03:59 /usr/bin/dbus-daemon --sessi\n",
      "pi           719     668  0 Feb14 ?        00:00:03 /usr/bin/ssh-agent x-session\n",
      "pi           736     598  0 Feb14 tty1     00:00:00 -bash\n",
      "pi           761     651  0 Feb14 ?        00:00:00 /usr/libexec/at-spi-bus-laun\n",
      "pi           766     761  0 Feb14 ?        00:00:00 /usr/bin/dbus-daemon --confi\n",
      "pi           770     651  0 Feb14 ?        00:00:01 /usr/lib/aarch64-linux-gnu/x\n",
      "pi           775     651  0 Feb14 ?        00:00:00 /usr/libexec/at-spi2-registr\n",
      "pi           786     651  0 Feb14 ?        00:00:00 /usr/bin/gpg-agent --supervi\n",
      "pi           788     668  0 Feb14 ?        00:00:17 xfwm4\n",
      "pi           793     651  0 Feb14 ?        00:00:00 /usr/libexec/gvfsd\n",
      "pi           817     668  0 Feb14 ?        00:00:00 xfsettingsd\n",
      "root         824       1  0 Feb14 ?        00:00:00 /usr/libexec/upowerd\n",
      "root         842       1  0 Feb14 ?        00:00:00 /usr/bin/hciattach /dev/seri\n",
      "pi           853     668  0 Feb14 ?        00:00:29 xfce4-panel\n",
      "root         855       1  0 Feb14 ?        00:00:00 /usr/libexec/bluetooth/bluet\n",
      "pi           864     668  0 Feb14 ?        00:00:00 Thunar --daemon\n",
      "pi           893     668  0 Feb14 ?        00:00:15 xfdesktop\n",
      "pi           907     668  0 Feb14 ?        00:00:00 /usr/lib/aarch64-linux-gnu/x\n",
      "pi           908     668  0 Feb14 ?        00:00:00 /usr/lib/policykit-1-gnome/p\n",
      "pi           909     668  0 Feb14 ?        00:00:07 light-locker\n",
      "pi           910     668  0 Feb14 ?        00:00:00 xiccd\n",
      "pi           927     651  0 Feb14 ?        00:00:00 /usr/libexec/dconf-service\n",
      "pi           943     651  0 Feb14 ?        00:00:00 /usr/libexec/gvfs-udisks2-vo\n",
      "pi           963       1  0 Feb14 ?        00:01:56 /home/pi/env/bin/python /hom\n",
      "root         993       1  0 Feb14 ?        00:00:00 /usr/sbin/dhcpcd -w -q\n",
      "pi          1014     793  0 Feb14 ?        00:00:00 /usr/libexec/gvfsd-trash --s\n",
      "pi          1021     651  0 Feb14 ?        00:00:00 /usr/libexec/gvfsd-metadata\n",
      "pi          1024     853  0 Feb14 ?        00:00:00 /usr/lib/aarch64-linux-gnu/x\n",
      "pi          1025     853  0 Feb14 ?        00:13:58 /usr/lib/aarch64-linux-gnu/x\n",
      "pi          1026     853  0 Feb14 ?        00:00:00 /usr/lib/aarch64-linux-gnu/x\n",
      "pi          1039     853  0 Feb14 ?        00:00:00 /usr/lib/aarch64-linux-gnu/x\n",
      "pi          1040     963  0 Feb14 ?        00:03:45 /home/pi/env/bin/python /hom\n",
      "root        1259     566  0 Feb14 tty8     00:02:54 /usr/lib/xorg/Xorg :1 -seat \n",
      "root        1264     569  0 Feb14 ?        00:00:00 /usr/bin/vncagent service 0\n",
      "root        1281     566  0 Feb14 ?        00:00:00 lightdm --session-child 21 2\n",
      "lightdm     1285       1  0 Feb14 ?        00:00:00 /lib/systemd/systemd --user\n",
      "lightdm     1286    1285  0 Feb14 ?        00:00:00 (sd-pam)\n",
      "lightdm     1300    1285  0 Feb14 ?        00:00:00 /usr/bin/pulseaudio --daemon\n",
      "lightdm     1301    1281  0 Feb14 ?        00:05:01 /usr/sbin/lightdm-gtk-greete\n",
      "lightdm     1302    1285  0 Feb14 ?        00:00:00 /usr/bin/dbus-daemon --sessi\n",
      "lightdm     1318    1285  0 Feb14 ?        00:00:00 /usr/libexec/at-spi-bus-laun\n",
      "lightdm     1323    1318  0 Feb14 ?        00:00:00 /usr/bin/dbus-daemon --confi\n",
      "lightdm     1327    1285  0 Feb14 ?        00:00:00 /usr/libexec/gvfsd\n",
      "lightdm     1344    1285  0 Feb14 ?        00:00:00 /usr/libexec/at-spi2-registr\n",
      "root        1352     566  0 Feb14 ?        00:00:00 lightdm --session-child 17 2\n",
      "pi          1411     388  0 Feb14 pts/0    00:00:00 /bin/bash -l\n",
      "pi          1413     388  0 Feb14 pts/1    00:00:00 /bin/bash -l\n",
      "pi          5467    1040  0 Feb14 ?        00:00:00 [gunicorn] <defunct>\n",
      "pi         20357     388  0 Feb15 ?        00:00:56 /home/pi/env/bin/python -m i\n",
      "pi         20458     388  0 Feb15 pts/2    00:00:00 /bin/bash -l\n",
      "pi         20818     388  0 Feb15 ?        00:00:56 /home/pi/env/bin/python -m i\n",
      "pi         20842     388  0 Feb15 ?        00:01:12 /home/pi/env/bin/python -m i\n",
      "root       21944       2  0 Feb15 ?        00:00:03 [kworker/3:0H-kblockd]\n",
      "pi         23112     388  0 Feb15 ?        00:00:56 /home/pi/env/bin/python -m i\n",
      "pi         24195     388  0 Feb15 ?        00:01:01 /home/pi/env/bin/python -m i\n",
      "pi         24217     388  0 Feb15 ?        00:00:55 /home/pi/env/bin/python -m i\n",
      "pi         25152     388  0 Feb15 ?        00:00:57 /home/pi/env/bin/python -m i\n",
      "pi         81437     388  0 Feb19 ?        00:00:24 /home/pi/env/bin/python -m i\n",
      "pi         81523     388  0 Feb19 ?        00:00:19 /home/pi/env/bin/python -m i\n",
      "root       83080       2  0 Feb19 ?        00:00:00 [kworker/1:0H-kblockd]\n",
      "root       91299       1  0 00:00 ?        00:00:00 /usr/sbin/cupsd -l\n",
      "root       91304       1  0 00:00 ?        00:00:00 /usr/sbin/cups-browsed\n",
      "root       91684       2  0 00:36 ?        00:00:03 [kworker/3:2-events_power_ef\n",
      "pi         98449     388  0 11:11 pts/3    00:00:00 /bin/bash -l\n",
      "pi         98728     388  0 11:34 ?        00:00:04 /home/pi/env/bin/python -m i\n",
      "root       98862       2  0 11:40 ?        00:00:01 [kworker/1:1-events]\n",
      "root      100105       2  0 13:37 ?        00:00:00 [kworker/u8:2-events_unbound\n",
      "root      100211       2  0 13:47 ?        00:00:00 [kworker/2:2-mm_percpu_wq]\n",
      "root      100220       2  0 13:48 ?        00:00:00 [kworker/3:1-events]\n",
      "pi        100346     388  0 13:57 ?        00:00:04 /home/pi/env/bin/python -m i\n",
      "pi        100511     388  0 14:04 ?        00:00:05 /home/pi/env/bin/python -m i\n",
      "root      100531       2  0 14:04 ?        00:00:01 [kworker/0:3-events]\n",
      "root      100614       2  0 14:08 ?        00:00:00 [kworker/1:2]\n",
      "root      100644       2  0 14:09 ?        00:00:00 [kworker/3:2H]\n",
      "root      100675       2  0 14:10 ?        00:00:00 [kworker/0:1H]\n",
      "root      100711       2  0 14:12 ?        00:00:00 [kworker/2:2H]\n",
      "root      100769       2  0 14:14 ?        00:00:00 [kworker/2:0-mm_percpu_wq]\n",
      "root      100777       2  0 14:14 ?        00:00:00 [kworker/1:2H]\n",
      "root      100791       2  0 14:15 ?        00:00:00 [kworker/u8:1-events_unbound\n",
      "root      100806       2  0 14:16 ?        00:00:00 [kworker/0:1-mm_percpu_wq]\n",
      "root      100869       2  0 14:20 ?        00:00:00 [kworker/2:1-events]\n",
      "root      100884       2  0 14:21 ?        00:00:00 [kworker/u8:0]\n",
      "root      100885       2  0 14:21 ?        00:00:00 [kworker/3:1H]\n",
      "root      100895       2  0 14:22 ?        00:00:00 [kworker/0:0-events]\n",
      "pi        100907     388  2 14:22 ?        00:00:02 /home/pi/env/bin/python -m i\n",
      "root      100938       2  0 14:23 ?        00:00:00 [kworker/3:0]\n",
      "pi        101000  100907  0 14:24 pts/4    00:00:00 ps -ef\n"
     ]
    }
   ],
   "source": [
    "!ps -ef "
   ]
  },
  {
   "cell_type": "markdown",
   "id": "b9076a2d-3fb0-42ee-9b6a-bc3b1ca62616",
   "metadata": {},
   "source": [
    "### Filter the process that match donkey car command"
   ]
  },
  {
   "cell_type": "markdown",
   "id": "df2599ea-6fd7-4847-8283-787c02cad160",
   "metadata": {},
   "source": [
    "We use the operator `| (pipe)` to redirect the input to another command called `grep`, which could be used to filter and match some text. Obviously, we are looking for the donkey car command therefore searching for `python manage.py drive` is a good idea."
   ]
  },
  {
   "cell_type": "code",
   "execution_count": 26,
   "id": "d1a41353-3c4a-4bd3-9273-312ced4bcc30",
   "metadata": {},
   "outputs": [
    {
     "name": "stdout",
     "output_type": "stream",
     "text": [
      "pi         26298    1040 32 19:57 ?        00:01:07 /home/pi/env/bin/python /home/pi/mycar/manage.py drive\n",
      "pi         26433   25152  0 20:01 pts/4    00:00:00 /bin/bash -c ps -ef  | grep \"manage.py drive\"\n",
      "pi         26436   26433  0 20:01 pts/4    00:00:00 grep manage.py drive\n"
     ]
    }
   ],
   "source": [
    "!ps -ef  | grep \"manage.py drive\""
   ]
  },
  {
   "cell_type": "markdown",
   "id": "f1ee689e-2025-4832-83dc-b4fb8d937177",
   "metadata": {},
   "source": [
    "The second column is the process id. "
   ]
  },
  {
   "cell_type": "markdown",
   "id": "27d86051-97ba-4871-b9a0-98ac888bc3a0",
   "metadata": {},
   "source": [
    "### Filter out grep itself"
   ]
  },
  {
   "cell_type": "markdown",
   "id": "cb8d9a94-293b-4aa4-b1a1-97215568088b",
   "metadata": {},
   "source": [
    "Interestingly, the system also show the process of `ps` and `grep`. We want to filter them out.\n",
    "\n",
    "We use grep -v grep to exclude the result containing grep"
   ]
  },
  {
   "cell_type": "code",
   "execution_count": 27,
   "id": "de90c1a5-4914-485e-be73-062eafb1a4be",
   "metadata": {},
   "outputs": [
    {
     "name": "stdout",
     "output_type": "stream",
     "text": [
      "pi         26298    1040 32 19:57 ?        00:01:09 /home/pi/env/bin/python /home/pi/mycar/manage.py drive\n"
     ]
    }
   ],
   "source": [
    "!ps -ef | grep -ie  \"manage.py drive\" | grep -v grep"
   ]
  },
  {
   "cell_type": "markdown",
   "id": "d0724225-28c6-4211-b29e-9b75eff663da",
   "metadata": {},
   "source": [
    "### Kill the donkey car drive by process id"
   ]
  },
  {
   "cell_type": "markdown",
   "id": "509434c5-182f-4440-b0a3-48b93fc3fb1f",
   "metadata": {},
   "source": [
    "Since you have found the process id, fill in the process id below and kill the process"
   ]
  },
  {
   "cell_type": "code",
   "execution_count": 10,
   "id": "1c56c39d-2688-4c59-974b-3ef084dbf7a4",
   "metadata": {},
   "outputs": [
    {
     "name": "stdout",
     "output_type": "stream",
     "text": [
      "/bin/bash: -c: line 1: syntax error near unexpected token `newline'\n",
      "/bin/bash: -c: line 1: `kill <pid>'\n"
     ]
    }
   ],
   "source": [
    "!kill <pid>"
   ]
  },
  {
   "cell_type": "markdown",
   "id": "3022072e-e6c5-4510-a714-46e37294a372",
   "metadata": {},
   "source": [
    "## Bonus: Automation"
   ]
  },
  {
   "cell_type": "markdown",
   "id": "1dac4a08-c01f-48c0-a12d-8b334a7b78a8",
   "metadata": {},
   "source": [
    "Let's automate the killing. Use `awk` to output the 2nd column"
   ]
  },
  {
   "cell_type": "code",
   "execution_count": 28,
   "id": "900a5744-6d07-4042-bc30-bcf738a686f5",
   "metadata": {},
   "outputs": [
    {
     "name": "stdout",
     "output_type": "stream",
     "text": [
      "26298\n"
     ]
    }
   ],
   "source": [
    "!ps -ef | grep -ie  \"manage.py drive\" | grep -v grep | awk '{print $2}'"
   ]
  },
  {
   "cell_type": "markdown",
   "id": "0b2b6129-4428-4680-b613-2bd20cc1c507",
   "metadata": {},
   "source": [
    "Use xargs to kill the output of awk"
   ]
  },
  {
   "cell_type": "code",
   "execution_count": 14,
   "id": "dc391a8e-1d29-4c79-a694-bcad0c5cad53",
   "metadata": {},
   "outputs": [
    {
     "name": "stdout",
     "output_type": "stream",
     "text": [
      "kill: (25519): No such process\n"
     ]
    }
   ],
   "source": [
    "!ps -ef | grep -ie  \"manage.py drive\" | grep -v grep | awk '{print $2}' |  xargs kill -9 "
   ]
  }
 ],
 "metadata": {
  "kernelspec": {
   "display_name": "Python 3 (ipykernel)",
   "language": "python",
   "name": "python3"
  },
  "language_info": {
   "codemirror_mode": {
    "name": "ipython",
    "version": 3
   },
   "file_extension": ".py",
   "mimetype": "text/x-python",
   "name": "python",
   "nbconvert_exporter": "python",
   "pygments_lexer": "ipython3",
   "version": "3.9.2"
  }
 },
 "nbformat": 4,
 "nbformat_minor": 5
}
