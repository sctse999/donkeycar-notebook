{
 "cells": [
  {
   "cell_type": "markdown",
   "id": "0e98a5f4-4ea4-4b99-9c95-0cc39cee0f16",
   "metadata": {},
   "source": [
    "# Killing Stale Process"
   ]
  },
  {
   "cell_type": "markdown",
   "id": "e4ae482a-d22c-4960-8558-1efbcf0473bc",
   "metadata": {},
   "source": [
    "## Background\n",
    "Sometimes the donkey car is still running after the app is closed. Sometimes the car is stuck and we called this a stale process. You want kill the donkey car program so that you can start recording again. "
   ]
  },
  {
   "cell_type": "markdown",
   "id": "1d013b3c-85d8-47c0-be9c-d2852d2b7963",
   "metadata": {},
   "source": [
    "## TLDR\n",
    "\n",
    "Execute the cell below to kill the donkey car drive command. Make sure you stop your car first. The car may run away without you being able to control it. "
   ]
  },
  {
   "cell_type": "code",
   "execution_count": 29,
   "id": "b41fc4c2-f14e-4b92-bb12-ebd02f2a51a8",
   "metadata": {},
   "outputs": [],
   "source": [
    "!ps -ef | grep -ie  \"manage.py drive\" | grep -v grep | awk '{print $2}' |  xargs kill -9 "
   ]
  },
  {
   "cell_type": "markdown",
   "id": "981f22ba-08e0-4eec-9a3f-a12fb2092d1c",
   "metadata": {},
   "source": [
    "## Detailed explanation"
   ]
  },
  {
   "cell_type": "markdown",
   "id": "8785e880-b1c9-4d95-b298-20fa0986a843",
   "metadata": {},
   "source": [
    "### The kill command"
   ]
  },
  {
   "cell_type": "markdown",
   "id": "1a3cc8a1-c54b-4768-938b-78e9e035ad16",
   "metadata": {},
   "source": [
    "The kill command can be used to kill process with a process id. Run the following cell to kill an imaginery process with process id `99999999` . Normally, it will report that there is no such process. \n",
    "\n",
    "the `-9` parameter means kill immediately"
   ]
  },
  {
   "cell_type": "code",
   "execution_count": 7,
   "id": "35510088-825d-42f2-a633-1c05d184215a",
   "metadata": {},
   "outputs": [
    {
     "name": "stdout",
     "output_type": "stream",
     "text": [
      "/bin/bash: line 1: kill: (999999) - No such process\n"
     ]
    }
   ],
   "source": [
    "!kill -9 99999999"
   ]
  },
  {
   "cell_type": "markdown",
   "id": "a52c2591-a515-4c70-b5f3-2fc1a2f9a543",
   "metadata": {},
   "source": [
    "In order to kill the stale donkey car process, we need to know the process id. "
   ]
  },
  {
   "cell_type": "markdown",
   "id": "d7406cb5-5b79-4645-85d6-ad570cdc303b",
   "metadata": {},
   "source": [
    "### Getting the process id"
   ]
  },
  {
   "cell_type": "markdown",
   "id": "3373845a-1668-48e4-80bb-0c8457f20aba",
   "metadata": {},
   "source": [
    "The `ps` command list all the process currently running in the system"
   ]
  },
  {
   "cell_type": "code",
   "execution_count": 4,
   "id": "6712c9e1-639a-4eda-9571-1fb51907bc34",
   "metadata": {},
   "outputs": [],
   "source": [
    "!ps -ef "
   ]
  },
  {
   "cell_type": "markdown",
   "id": "b9076a2d-3fb0-42ee-9b6a-bc3b1ca62616",
   "metadata": {},
   "source": [
    "### Filter the process that match donkey car command"
   ]
  },
  {
   "cell_type": "markdown",
   "id": "df2599ea-6fd7-4847-8283-787c02cad160",
   "metadata": {},
   "source": [
    "We use the operator `| (pipe)` to redirect the input to another command called `grep`, which could be used to filter and match some text. Obviously, we are looking for the donkey car command therefore searching for `python manage.py drive` is a good idea."
   ]
  },
  {
   "cell_type": "code",
   "execution_count": 26,
   "id": "d1a41353-3c4a-4bd3-9273-312ced4bcc30",
   "metadata": {},
   "outputs": [
    {
     "name": "stdout",
     "output_type": "stream",
     "text": [
      "pi         26298    1040 32 19:57 ?        00:01:07 /home/pi/env/bin/python /home/pi/mycar/manage.py drive\n",
      "pi         26433   25152  0 20:01 pts/4    00:00:00 /bin/bash -c ps -ef  | grep \"manage.py drive\"\n",
      "pi         26436   26433  0 20:01 pts/4    00:00:00 grep manage.py drive\n"
     ]
    }
   ],
   "source": [
    "!ps -ef  | grep \"manage.py drive\""
   ]
  },
  {
   "cell_type": "markdown",
   "id": "f1ee689e-2025-4832-83dc-b4fb8d937177",
   "metadata": {},
   "source": [
    "The second column is the process id. "
   ]
  },
  {
   "cell_type": "markdown",
   "id": "27d86051-97ba-4871-b9a0-98ac888bc3a0",
   "metadata": {},
   "source": [
    "### Filter out grep itself"
   ]
  },
  {
   "cell_type": "markdown",
   "id": "cb8d9a94-293b-4aa4-b1a1-97215568088b",
   "metadata": {},
   "source": [
    "Interestingly, the system also show the process of `ps` and `grep`. We want to filter them out.\n",
    "\n",
    "We use grep -v grep to exclude the result containing grep"
   ]
  },
  {
   "cell_type": "code",
   "execution_count": 27,
   "id": "de90c1a5-4914-485e-be73-062eafb1a4be",
   "metadata": {},
   "outputs": [
    {
     "name": "stdout",
     "output_type": "stream",
     "text": [
      "pi         26298    1040 32 19:57 ?        00:01:09 /home/pi/env/bin/python /home/pi/mycar/manage.py drive\n"
     ]
    }
   ],
   "source": [
    "!ps -ef | grep -ie  \"manage.py drive\" | grep -v grep"
   ]
  },
  {
   "cell_type": "markdown",
   "id": "d0724225-28c6-4211-b29e-9b75eff663da",
   "metadata": {},
   "source": [
    "### Kill the donkey car drive by process id"
   ]
  },
  {
   "cell_type": "markdown",
   "id": "509434c5-182f-4440-b0a3-48b93fc3fb1f",
   "metadata": {},
   "source": [
    "Since you have found the process id, fill in the process id below and kill the process"
   ]
  },
  {
   "cell_type": "code",
   "execution_count": 10,
   "id": "1c56c39d-2688-4c59-974b-3ef084dbf7a4",
   "metadata": {},
   "outputs": [
    {
     "name": "stdout",
     "output_type": "stream",
     "text": [
      "/bin/bash: -c: line 1: syntax error near unexpected token `newline'\n",
      "/bin/bash: -c: line 1: `kill <pid>'\n"
     ]
    }
   ],
   "source": [
    "!kill <pid>"
   ]
  },
  {
   "cell_type": "markdown",
   "id": "3022072e-e6c5-4510-a714-46e37294a372",
   "metadata": {},
   "source": [
    "## Bonus: Automation"
   ]
  },
  {
   "cell_type": "markdown",
   "id": "1dac4a08-c01f-48c0-a12d-8b334a7b78a8",
   "metadata": {},
   "source": [
    "Let's automate the killing. Use `awk` to output the 2nd column"
   ]
  },
  {
   "cell_type": "code",
   "execution_count": 28,
   "id": "900a5744-6d07-4042-bc30-bcf738a686f5",
   "metadata": {},
   "outputs": [
    {
     "name": "stdout",
     "output_type": "stream",
     "text": [
      "26298\n"
     ]
    }
   ],
   "source": [
    "!ps -ef | grep -ie  \"manage.py drive\" | grep -v grep | awk '{print $2}'"
   ]
  },
  {
   "cell_type": "markdown",
   "id": "0b2b6129-4428-4680-b613-2bd20cc1c507",
   "metadata": {},
   "source": [
    "Use xargs to kill the output of awk"
   ]
  },
  {
   "cell_type": "code",
   "execution_count": 14,
   "id": "dc391a8e-1d29-4c79-a694-bcad0c5cad53",
   "metadata": {},
   "outputs": [
    {
     "name": "stdout",
     "output_type": "stream",
     "text": [
      "kill: (25519): No such process\n"
     ]
    }
   ],
   "source": [
    "!ps -ef | grep -ie  \"manage.py drive\" | grep -v grep | awk '{print $2}' |  xargs kill -9 "
   ]
  }
 ],
 "metadata": {
  "kernelspec": {
   "display_name": "Python 3 (ipykernel)",
   "language": "python",
   "name": "python3"
  },
  "language_info": {
   "codemirror_mode": {
    "name": "ipython",
    "version": 3
   },
   "file_extension": ".py",
   "mimetype": "text/x-python",
   "name": "python",
   "nbconvert_exporter": "python",
   "pygments_lexer": "ipython3",
   "version": "3.9.2"
  }
 },
 "nbformat": 4,
 "nbformat_minor": 5
}
