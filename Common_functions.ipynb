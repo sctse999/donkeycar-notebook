{
 "cells": [
  {
   "cell_type": "code",
   "execution_count": 12,
   "id": "dbedfd03-db49-4308-82b4-0b9407c640d5",
   "metadata": {},
   "outputs": [],
   "source": [
    "if not data_path:\n",
    "    \n",
    "    data_path = \"/home/pi/mycar/data\"\n",
    "    print(f\"data_path default to {data_path}\")\n"
   ]
  },
  {
   "cell_type": "code",
   "execution_count": 18,
   "id": "dbef9778-56eb-42ee-bc9e-00f7322d8a85",
   "metadata": {},
   "outputs": [],
   "source": [
    "from os import listdir\n",
    "import json\n",
    "import logging\n",
    "from pathlib import Path\n",
    "import os"
   ]
  },
  {
   "cell_type": "markdown",
   "id": "db91a14b-c3f7-463e-bab5-28a20de37e2b",
   "metadata": {},
   "source": [
    "## Turn on Debugging"
   ]
  },
  {
   "cell_type": "code",
   "execution_count": 28,
   "id": "905a034c-12d4-47a2-a45c-2ad7af9a7d62",
   "metadata": {},
   "outputs": [],
   "source": [
    "logging.basicConfig(format='%(levelname)s:%(message)s', level=logging.INFO)\n",
    "# logging.basicConfig(format='%(levelname)s:%(message)s', level=logging.DEBUG)"
   ]
  },
  {
   "cell_type": "code",
   "execution_count": 20,
   "id": "c6d72c95-807d-4676-a7c3-c9a8aa17a6ab",
   "metadata": {},
   "outputs": [],
   "source": [
    "def find_all_tubs():\n",
    "    tubs = [d for d in listdir(data_path)]\n",
    "    print(f\"No of tubs found = {len(tubs)}\")\n",
    "    tubs.sort()\n",
    "    return tubs\n",
    "\n",
    "\n",
    "# paths = sorted(Path(data_path).iterdir(), key=os.path.getmtime)\n",
    "# print(paths)"
   ]
  },
  {
   "cell_type": "code",
   "execution_count": null,
   "id": "39eabcd0-b2d3-430d-8be1-a41443173d3e",
   "metadata": {},
   "outputs": [],
   "source": [
    "print(\"find_all_tubs loaded\")"
   ]
  },
  {
   "cell_type": "code",
   "execution_count": 3,
   "id": "cf511910-70ae-4c74-8b7e-efaa7ddcb848",
   "metadata": {},
   "outputs": [],
   "source": [
    "def image_count(tub_name):\n",
    "    try:\n",
    "        image_count = len(listdir(f\"{data_path}/{tub}/images\"))\n",
    "    except:\n",
    "        print(f\"Warning: cannot find tub {tub_name}\")\n",
    "        image_count = -1\n",
    "    return image_count"
   ]
  },
  {
   "cell_type": "code",
   "execution_count": null,
   "id": "756559a0-ece0-47a4-aea9-6e4f10020a27",
   "metadata": {},
   "outputs": [],
   "source": [
    "print(\"image_count loaded\")"
   ]
  },
  {
   "cell_type": "code",
   "execution_count": 29,
   "id": "365d91e2-8f2a-4516-aa23-e1f35e03fff3",
   "metadata": {},
   "outputs": [],
   "source": [
    "def get_tub_uuid(tub_name):    \n",
    "    tub_path = f\"{data_path}/{tub_name}\"\n",
    "    meta_path = f\"{tub_path}/meta.json\"\n",
    "    \n",
    "    logging.debug(f\"Opening {meta_path}\")\n",
    "\n",
    "    # Opening JSON file\n",
    "    try:        \n",
    "        f = open(meta_path)\n",
    "        data = json.load(f)\n",
    "    \n",
    "        logging.debug(data)\n",
    "    \n",
    "        if 'uuid' in data:\n",
    "            return(data['uuid'])\n",
    "        else:\n",
    "            return None\n",
    "    except:\n",
    "        logger.warn(f\"tub {tub_name} not found\")\n",
    "\n",
    "    "
   ]
  },
  {
   "cell_type": "code",
   "execution_count": 24,
   "id": "3277f0fa-a221-4480-90a2-add5e079f10a",
   "metadata": {},
   "outputs": [
    {
     "name": "stdout",
     "output_type": "stream",
     "text": [
      "get_tub_uuid loaded\n"
     ]
    }
   ],
   "source": [
    "print(\"get_tub_uuid loaded\")"
   ]
  }
 ],
 "metadata": {
  "kernelspec": {
   "display_name": "Python 3 (ipykernel)",
   "language": "python",
   "name": "python3"
  },
  "language_info": {
   "codemirror_mode": {
    "name": "ipython",
    "version": 3
   },
   "file_extension": ".py",
   "mimetype": "text/x-python",
   "name": "python",
   "nbconvert_exporter": "python",
   "pygments_lexer": "ipython3",
   "version": "3.9.2"
  }
 },
 "nbformat": 4,
 "nbformat_minor": 5
}
