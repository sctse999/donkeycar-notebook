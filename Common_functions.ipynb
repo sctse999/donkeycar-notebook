{
 "cells": [
  {
   "cell_type": "markdown",
   "id": "abe269b1-7cb0-47d5-83f3-0e8f836ca343",
   "metadata": {},
   "source": [
    "## Install libraries"
   ]
  },
  {
   "cell_type": "code",
   "execution_count": 2,
   "id": "dbedfd03-db49-4308-82b4-0b9407c640d5",
   "metadata": {},
   "outputs": [
    {
     "name": "stdout",
     "output_type": "stream",
     "text": [
      "data_path default to /home/pi/mycar/data\n"
     ]
    },
    {
     "data": {
      "text/plain": [
       "'/home/pi/mycar/data'"
      ]
     },
     "execution_count": 2,
     "metadata": {},
     "output_type": "execute_result"
    }
   ],
   "source": [
    "# if not data_path:\n",
    "\n",
    "try:\n",
    "    data_path\n",
    "except:\n",
    "    data_path = \"/home/pi/mycar/data\"\n",
    "    print(f\"data_path default to {data_path}\")\n",
    "\n",
    "data_path"
   ]
  },
  {
   "cell_type": "code",
   "execution_count": 3,
   "id": "dbef9778-56eb-42ee-bc9e-00f7322d8a85",
   "metadata": {},
   "outputs": [],
   "source": [
    "from os import listdir\n",
    "import json\n",
    "import logging\n",
    "from pathlib import Path\n",
    "import os"
   ]
  },
  {
   "cell_type": "markdown",
   "id": "db91a14b-c3f7-463e-bab5-28a20de37e2b",
   "metadata": {},
   "source": [
    "## Turn on Debugging"
   ]
  },
  {
   "cell_type": "code",
   "execution_count": 4,
   "id": "905a034c-12d4-47a2-a45c-2ad7af9a7d62",
   "metadata": {},
   "outputs": [],
   "source": [
    "logging.basicConfig(format='%(levelname)s:%(message)s', level=logging.INFO)"
   ]
  },
  {
   "cell_type": "code",
   "execution_count": 13,
   "id": "c6d72c95-807d-4676-a7c3-c9a8aa17a6ab",
   "metadata": {},
   "outputs": [
    {
     "name": "stdout",
     "output_type": "stream",
     "text": [
      "['red_line_tub', 'tub_11_19-12-09', 'tub_15_19-12-09', 'tub_1_20-01-16', 'tub_3_19-12-19', 'tub_48_19-12-10', 'tub_49_19-12-10']\n"
     ]
    }
   ],
   "source": [
    "def find_all_tubs():\n",
    "    tubs = [d for d in os.listdir(data_path) if os.path.isdir(os.path.join(data_path, d))]\n",
    "    tubs.sort()\n",
    "    return tubs\n",
    "\n",
    "\n",
    "# print(find_all_tubs())\n",
    "# paths = sorted(Path(data_path).iterdir(), key=os.path.getmtime)\n",
    "# print(paths)"
   ]
  },
  {
   "cell_type": "code",
   "execution_count": 6,
   "id": "39eabcd0-b2d3-430d-8be1-a41443173d3e",
   "metadata": {},
   "outputs": [
    {
     "name": "stdout",
     "output_type": "stream",
     "text": [
      "find_all_tubs loaded\n"
     ]
    }
   ],
   "source": [
    "print(\"find_all_tubs loaded\")"
   ]
  },
  {
   "cell_type": "code",
   "execution_count": 7,
   "id": "cf511910-70ae-4c74-8b7e-efaa7ddcb848",
   "metadata": {},
   "outputs": [],
   "source": [
    "def image_count(tub_name):\n",
    "    try:\n",
    "        path = f\"{data_path}/{tub_name}/images\"\n",
    "        image_count = len(listdir(path))\n",
    "    except:\n",
    "        print(f\"Warning: cannot find tub {tub_name}\")\n",
    "        image_count = -1\n",
    "    return image_count"
   ]
  },
  {
   "cell_type": "code",
   "execution_count": 8,
   "id": "756559a0-ece0-47a4-aea9-6e4f10020a27",
   "metadata": {},
   "outputs": [
    {
     "name": "stdout",
     "output_type": "stream",
     "text": [
      "image_count loaded\n"
     ]
    }
   ],
   "source": [
    "print(\"image_count loaded\")"
   ]
  },
  {
   "cell_type": "code",
   "execution_count": 9,
   "id": "365d91e2-8f2a-4516-aa23-e1f35e03fff3",
   "metadata": {},
   "outputs": [],
   "source": [
    "def get_tub_uuid(tub_name):    \n",
    "    tub_path = f\"{data_path}/{tub_name}\"\n",
    "    meta_path = f\"{tub_path}/meta.json\"\n",
    "    \n",
    "    logging.info(f\"Opening {meta_path}\")\n",
    "\n",
    "    # Opening JSON file\n",
    "    try:        \n",
    "        f = open(meta_path)\n",
    "        data = json.load(f)\n",
    "    \n",
    "        logging.debug(data)\n",
    "    \n",
    "        if 'uuid' in data:\n",
    "            return(data['uuid'])\n",
    "        else:\n",
    "            return None\n",
    "    except:\n",
    "        logging.warn(f\"tub {tub_name} not found\")\n",
    "\n",
    "    "
   ]
  },
  {
   "cell_type": "code",
   "execution_count": 10,
   "id": "3277f0fa-a221-4480-90a2-add5e079f10a",
   "metadata": {},
   "outputs": [
    {
     "name": "stdout",
     "output_type": "stream",
     "text": [
      "get_tub_uuid loaded\n"
     ]
    }
   ],
   "source": [
    "print(\"get_tub_uuid loaded\")"
   ]
  },
  {
   "cell_type": "code",
   "execution_count": 11,
   "id": "93fed8e1-d6fc-48a0-b47d-aa60d8f68fb3",
   "metadata": {},
   "outputs": [],
   "source": [
    "def print_tubs(tubs, show_each_tub=False):\n",
    "    if show_each_tub is True:\n",
    "        print(f\"{'Tub': <19}  {'Image count': <20} {'UUID': <40}\")\n",
    "        \n",
    "        for tub in tubs:\n",
    "            print(f\"{tub: <20} {image_count(tub): <20} {get_tub_uuid(tub)}\")\n",
    "    \n",
    "    print(f\"No of tubs = {len(tubs)}\")"
   ]
  },
  {
   "cell_type": "code",
   "execution_count": 12,
   "id": "9308b6f9-7739-4728-a7d7-1ba34918355c",
   "metadata": {},
   "outputs": [
    {
     "name": "stdout",
     "output_type": "stream",
     "text": [
      "print_tubs loaded\n"
     ]
    }
   ],
   "source": [
    "print(\"print_tubs loaded\")"
   ]
  }
 ],
 "metadata": {
  "kernelspec": {
   "display_name": "Python 3 (ipykernel)",
   "language": "python",
   "name": "python3"
  },
  "language_info": {
   "codemirror_mode": {
    "name": "ipython",
    "version": 3
   },
   "file_extension": ".py",
   "mimetype": "text/x-python",
   "name": "python",
   "nbconvert_exporter": "python",
   "pygments_lexer": "ipython3",
   "version": "3.9.19"
  }
 },
 "nbformat": 4,
 "nbformat_minor": 5
}
