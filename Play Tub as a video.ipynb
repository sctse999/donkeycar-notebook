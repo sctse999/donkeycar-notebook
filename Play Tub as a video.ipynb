{
 "cells": [
  {
   "cell_type": "markdown",
   "id": "8013de99-d79c-4fce-8282-dd73b941ea5f",
   "metadata": {},
   "source": [
    "# Getting the UUID of your tub"
   ]
  },
  {
   "cell_type": "markdown",
   "id": "803f19ba-4625-4d68-85b9-60ee0d24d3fb",
   "metadata": {},
   "source": [
    "UUID of the tub could be used for colab training. You can use the code samples below to retreive the UUID of the tub."
   ]
  },
  {
   "cell_type": "code",
   "execution_count": 1,
   "id": "031dfb7b-949c-483f-b6cd-094281e16119",
   "metadata": {
    "scrolled": true
   },
   "outputs": [
    {
     "name": "stdout",
     "output_type": "stream",
     "text": [
      "data_path default to /home/pi/mycar/data\n",
      "find_all_tubs loaded\n",
      "image_count loaded\n",
      "get_tub_uuid loaded\n",
      "print_tubs loaded\n"
     ]
    }
   ],
   "source": [
    "%run Common_functions.ipynb\n",
    "%run functions_donkey_video.ipynb\n"
   ]
  },
  {
   "cell_type": "markdown",
   "id": "9b049e6a-f040-40ae-a496-1fe2fd048ac6",
   "metadata": {},
   "source": [
    "## Turn on debugging log if needed"
   ]
  },
  {
   "cell_type": "code",
   "execution_count": 2,
   "id": "6a68479f-88b9-4b7c-bfbe-24ea964eebca",
   "metadata": {},
   "outputs": [],
   "source": [
    "logging.basicConfig(format='%(levelname)s:%(message)s', level=logging.DEBUG)"
   ]
  },
  {
   "cell_type": "markdown",
   "id": "207a916d-0ba7-4d3c-b063-5fd26bf58846",
   "metadata": {},
   "source": [
    "## Vehicle path\n"
   ]
  },
  {
   "cell_type": "code",
   "execution_count": 3,
   "id": "0b676f2c-622b-423e-8e28-1074e07b9bde",
   "metadata": {},
   "outputs": [],
   "source": [
    "mycar_path = \"/home/jonathantse/mycar\"\n",
    "data_path = os.path.join(mycar_path, 'data')\n",
    "tub_path = os.path.join(data_path, 'red_line_tub')"
   ]
  },
  {
   "cell_type": "markdown",
   "id": "85cfbe79-79ad-4d3e-9715-bcadaf3cf966",
   "metadata": {},
   "source": [
    "## Play the tub as a video"
   ]
  },
  {
   "cell_type": "code",
   "execution_count": 4,
   "id": "f0118b2e-097a-474b-9871-57a73982e8b4",
   "metadata": {},
   "outputs": [],
   "source": [
    "# this frame_process does nothing for now, just returning the frame\n",
    "\n",
    "def frame_process(frame, filename):\n",
    "    resize_multiplier = 4\n",
    "    frame = cv2.resize(frame, (int(frame.shape[1] * resize_multiplier), int(frame.shape[0] * resize_multiplier)))\n",
    "\n",
    "    putText(frame, f\"{natural_sort_key(filename)[1]}\")\n",
    "    \n",
    "    return frame"
   ]
  },
  {
   "cell_type": "code",
   "execution_count": 5,
   "id": "43e4daca-6893-456a-921e-7169d0cbf84c",
   "metadata": {},
   "outputs": [
    {
     "data": {
      "application/vnd.jupyter.widget-view+json": {
       "model_id": "adc2ca1235ee4fcea6ce0c51ccb0f082",
       "version_major": 2,
       "version_minor": 0
      },
      "text/plain": [
       "ToggleButton(value=False, button_style='danger', description='Stop', icon='square', tooltip='Description')"
      ]
     },
     "metadata": {},
     "output_type": "display_data"
    },
    {
     "data": {
      "text/plain": [
       "None"
      ]
     },
     "metadata": {},
     "output_type": "display_data"
    }
   ],
   "source": [
    "display(stopButton)\n",
    "thread = threading.Thread(target=view, args=(stopButton, tub_path, 0, frame_process))\n",
    "thread.start()"
   ]
  },
  {
   "cell_type": "code",
   "execution_count": null,
   "id": "00ab12b8-f16e-4df0-803b-0bf8772bccff",
   "metadata": {},
   "outputs": [],
   "source": [
    "## Detect red line"
   ]
  }
 ],
 "metadata": {
  "kernelspec": {
   "display_name": "Python 3 (ipykernel)",
   "language": "python",
   "name": "python3"
  },
  "language_info": {
   "codemirror_mode": {
    "name": "ipython",
    "version": 3
   },
   "file_extension": ".py",
   "mimetype": "text/x-python",
   "name": "python",
   "nbconvert_exporter": "python",
   "pygments_lexer": "ipython3",
   "version": "3.9.19"
  }
 },
 "nbformat": 4,
 "nbformat_minor": 5
}
