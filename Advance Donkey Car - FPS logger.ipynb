{
 "cells": [
  {
   "cell_type": "markdown",
   "id": "ed4e9546-4665-40a3-a04d-d19b6743c053",
   "metadata": {},
   "source": [
    "# Donkey Car FPS Logger"
   ]
  },
  {
   "cell_type": "markdown",
   "id": "4943d0d3-155b-458a-9b51-e882585bfb8b",
   "metadata": {},
   "source": [
    "## Frame per second logger\n",
    "\n",
    "What does a frame per second do? It simply means that how many times we have run within one second.\n",
    "\n",
    "Consider the Hello World program and the `rate_hz` parameter, is it possible to output 10,000 lines of `Hello World` if you have set `rate_hz` to 10,000?\n",
    "\n",
    "Let's try"
   ]
  },
  {
   "cell_type": "code",
   "execution_count": null,
   "id": "e0769342-6812-4654-a369-4100942dfaea",
   "metadata": {},
   "outputs": [],
   "source": [
    "import donkeycar as dk\n",
    "\n",
    "class HelloWorld:\n",
    "    def __init__(self):\n",
    "        pass\n",
    "        \n",
    "    def run(self):\n",
    "       print(f\"Hello World\" )\n",
    "\n",
    "V = dk.vehicle.Vehicle()\n",
    "\n",
    "V.add(HelloWorld())\n",
    "\n",
    "V.start(rate_hz=10000)"
   ]
  },
  {
   "cell_type": "markdown",
   "id": "a0d26940-2e89-4742-bf61-2af47f7b51c5",
   "metadata": {},
   "source": [
    "Do you think it is really running at 10,000 times per second?\n",
    "\n",
    "Obviously not. How do we know exactly how much time it has run? Let's write a program"
   ]
  },
  {
   "cell_type": "markdown",
   "id": "7dc1bbae-c0cd-4b95-a9eb-47d6fd12e16a",
   "metadata": {},
   "source": [
    "Let's introduce an important library first. It is called `time`"
   ]
  },
  {
   "cell_type": "code",
   "execution_count": 2,
   "id": "0e3b53eb-9c80-4adb-bd36-d48153a42483",
   "metadata": {},
   "outputs": [],
   "source": [
    "import time"
   ]
  },
  {
   "cell_type": "markdown",
   "id": "ecc0d46a-6b30-4c81-b7f4-e3cc21348e9a",
   "metadata": {},
   "source": [
    "It has a function called `time()` which return a timestamp. Google what a timestamp is."
   ]
  },
  {
   "cell_type": "code",
   "execution_count": 3,
   "id": "b238910d-0e30-4d15-bade-4a8b8d91bc68",
   "metadata": {},
   "outputs": [
    {
     "data": {
      "text/plain": [
       "1706857572.5038633"
      ]
     },
     "execution_count": 3,
     "metadata": {},
     "output_type": "execute_result"
    }
   ],
   "source": [
    "time.time()"
   ]
  },
  {
   "cell_type": "markdown",
   "id": "d918c964-3bce-4082-8676-ca9668feadc1",
   "metadata": {},
   "source": [
    "## Challenge\n",
    "\n",
    "Now, use the following scaffold and write a program to calculate the fps"
   ]
  },
  {
   "cell_type": "code",
   "execution_count": null,
   "id": "dc125ca7-e653-41b1-a110-9eb0c237ce50",
   "metadata": {},
   "outputs": [],
   "source": [
    "class FrequencyLogger(object):\n",
    "    \"\"\"\n",
    "    Log current, min and max of frequency value\n",
    "    \"\"\"\n",
    "\n",
    "    def __init__(self):\n",
    "        pass\n",
    "\n",
    "    def run(self):\n",
    "        pass\n",
    "\n"
   ]
  },
  {
   "cell_type": "code",
   "execution_count": null,
   "id": "0c610d82-d1d3-4a13-853d-ac7d0411956a",
   "metadata": {},
   "outputs": [],
   "source": []
  },
  {
   "cell_type": "markdown",
   "id": "e885e6f8-b49b-46dd-a39f-e3bd9e8a0373",
   "metadata": {},
   "source": [
    "## Shutdown"
   ]
  },
  {
   "cell_type": "code",
   "execution_count": null,
   "id": "30e9c5f3-1cb8-441d-986e-adfb54831aa1",
   "metadata": {},
   "outputs": [],
   "source": [
    "\n",
    "    def shutdown(self):\n",
    "        if self.fps_list:\n",
    "            logger.info(f\"fps (min/max) = {min(self.fps_list):2d} / {max(self.fps_list):2d}\")\n",
    "            logger.info(f\"fps list = {self.fps_list}\".format())"
   ]
  }
 ],
 "metadata": {
  "kernelspec": {
   "display_name": "Python 3 (ipykernel)",
   "language": "python",
   "name": "python3"
  },
  "language_info": {
   "codemirror_mode": {
    "name": "ipython",
    "version": 3
   },
   "file_extension": ".py",
   "mimetype": "text/x-python",
   "name": "python",
   "nbconvert_exporter": "python",
   "pygments_lexer": "ipython3",
   "version": "3.9.2"
  }
 },
 "nbformat": 4,
 "nbformat_minor": 5
}
