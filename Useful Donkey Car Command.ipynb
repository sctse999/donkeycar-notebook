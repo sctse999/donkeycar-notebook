{
 "cells": [
  {
   "cell_type": "markdown",
   "id": "ac4aed98-d3db-4182-845f-3241630985a1",
   "metadata": {},
   "source": [
    "# Useful donkey car command"
   ]
  },
  {
   "cell_type": "markdown",
   "id": "cefe4683-dfd2-42e7-8fd5-c6e06d002b00",
   "metadata": {},
   "source": [
    "## Start Donkey Car"
   ]
  },
  {
   "cell_type": "code",
   "execution_count": null,
   "id": "62a689b4-a586-4e6b-b067-7d44e2ad7dde",
   "metadata": {},
   "outputs": [],
   "source": [
    "%cd ~/mycar"
   ]
  },
  {
   "cell_type": "code",
   "execution_count": null,
   "id": "a9ed35f5-2423-4f17-8154-70db50438f27",
   "metadata": {},
   "outputs": [],
   "source": [
    "!~/env/bin/python manage.py drive"
   ]
  },
  {
   "cell_type": "markdown",
   "id": "4052ec09-d4fc-47c3-aa21-7271eaa858e7",
   "metadata": {},
   "source": [
    "## Start Autopilot"
   ]
  },
  {
   "cell_type": "code",
   "execution_count": null,
   "id": "fe29d24a-4888-42f7-9f78-becb8536691b",
   "metadata": {},
   "outputs": [],
   "source": [
    "!~/env/bin/python manage.py drive --model models/job_53.tflite --type tflite_linear"
   ]
  },
  {
   "cell_type": "markdown",
   "id": "5f7b1910-c12b-4d8f-bf37-9c005668e054",
   "metadata": {},
   "source": [
    "## Train an autopilot"
   ]
  },
  {
   "cell_type": "code",
   "execution_count": null,
   "id": "79cba0e8-72e0-47e7-87a3-735adb3a246a",
   "metadata": {},
   "outputs": [],
   "source": [
    "!donkey train --model models/job_53.tflite --type tflite_linear"
   ]
  }
 ],
 "metadata": {
  "kernelspec": {
   "display_name": "Python 3 (ipykernel)",
   "language": "python",
   "name": "python3"
  },
  "language_info": {
   "codemirror_mode": {
    "name": "ipython",
    "version": 3
   },
   "file_extension": ".py",
   "mimetype": "text/x-python",
   "name": "python",
   "nbconvert_exporter": "python",
   "pygments_lexer": "ipython3",
   "version": "3.11.9"
  }
 },
 "nbformat": 4,
 "nbformat_minor": 5
}
